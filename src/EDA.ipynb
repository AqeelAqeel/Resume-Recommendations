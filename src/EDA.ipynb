{
 "cells": [
  {
   "cell_type": "markdown",
   "id": "2edf635e",
   "metadata": {},
   "source": [
    "## Data Cleaning Steps\n",
    "1. concatenate data\n",
    "2. drop NaN value(s),\n",
    "3. drop duplicate values (only have uniques)\n",
    "4. equalize the parameter sets"
   ]
  },
  {
   "cell_type": "code",
   "execution_count": 26,
   "id": "fb1f6751",
   "metadata": {},
   "outputs": [],
   "source": [
    "import pandas as pd"
   ]
  },
  {
   "cell_type": "code",
   "execution_count": 38,
   "id": "22bb0254",
   "metadata": {},
   "outputs": [],
   "source": [
    "df1 = pd.read_csv('../data/Joseph_scrape.csv')\n",
    "df2 = pd.read_csv('../data/win_scrape')\n",
    "df3 = pd.read_csv('../data/win_scrape2')\n",
    "df4 = pd.read_csv('../data/New_scrape.csv')\n",
    "df6 = pd.read_csv('../data/Nica_scrape.csv')\n",
    "df7 = pd.read_csv('../data/Nica_scrape.csv')\n",
    "df8 = pd.read_csv('../data/ds_scrape')\n",
    "df9 = pd.read_csv('../data/Nica_scrape1.csv')\n",
    "df10 = pd.read_csv('../data/fa_scrape')\n",
    "df11 = pd.read_csv('../data/chem_scrape')"
   ]
  },
  {
   "cell_type": "code",
   "execution_count": 39,
   "id": "eb357d12",
   "metadata": {},
   "outputs": [],
   "source": [
    "df = pd.concat([df1,df2,df3,df4,df6,df7,df8,df9,df9,df10,df11,])"
   ]
  },
  {
   "cell_type": "code",
   "execution_count": 40,
   "id": "921393e4",
   "metadata": {},
   "outputs": [
    {
     "name": "stdout",
     "output_type": "stream",
     "text": [
      "<class 'pandas.core.frame.DataFrame'>\n",
      "Int64Index: 10268 entries, 0 to 81\n",
      "Data columns (total 5 columns):\n",
      " #   Column        Non-Null Count  Dtype  \n",
      "---  ------        --------------  -----  \n",
      " 0   location      10268 non-null  object \n",
      " 1   job_title     10268 non-null  object \n",
      " 2   job_desc      1977 non-null   object \n",
      " 3   Unnamed: 0    9031 non-null   float64\n",
      " 4   Unnamed: 0.1  82 non-null     float64\n",
      "dtypes: float64(2), object(3)\n",
      "memory usage: 481.3+ KB\n"
     ]
    }
   ],
   "source": [
    "df.info()"
   ]
  },
  {
   "cell_type": "code",
   "execution_count": 41,
   "id": "4f24edad",
   "metadata": {},
   "outputs": [],
   "source": [
    "df=df.drop(columns = [\"location\",\"Unnamed: 0\", \"Unnamed: 0.1\"])\n",
    "df = df.dropna()"
   ]
  },
  {
   "cell_type": "code",
   "execution_count": 42,
   "id": "6835e33c",
   "metadata": {},
   "outputs": [
    {
     "name": "stdout",
     "output_type": "stream",
     "text": [
      "<class 'pandas.core.frame.DataFrame'>\n",
      "Int64Index: 1977 entries, 0 to 81\n",
      "Data columns (total 2 columns):\n",
      " #   Column     Non-Null Count  Dtype \n",
      "---  ------     --------------  ----- \n",
      " 0   job_title  1977 non-null   object\n",
      " 1   job_desc   1977 non-null   object\n",
      "dtypes: object(2)\n",
      "memory usage: 46.3+ KB\n"
     ]
    }
   ],
   "source": [
    "df.info()"
   ]
  },
  {
   "cell_type": "code",
   "execution_count": 44,
   "id": "cbfe96a8",
   "metadata": {},
   "outputs": [],
   "source": [
    "df.to_csv('Cleaned_Job_desc_data')"
   ]
  }
 ],
 "metadata": {
  "kernelspec": {
   "display_name": "Python 3",
   "language": "python",
   "name": "python3"
  },
  "language_info": {
   "codemirror_mode": {
    "name": "ipython",
    "version": 3
   },
   "file_extension": ".py",
   "mimetype": "text/x-python",
   "name": "python",
   "nbconvert_exporter": "python",
   "pygments_lexer": "ipython3",
   "version": "3.8.10"
  }
 },
 "nbformat": 4,
 "nbformat_minor": 5
}
