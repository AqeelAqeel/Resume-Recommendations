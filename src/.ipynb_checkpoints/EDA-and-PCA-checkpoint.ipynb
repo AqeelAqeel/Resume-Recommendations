{
 "cells": [
  {
   "cell_type": "markdown",
   "id": "2edf635e",
   "metadata": {},
   "source": [
    "## Data Cleaning Steps\n",
    "1. concatenate data\n",
    "2. drop NaN value(s),\n",
    "3. drop duplicate values (only have uniques)\n",
    "4. equalize the parameter sets"
   ]
  },
  {
   "cell_type": "code",
   "execution_count": 3,
   "id": "fb1f6751",
   "metadata": {},
   "outputs": [],
   "source": [
    "import pandas as pd"
   ]
  },
  {
   "cell_type": "code",
   "execution_count": 59,
   "id": "22bb0254",
   "metadata": {},
   "outputs": [],
   "source": [
    "df1 = pd.read_csv('../data/Joseph_scrape.csv')\n",
    "df2 = pd.read_csv('../data/win_scrape')\n",
    "df3 = pd.read_csv('../data/win_scrape2')\n",
    "df4 = pd.read_csv('../data/New_scrape.csv')\n",
    "df6 = pd.read_csv('../data/Nica_scrape.csv')\n",
    "df7 = pd.read_csv('../data/Nica_scrape.csv')\n",
    "df8 = pd.read_csv('../data/ds_scrape')\n",
    "df9 = pd.read_csv('../data/Nica_scrape1.csv')\n",
    "df10 = pd.read_csv('../data/fa_scrape')\n",
    "df11 = pd.read_csv('../data/chem_scrape')"
   ]
  },
  {
   "cell_type": "code",
   "execution_count": 60,
   "id": "eb357d12",
   "metadata": {},
   "outputs": [],
   "source": [
    "df = pd.concat([df1,df2,df3,df4,df6,df7,df8,df9,df9,df10,df11,])"
   ]
  },
  {
   "cell_type": "code",
   "execution_count": 61,
   "id": "921393e4",
   "metadata": {},
   "outputs": [
    {
     "name": "stdout",
     "output_type": "stream",
     "text": [
      "<class 'pandas.core.frame.DataFrame'>\n",
      "Int64Index: 10268 entries, 0 to 81\n",
      "Data columns (total 5 columns):\n",
      " #   Column        Non-Null Count  Dtype  \n",
      "---  ------        --------------  -----  \n",
      " 0   location      10268 non-null  object \n",
      " 1   job_title     10268 non-null  object \n",
      " 2   job_desc      1977 non-null   object \n",
      " 3   Unnamed: 0    9031 non-null   float64\n",
      " 4   Unnamed: 0.1  82 non-null     float64\n",
      "dtypes: float64(2), object(3)\n",
      "memory usage: 481.3+ KB\n"
     ]
    }
   ],
   "source": [
    "df.info()"
   ]
  },
  {
   "cell_type": "code",
   "execution_count": 62,
   "id": "4f24edad",
   "metadata": {},
   "outputs": [],
   "source": [
    "df=df.drop(columns = [\"location\",\"Unnamed: 0\", \"Unnamed: 0.1\"])\n",
    "df = df.dropna()"
   ]
  },
  {
   "cell_type": "code",
   "execution_count": 63,
   "id": "62297066",
   "metadata": {},
   "outputs": [
    {
     "name": "stdout",
     "output_type": "stream",
     "text": [
      "<class 'pandas.core.frame.DataFrame'>\n",
      "Int64Index: 1977 entries, 0 to 81\n",
      "Data columns (total 2 columns):\n",
      " #   Column     Non-Null Count  Dtype \n",
      "---  ------     --------------  ----- \n",
      " 0   job_title  1977 non-null   object\n",
      " 1   job_desc   1977 non-null   object\n",
      "dtypes: object(2)\n",
      "memory usage: 46.3+ KB\n"
     ]
    }
   ],
   "source": [
    "df.info()"
   ]
  },
  {
   "cell_type": "code",
   "execution_count": 64,
   "id": "5d9a723f",
   "metadata": {},
   "outputs": [
    {
     "data": {
      "text/plain": [
       "financial+analyst    482\n",
       "data+scientist       371\n",
       "physician            325\n",
       "underwriter          299\n",
       "chemical+engineer    252\n",
       "recruiter            248\n",
       "Name: job_title, dtype: int64"
      ]
     },
     "execution_count": 64,
     "metadata": {},
     "output_type": "execute_result"
    }
   ],
   "source": [
    "df['job_title'].value_counts()"
   ]
  },
  {
   "cell_type": "code",
   "execution_count": 65,
   "id": "d0d1850f",
   "metadata": {},
   "outputs": [
    {
     "data": {
      "text/plain": [
       "financial+analyst    342\n",
       "physician            261\n",
       "recruiter            209\n",
       "underwriter          192\n",
       "chemical+engineer    180\n",
       "data+scientist       170\n",
       "Name: job_title, dtype: int64"
      ]
     },
     "execution_count": 65,
     "metadata": {},
     "output_type": "execute_result"
    }
   ],
   "source": [
    "df = df.drop_duplicates(subset=['job_desc'])\n",
    "df['job_title'].value_counts()"
   ]
  },
  {
   "cell_type": "code",
   "execution_count": 66,
   "id": "4a4f90d4",
   "metadata": {},
   "outputs": [
    {
     "name": "stdout",
     "output_type": "stream",
     "text": [
      "<class 'pandas.core.frame.DataFrame'>\n",
      "Int64Index: 1354 entries, 0 to 79\n",
      "Data columns (total 2 columns):\n",
      " #   Column     Non-Null Count  Dtype \n",
      "---  ------     --------------  ----- \n",
      " 0   job_title  1354 non-null   object\n",
      " 1   job_desc   1354 non-null   object\n",
      "dtypes: object(2)\n",
      "memory usage: 31.7+ KB\n"
     ]
    }
   ],
   "source": [
    "df.info()"
   ]
  },
  {
   "cell_type": "code",
   "execution_count": 67,
   "id": "635891ff",
   "metadata": {},
   "outputs": [],
   "source": [
    "df.to_csv('Cleaned_Job_desc_data')\n",
    "\n"
   ]
  },
  {
   "cell_type": "code",
   "execution_count": 45,
   "id": "46adfdf0",
   "metadata": {},
   "outputs": [
    {
     "data": {
      "text/plain": [
       "financial+analyst    482\n",
       "data+scientist       371\n",
       "physician            325\n",
       "underwriter          299\n",
       "chemical+engineer    252\n",
       "recruiter            248\n",
       "Name: job_title, dtype: int64"
      ]
     },
     "execution_count": 45,
     "metadata": {},
     "output_type": "execute_result"
    }
   ],
   "source": [
    "df = pd.read_csv('../data/Cleaned_Job_desc_data',index_col=0)\n",
    "df.head()\n",
    "df.tail()\n",
    "#Disparity / Class Balance Check\n",
    "df['job_title'].value_counts()"
   ]
  },
  {
   "cell_type": "code",
   "execution_count": 47,
   "id": "730265ef",
   "metadata": {},
   "outputs": [],
   "source": [
    "df = df.loc[df.duplicated(keep='first')]"
   ]
  },
  {
   "cell_type": "code",
   "execution_count": 104,
   "id": "afc08c2d",
   "metadata": {},
   "outputs": [
    {
     "data": {
      "text/plain": [
       "financial+analyst    342\n",
       "physician            261\n",
       "recruiter            209\n",
       "underwriter          192\n",
       "chemical+engineer    180\n",
       "data+scientist       170\n",
       "Name: job_title, dtype: int64"
      ]
     },
     "execution_count": 104,
     "metadata": {},
     "output_type": "execute_result"
    }
   ],
   "source": [
    "df = pd.read_csv('../data/Cleaned_Job_desc_data',index_col=0)\n",
    "df.head()\n",
    "df.tail()\n",
    "#Disparity / Class Balance Check\n",
    "df['job_title'].value_counts()"
   ]
  },
  {
   "cell_type": "code",
   "execution_count": 117,
   "id": "9486cb01",
   "metadata": {},
   "outputs": [],
   "source": [
    "df2 = pd.read_csv('../data/uw_2_scrape')\n",
    "df3 = pd.read_csv('../data/ds_2_scrape')\n",
    "df4 = pd.read_csv('../data/chem_2_scrape')"
   ]
  },
  {
   "cell_type": "code",
   "execution_count": 118,
   "id": "bfd6d4b3",
   "metadata": {},
   "outputs": [
    {
     "data": {
      "text/plain": [
       "'At Houston Methodist, the Data Scientist position is responsible for addressing the best uses of data science and informatics development for providing a competitive advantage or addressing pressing clinical or business problems in Houston Methodist Hospital (HMH) and Houston Methodist Academic Institute (HMAI) operations and care, as well as to communicate informed conclusions and recommendations across an organization’s leadership structure. The data scientist will review clinical and research data so as to understand and report on the needs surrounding clinical, financial, operational, population health, social, behavior, and marketing data. Works closely with physicians, care givers, hospital staff, administrators, and other stakeholders to implement projects of clinical and business benefits. Requirements: PRIMARY JOB RESPONSIBILITIES Job responsibilities labeled EF capture those duties that are essential functions of the job. PEOPLE - 15% Maintains client relationships as assigned and leads the delivery of innovative strategies and solutions. (EF) Presents project progress and results to key stakeholders. (EF) Partners in collaboration with leadership of the service lines/specialty areas to promote staff accountability and effective decision-making. (EF) SERVICE - 35% Analyzes health care data using basic and advanced statistical methodologies; interprets results for investigators and prepares reports. (EF) Drives data analytical insight across the organization. (EF) Identifies data elements within the clinical/health/research databases for analytics and decision support. (EF) Maintains database results by setting and enforcing standards and controls. Makes revisions to data entry screens and data checks; reviewes and resolves data discrepencies. (EF) Translates finding into implementable informatic solutions with the clinicians, hospital and research administration or other key stakeholders. (EF) QUALITY/SAFETY - 20% Responsible for accuracy and timeliness of data input into reports and decisions. (EF) Identifies and correct flaws in interpretation of results, inconsistency in presentation or inference. (EF) FINANCE - 10% Uses department resources/equipment/supplies properly and efficiently. (EF) Manages the continuous improvement of clinical, research, and operational data and analytics. (EF) GROWTH/INNOVATION - 20% Seeks opportunities to expand learning beyond baseline competencies with a focus on continual process improvements. (EF) Assumes responsibility for self-growth and development by participating in in-service programs and continuing education. (EF) Consults with hospital and research staff regarding process improvement, delivery of best outcomes, decision supports, data insights, and recommendations. (EF) This job description is not intended to be all inclusive; the employee will also perform other reasonably related business/job duties as assigned. Houston Methodist reserves the right to revise job duties and responsibilities as the need arises. Qualifications: EDUCATION REQUIREMENTS o Master’s Degree in Computer Science, Clinical Informatics, Public Health Administration, Business Administration, or Engineering or MD with experience in Computing, Informatics, and Statistics EXPERIENCE REQUIREMENTS o Four years of experience in data analytics and/or database management in a healthcare organization  CERTIFICATIONS, LICENSES AND REGISTRATIONS REQUIRED o None  KNOWLEDGE, SKILLS AND ABILITIES REQUIRED o Demonstrates the skills and competencies necessary to safely perform the assigned job, determined through on-going skills, competency assessments, and performance evaluations o Sufficient proficiency in speaking, reading, and writing the English language necessary to perform the essential functions of this job, especially with regard to activities impacting patient or employee safety or security o Ability to effectively communicate with patients, physicians, family members and co-workers in a manner consistent with a customer service focus and application of positive language principles o Experience in clinical, research, and or healthcare administration o Skilled in statistical, database, and algorithm modeling preferred o Skilled with implementing and managing Health IT software, prototyping and applications o Knowledge of process mapping and analytics o Knowledge of clinical/health data integration in a health care IT environment o Ability to perform exploratory data analysis o Ability to communicate complicated, technical concepts to non-technical stakeholders SUPPLEMENTAL REQUIREMENTS Work Attire Yes/No Uniform No Scrubs No Business professional Yes Other (dept approved) No On-Call* No Note that employees may be required to be on-call during emergencies (ie. Disaster, Severe Weather Event, etc) regardless of selection above. Travel** May require travel within No Houston Metropolitan area May require travel outside No of Houston Metropolitan area **Travel specifications may vary by department. Please note any other special considerations to this job: __________________________ Company Profile: Houston Methodist Specialty Physician Group is comprised of more than 500 doctors committed to delivering personalized, patient-focused care to the Houston community and beyond. Our priority is to make sure every patient is heard and supported throughout his or her experience with us. Patients who choose the specialty physician group also benefit from our coordinated-care approach, which places a wealth of highly qualified specialists and resources at their service, all committed to the high standard of care patients have come to expect from Houston Methodist. APPLY'"
      ]
     },
     "execution_count": 118,
     "metadata": {},
     "output_type": "execute_result"
    }
   ],
   "source": [
    "df3['job_desc'][5].replace(\"\\n\",\" \")"
   ]
  },
  {
   "cell_type": "code",
   "execution_count": 116,
   "id": "fe4dc67d",
   "metadata": {},
   "outputs": [
    {
     "data": {
      "text/html": [
       "<div>\n",
       "<style scoped>\n",
       "    .dataframe tbody tr th:only-of-type {\n",
       "        vertical-align: middle;\n",
       "    }\n",
       "\n",
       "    .dataframe tbody tr th {\n",
       "        vertical-align: top;\n",
       "    }\n",
       "\n",
       "    .dataframe thead th {\n",
       "        text-align: right;\n",
       "    }\n",
       "</style>\n",
       "<table border=\"1\" class=\"dataframe\">\n",
       "  <thead>\n",
       "    <tr style=\"text-align: right;\">\n",
       "      <th></th>\n",
       "      <th>Unnamed: 0</th>\n",
       "      <th>location</th>\n",
       "      <th>job_title</th>\n",
       "      <th>job_desc</th>\n",
       "    </tr>\n",
       "  </thead>\n",
       "  <tbody>\n",
       "    <tr>\n",
       "      <th>0</th>\n",
       "      <td>0</td>\n",
       "      <td>Houston</td>\n",
       "      <td>physician</td>\n",
       "      <td>Texas Children’s Urgent Care offers high-quali...</td>\n",
       "    </tr>\n",
       "    <tr>\n",
       "      <th>1</th>\n",
       "      <td>1</td>\n",
       "      <td>Houston</td>\n",
       "      <td>physician</td>\n",
       "      <td>Location:\\nHouston Methodist Specialty Physici...</td>\n",
       "    </tr>\n",
       "    <tr>\n",
       "      <th>2</th>\n",
       "      <td>2</td>\n",
       "      <td>Houston</td>\n",
       "      <td>physician</td>\n",
       "      <td>At Houston Methodist, the Physician Assistant ...</td>\n",
       "    </tr>\n",
       "    <tr>\n",
       "      <th>3</th>\n",
       "      <td>3</td>\n",
       "      <td>Houston</td>\n",
       "      <td>physician</td>\n",
       "      <td>A career with the U.S. Government provides emp...</td>\n",
       "    </tr>\n",
       "    <tr>\n",
       "      <th>4</th>\n",
       "      <td>4</td>\n",
       "      <td>Houston</td>\n",
       "      <td>physician</td>\n",
       "      <td>Location:\\nHouston Methodist Specialty Physici...</td>\n",
       "    </tr>\n",
       "    <tr>\n",
       "      <th>...</th>\n",
       "      <td>...</td>\n",
       "      <td>...</td>\n",
       "      <td>...</td>\n",
       "      <td>...</td>\n",
       "    </tr>\n",
       "    <tr>\n",
       "      <th>646</th>\n",
       "      <td>646</td>\n",
       "      <td>Charlotte</td>\n",
       "      <td>physician</td>\n",
       "      <td>NaN</td>\n",
       "    </tr>\n",
       "    <tr>\n",
       "      <th>647</th>\n",
       "      <td>647</td>\n",
       "      <td>Charlotte</td>\n",
       "      <td>physician</td>\n",
       "      <td>NaN</td>\n",
       "    </tr>\n",
       "    <tr>\n",
       "      <th>648</th>\n",
       "      <td>648</td>\n",
       "      <td>Charlotte</td>\n",
       "      <td>physician</td>\n",
       "      <td>Dynamic Neonatologist opportunity just south o...</td>\n",
       "    </tr>\n",
       "    <tr>\n",
       "      <th>649</th>\n",
       "      <td>649</td>\n",
       "      <td>Charlotte</td>\n",
       "      <td>physician</td>\n",
       "      <td>Overview:\\n\\nOncology Physician opportunities ...</td>\n",
       "    </tr>\n",
       "    <tr>\n",
       "      <th>650</th>\n",
       "      <td>650</td>\n",
       "      <td>Charlotte</td>\n",
       "      <td>physician</td>\n",
       "      <td>Job Description\\n\\nThriveworks is seeking a Su...</td>\n",
       "    </tr>\n",
       "  </tbody>\n",
       "</table>\n",
       "<p>651 rows × 4 columns</p>\n",
       "</div>"
      ],
      "text/plain": [
       "     Unnamed: 0   location  job_title  \\\n",
       "0             0    Houston  physician   \n",
       "1             1    Houston  physician   \n",
       "2             2    Houston  physician   \n",
       "3             3    Houston  physician   \n",
       "4             4    Houston  physician   \n",
       "..          ...        ...        ...   \n",
       "646         646  Charlotte  physician   \n",
       "647         647  Charlotte  physician   \n",
       "648         648  Charlotte  physician   \n",
       "649         649  Charlotte  physician   \n",
       "650         650  Charlotte  physician   \n",
       "\n",
       "                                              job_desc  \n",
       "0    Texas Children’s Urgent Care offers high-quali...  \n",
       "1    Location:\\nHouston Methodist Specialty Physici...  \n",
       "2    At Houston Methodist, the Physician Assistant ...  \n",
       "3    A career with the U.S. Government provides emp...  \n",
       "4    Location:\\nHouston Methodist Specialty Physici...  \n",
       "..                                                 ...  \n",
       "646                                                NaN  \n",
       "647                                                NaN  \n",
       "648  Dynamic Neonatologist opportunity just south o...  \n",
       "649  Overview:\\n\\nOncology Physician opportunities ...  \n",
       "650  Job Description\\n\\nThriveworks is seeking a Su...  \n",
       "\n",
       "[651 rows x 4 columns]"
      ]
     },
     "execution_count": 116,
     "metadata": {},
     "output_type": "execute_result"
    }
   ],
   "source": [
    "df2['job_title'].value_counts()\n",
    "df2"
   ]
  },
  {
   "cell_type": "code",
   "execution_count": 2,
   "id": "71330933",
   "metadata": {},
   "outputs": [
    {
     "ename": "NameError",
     "evalue": "name 'pd' is not defined",
     "output_type": "error",
     "traceback": [
      "\u001b[0;31m---------------------------------------------------------------------------\u001b[0m",
      "\u001b[0;31mNameError\u001b[0m                                 Traceback (most recent call last)",
      "\u001b[0;32m<ipython-input-2-af11e886b2ba>\u001b[0m in \u001b[0;36m<module>\u001b[0;34m\u001b[0m\n\u001b[0;32m----> 1\u001b[0;31m \u001b[0mdf\u001b[0m \u001b[0;34m=\u001b[0m \u001b[0mpd\u001b[0m\u001b[0;34m.\u001b[0m\u001b[0mconcat\u001b[0m\u001b[0;34m(\u001b[0m\u001b[0;34m[\u001b[0m\u001b[0mdf\u001b[0m\u001b[0;34m,\u001b[0m\u001b[0mdf1\u001b[0m\u001b[0;34m,\u001b[0m\u001b[0mdf2\u001b[0m\u001b[0;34m,\u001b[0m\u001b[0mdf3\u001b[0m\u001b[0;34m,\u001b[0m\u001b[0mdf4\u001b[0m\u001b[0;34m]\u001b[0m\u001b[0;34m)\u001b[0m\u001b[0;34m\u001b[0m\u001b[0;34m\u001b[0m\u001b[0m\n\u001b[0m",
      "\u001b[0;31mNameError\u001b[0m: name 'pd' is not defined"
     ]
    }
   ],
   "source": [
    "df = pd.concat([df,df1,df2,df3,df4])"
   ]
  },
  {
   "cell_type": "code",
   "execution_count": 108,
   "id": "19e9c5a5",
   "metadata": {},
   "outputs": [
    {
     "data": {
      "text/plain": [
       "physician            912\n",
       "data+scientist       516\n",
       "chemical+engineer    478\n",
       "financial+analyst    342\n",
       "recruiter            209\n",
       "underwriter          192\n",
       "Name: job_title, dtype: int64"
      ]
     },
     "execution_count": 108,
     "metadata": {},
     "output_type": "execute_result"
    }
   ],
   "source": [
    "df['job_title'].value_counts()"
   ]
  },
  {
   "cell_type": "code",
   "execution_count": 109,
   "id": "ac0d7cc8",
   "metadata": {},
   "outputs": [
    {
     "name": "stdout",
     "output_type": "stream",
     "text": [
      "<class 'pandas.core.frame.DataFrame'>\n",
      "Int64Index: 2649 entries, 0 to 297\n",
      "Data columns (total 6 columns):\n",
      " #   Column          Non-Null Count  Dtype  \n",
      "---  ------          --------------  -----  \n",
      " 0   job_title       2649 non-null   object \n",
      " 1   job_desc        2477 non-null   object \n",
      " 2   Unnamed: 0      1295 non-null   float64\n",
      " 3   Unnamed: 0.1    644 non-null    float64\n",
      " 4   location        1295 non-null   object \n",
      " 5   Unnamed: 0.1.1  471 non-null    float64\n",
      "dtypes: float64(3), object(3)\n",
      "memory usage: 144.9+ KB\n"
     ]
    }
   ],
   "source": [
    "df.info()"
   ]
  },
  {
   "cell_type": "code",
   "execution_count": 110,
   "id": "ee94a426",
   "metadata": {},
   "outputs": [],
   "source": [
    "df=df.drop(columns = [\"location\",\"Unnamed: 0\", \"Unnamed: 0.1\",\"Unnamed: 0.1.1\"])\n",
    "df = df.dropna()"
   ]
  },
  {
   "cell_type": "code",
   "execution_count": 111,
   "id": "112bf1b2",
   "metadata": {
    "scrolled": true
   },
   "outputs": [
    {
     "name": "stdout",
     "output_type": "stream",
     "text": [
      "<class 'pandas.core.frame.DataFrame'>\n",
      "Int64Index: 2477 entries, 0 to 297\n",
      "Data columns (total 2 columns):\n",
      " #   Column     Non-Null Count  Dtype \n",
      "---  ------     --------------  ----- \n",
      " 0   job_title  2477 non-null   object\n",
      " 1   job_desc   2477 non-null   object\n",
      "dtypes: object(2)\n",
      "memory usage: 58.1+ KB\n"
     ]
    }
   ],
   "source": [
    "df.info()"
   ]
  },
  {
   "cell_type": "code",
   "execution_count": 112,
   "id": "3b2e2ad7",
   "metadata": {},
   "outputs": [
    {
     "data": {
      "text/plain": [
       "physician            740\n",
       "data+scientist       516\n",
       "chemical+engineer    478\n",
       "financial+analyst    342\n",
       "recruiter            209\n",
       "underwriter          192\n",
       "Name: job_title, dtype: int64"
      ]
     },
     "execution_count": 112,
     "metadata": {},
     "output_type": "execute_result"
    }
   ],
   "source": [
    "df['job_title'].value_counts()"
   ]
  },
  {
   "cell_type": "code",
   "execution_count": 113,
   "id": "b22d32ff",
   "metadata": {},
   "outputs": [
    {
     "data": {
      "text/plain": [
       "physician            598\n",
       "chemical+engineer    365\n",
       "financial+analyst    342\n",
       "data+scientist       299\n",
       "recruiter            209\n",
       "underwriter          192\n",
       "Name: job_title, dtype: int64"
      ]
     },
     "execution_count": 113,
     "metadata": {},
     "output_type": "execute_result"
    }
   ],
   "source": [
    "df = df.drop_duplicates(subset=['job_desc'])\n",
    "df['job_title'].value_counts()"
   ]
  },
  {
   "cell_type": "code",
   "execution_count": 5,
   "id": "3e0ce7b9",
   "metadata": {},
   "outputs": [],
   "source": [
    "new_df1 = pd.read_csv('../data/newscrape_ds_1')\n",
    "new_df2 = pd.read_csv('../data/newscrape_fa_1')\n",
    "new_df3 = pd.read_csv('../data/newscrape_uw_ce_1')\n",
    "new_df4 = pd.read_csv('../data/newscrape_ph_ur_1')\n",
    "new_df5 = pd.read_csv('../data/newscrape_fa_rc_2')\n",
    "new_df6 = pd.read_csv('../data/newscrape_ds_2')\n",
    "old_df = pd.read_csv('../data/Cleaned_Job_desc_data')"
   ]
  },
  {
   "cell_type": "code",
   "execution_count": 6,
   "id": "849da40f",
   "metadata": {},
   "outputs": [],
   "source": [
    "new_df = pd.concat([new_df1,new_df2,new_df3,new_df4,new_df5,new_df6,old_df])"
   ]
  },
  {
   "cell_type": "code",
   "execution_count": 7,
   "id": "ea866d01",
   "metadata": {},
   "outputs": [
    {
     "name": "stdout",
     "output_type": "stream",
     "text": [
      "<class 'pandas.core.frame.DataFrame'>\n",
      "Int64Index: 13142 entries, 0 to 1353\n",
      "Data columns (total 7 columns):\n",
      " #   Column          Non-Null Count  Dtype  \n",
      "---  ------          --------------  -----  \n",
      " 0   Unnamed: 0      13142 non-null  int64  \n",
      " 1   Unnamed: 0.1    11228 non-null  float64\n",
      " 2   location        11788 non-null  object \n",
      " 3   job_title       13142 non-null  object \n",
      " 4   url             11788 non-null  object \n",
      " 5   job_desc        10409 non-null  object \n",
      " 6   Unnamed: 0.1.1  2431 non-null   float64\n",
      "dtypes: float64(2), int64(1), object(4)\n",
      "memory usage: 821.4+ KB\n"
     ]
    }
   ],
   "source": [
    "new_df.info()"
   ]
  },
  {
   "cell_type": "code",
   "execution_count": 8,
   "id": "c7279493",
   "metadata": {},
   "outputs": [
    {
     "data": {
      "text/plain": [
       "financial+analyst       3617\n",
       "data+scientist          2748\n",
       "physician               1723\n",
       "underwriter             1595\n",
       "recruiter               1517\n",
       "chemical+engineer       1208\n",
       "university+recruiter     734\n",
       "Name: job_title, dtype: int64"
      ]
     },
     "execution_count": 8,
     "metadata": {},
     "output_type": "execute_result"
    }
   ],
   "source": [
    "new_df['job_title'].value_counts()"
   ]
  },
  {
   "cell_type": "code",
   "execution_count": 9,
   "id": "894f0a97",
   "metadata": {},
   "outputs": [],
   "source": [
    "new_df=new_df.drop(columns = [\"Unnamed: 0\", \"Unnamed: 0.1\",\"Unnamed: 0.1.1\"])\n",
    "new_df = new_df.dropna()"
   ]
  },
  {
   "cell_type": "code",
   "execution_count": 10,
   "id": "9905d2ad",
   "metadata": {},
   "outputs": [
    {
     "name": "stdout",
     "output_type": "stream",
     "text": [
      "<class 'pandas.core.frame.DataFrame'>\n",
      "Int64Index: 9055 entries, 0 to 2041\n",
      "Data columns (total 4 columns):\n",
      " #   Column     Non-Null Count  Dtype \n",
      "---  ------     --------------  ----- \n",
      " 0   location   9055 non-null   object\n",
      " 1   job_title  9055 non-null   object\n",
      " 2   url        9055 non-null   object\n",
      " 3   job_desc   9055 non-null   object\n",
      "dtypes: object(4)\n",
      "memory usage: 353.7+ KB\n"
     ]
    }
   ],
   "source": [
    "new_df.info()\n"
   ]
  },
  {
   "cell_type": "code",
   "execution_count": 11,
   "id": "0a619400",
   "metadata": {},
   "outputs": [
    {
     "data": {
      "text/plain": [
       "data+scientist          1597\n",
       "financial+analyst       1523\n",
       "physician               1462\n",
       "underwriter             1403\n",
       "recruiter               1308\n",
       "chemical+engineer       1028\n",
       "university+recruiter     734\n",
       "Name: job_title, dtype: int64"
      ]
     },
     "execution_count": 11,
     "metadata": {},
     "output_type": "execute_result"
    }
   ],
   "source": [
    "new_df['job_title'].value_counts()"
   ]
  },
  {
   "cell_type": "code",
   "execution_count": 12,
   "id": "633d86f0",
   "metadata": {},
   "outputs": [
    {
     "data": {
      "text/html": [
       "<div>\n",
       "<style scoped>\n",
       "    .dataframe tbody tr th:only-of-type {\n",
       "        vertical-align: middle;\n",
       "    }\n",
       "\n",
       "    .dataframe tbody tr th {\n",
       "        vertical-align: top;\n",
       "    }\n",
       "\n",
       "    .dataframe thead th {\n",
       "        text-align: right;\n",
       "    }\n",
       "</style>\n",
       "<table border=\"1\" class=\"dataframe\">\n",
       "  <thead>\n",
       "    <tr style=\"text-align: right;\">\n",
       "      <th></th>\n",
       "      <th>location</th>\n",
       "      <th>job_title</th>\n",
       "      <th>url</th>\n",
       "      <th>job_desc</th>\n",
       "    </tr>\n",
       "  </thead>\n",
       "  <tbody>\n",
       "    <tr>\n",
       "      <th>0</th>\n",
       "      <td>Houston</td>\n",
       "      <td>data+scientist</td>\n",
       "      <td>https://www.indeed.com/pagead/clk?mo=r&amp;ad=-6NY...</td>\n",
       "      <td>Click “Apply on Company Website” and our recru...</td>\n",
       "    </tr>\n",
       "    <tr>\n",
       "      <th>1</th>\n",
       "      <td>Houston</td>\n",
       "      <td>data+scientist</td>\n",
       "      <td>https://www.indeed.com/pagead/clk?mo=r&amp;ad=-6NY...</td>\n",
       "      <td>Overview: Responsible for discovering insights...</td>\n",
       "    </tr>\n",
       "    <tr>\n",
       "      <th>2</th>\n",
       "      <td>Houston</td>\n",
       "      <td>data+scientist</td>\n",
       "      <td>https://www.indeed.com/rc/clk?jk=cdd0f3d04580c...</td>\n",
       "      <td>Bachelor’s degree in a highly quantitative fi...</td>\n",
       "    </tr>\n",
       "    <tr>\n",
       "      <th>3</th>\n",
       "      <td>Houston</td>\n",
       "      <td>data+scientist</td>\n",
       "      <td>https://www.indeed.com/rc/clk?jk=acf0d59fc2f76...</td>\n",
       "      <td>Position Summary:  The Data Scientist – Level ...</td>\n",
       "    </tr>\n",
       "    <tr>\n",
       "      <th>4</th>\n",
       "      <td>Houston</td>\n",
       "      <td>data+scientist</td>\n",
       "      <td>https://www.indeed.com/rc/clk?jk=696e20a4c49a9...</td>\n",
       "      <td>SUMMARY   The primary purpose of the Data Scie...</td>\n",
       "    </tr>\n",
       "    <tr>\n",
       "      <th>...</th>\n",
       "      <td>...</td>\n",
       "      <td>...</td>\n",
       "      <td>...</td>\n",
       "      <td>...</td>\n",
       "    </tr>\n",
       "    <tr>\n",
       "      <th>2035</th>\n",
       "      <td>Austin</td>\n",
       "      <td>data+scientist</td>\n",
       "      <td>https://www.indeed.com/rc/clk?jk=86a4d781dc5bc...</td>\n",
       "      <td>No Relocation Benefits</td>\n",
       "    </tr>\n",
       "    <tr>\n",
       "      <th>2037</th>\n",
       "      <td>Austin</td>\n",
       "      <td>data+scientist</td>\n",
       "      <td>https://www.indeed.com/rc/clk?jk=afd01630ff06b...</td>\n",
       "      <td>Mathematician I Are you ready to be part of so...</td>\n",
       "    </tr>\n",
       "    <tr>\n",
       "      <th>2038</th>\n",
       "      <td>Austin</td>\n",
       "      <td>data+scientist</td>\n",
       "      <td>https://www.indeed.com/rc/clk?jk=ed63bf805824b...</td>\n",
       "      <td>The Role: Data Scientist  The Location: Office...</td>\n",
       "    </tr>\n",
       "    <tr>\n",
       "      <th>2040</th>\n",
       "      <td>Austin</td>\n",
       "      <td>data+scientist</td>\n",
       "      <td>https://www.indeed.com/rc/clk?jk=afd01630ff06b...</td>\n",
       "      <td>Mathematician I Are you ready to be part of so...</td>\n",
       "    </tr>\n",
       "    <tr>\n",
       "      <th>2041</th>\n",
       "      <td>Austin</td>\n",
       "      <td>data+scientist</td>\n",
       "      <td>https://www.indeed.com/rc/clk?jk=ed63bf805824b...</td>\n",
       "      <td>The Role: Data Scientist  The Location: Office...</td>\n",
       "    </tr>\n",
       "  </tbody>\n",
       "</table>\n",
       "<p>9055 rows × 4 columns</p>\n",
       "</div>"
      ],
      "text/plain": [
       "     location       job_title  \\\n",
       "0     Houston  data+scientist   \n",
       "1     Houston  data+scientist   \n",
       "2     Houston  data+scientist   \n",
       "3     Houston  data+scientist   \n",
       "4     Houston  data+scientist   \n",
       "...       ...             ...   \n",
       "2035   Austin  data+scientist   \n",
       "2037   Austin  data+scientist   \n",
       "2038   Austin  data+scientist   \n",
       "2040   Austin  data+scientist   \n",
       "2041   Austin  data+scientist   \n",
       "\n",
       "                                                    url  \\\n",
       "0     https://www.indeed.com/pagead/clk?mo=r&ad=-6NY...   \n",
       "1     https://www.indeed.com/pagead/clk?mo=r&ad=-6NY...   \n",
       "2     https://www.indeed.com/rc/clk?jk=cdd0f3d04580c...   \n",
       "3     https://www.indeed.com/rc/clk?jk=acf0d59fc2f76...   \n",
       "4     https://www.indeed.com/rc/clk?jk=696e20a4c49a9...   \n",
       "...                                                 ...   \n",
       "2035  https://www.indeed.com/rc/clk?jk=86a4d781dc5bc...   \n",
       "2037  https://www.indeed.com/rc/clk?jk=afd01630ff06b...   \n",
       "2038  https://www.indeed.com/rc/clk?jk=ed63bf805824b...   \n",
       "2040  https://www.indeed.com/rc/clk?jk=afd01630ff06b...   \n",
       "2041  https://www.indeed.com/rc/clk?jk=ed63bf805824b...   \n",
       "\n",
       "                                               job_desc  \n",
       "0     Click “Apply on Company Website” and our recru...  \n",
       "1     Overview: Responsible for discovering insights...  \n",
       "2      Bachelor’s degree in a highly quantitative fi...  \n",
       "3     Position Summary:  The Data Scientist – Level ...  \n",
       "4     SUMMARY   The primary purpose of the Data Scie...  \n",
       "...                                                 ...  \n",
       "2035                             No Relocation Benefits  \n",
       "2037  Mathematician I Are you ready to be part of so...  \n",
       "2038  The Role: Data Scientist  The Location: Office...  \n",
       "2040  Mathematician I Are you ready to be part of so...  \n",
       "2041  The Role: Data Scientist  The Location: Office...  \n",
       "\n",
       "[9055 rows x 4 columns]"
      ]
     },
     "execution_count": 12,
     "metadata": {},
     "output_type": "execute_result"
    }
   ],
   "source": [
    "new_df"
   ]
  },
  {
   "cell_type": "code",
   "execution_count": 159,
   "id": "d6b35e5c",
   "metadata": {},
   "outputs": [],
   "source": [
    "new_df[new_df['job_tile']=='data+scientist'] "
   ]
  },
  {
   "cell_type": "code",
   "execution_count": 36,
   "id": "74aff2b3",
   "metadata": {},
   "outputs": [
    {
     "name": "stdout",
     "output_type": "stream",
     "text": [
      "<class 'pandas.core.frame.DataFrame'>\n",
      "RangeIndex: 9055 entries, 0 to 9054\n",
      "Data columns (total 4 columns):\n",
      " #   Column      Non-Null Count  Dtype \n",
      "---  ------      --------------  ----- \n",
      " 0   Unnamed: 0  9055 non-null   int64 \n",
      " 1   job_title   9055 non-null   object\n",
      " 2   url         9055 non-null   object\n",
      " 3   job_desc    9055 non-null   object\n",
      "dtypes: int64(1), object(3)\n",
      "memory usage: 283.1+ KB\n"
     ]
    },
    {
     "data": {
      "text/plain": [
       "data+scientist          1597\n",
       "financial+analyst       1523\n",
       "physician               1462\n",
       "underwriter             1403\n",
       "recruiter               1308\n",
       "chemical+engineer       1028\n",
       "university+recruiter     734\n",
       "Name: job_title, dtype: int64"
      ]
     },
     "execution_count": 36,
     "metadata": {},
     "output_type": "execute_result"
    }
   ],
   "source": [
    "df = pd.read_csv('../data/Job_descriptions')\n",
    "df.info()\n",
    "df['job_title'].value_counts()"
   ]
  },
  {
   "cell_type": "code",
   "execution_count": 39,
   "id": "106c983e",
   "metadata": {},
   "outputs": [],
   "source": [
    "df['job_title'].replace({'university+recruiter': 'Recruiter','recruiter':'Recruiter','data+scientist': 'Data Scientist', 'financial+analyst': 'Financial Analyst', 'chemical+engineer': 'Chemical Engineer', 'physician': 'Physician', 'underwriter': 'Underwriter'}, inplace = True)"
   ]
  },
  {
   "cell_type": "code",
   "execution_count": 53,
   "id": "92a55b5b",
   "metadata": {},
   "outputs": [
    {
     "data": {
      "text/plain": [
       "Recruiter            2042\n",
       "Data Scientist       1597\n",
       "Financial Analyst    1523\n",
       "Physician            1462\n",
       "Underwriter          1403\n",
       "Chemical Engineer    1028\n",
       "Name: job_title, dtype: int64"
      ]
     },
     "execution_count": 53,
     "metadata": {},
     "output_type": "execute_result"
    }
   ],
   "source": [
    "df['job_title'].value_counts()"
   ]
  },
  {
   "cell_type": "code",
   "execution_count": 54,
   "id": "2575dbd4",
   "metadata": {},
   "outputs": [],
   "source": [
    "df.to_csv('cleaned_job_descriptions')"
   ]
  },
  {
   "cell_type": "code",
   "execution_count": 42,
   "id": "8ec7ae4e",
   "metadata": {},
   "outputs": [
    {
     "data": {
      "text/plain": [
       "<Figure size 576x432 with 0 Axes>"
      ]
     },
     "metadata": {},
     "output_type": "display_data"
    },
    {
     "data": {
      "image/png": "[encoded data removed]",
      "text/plain": [
       "<Figure size 432x288 with 1 Axes>"
      ]
     },
     "metadata": {
      "needs_background": "light"
     },
     "output_type": "display_data"
    }
   ],
   "source": [
    "import matplotlib.pyplot as plt\n",
    "fig = plt.figure(figsize=(8,6))\n",
    "df[[\"job_title\", \"job_desc\"]].groupby('job_title').count().plot.bar(ylim=0)\n",
    "plt.show()"
   ]
  },
  {
   "cell_type": "markdown",
   "id": "fe752747",
   "metadata": {},
   "source": [
    "# PCA and Clustering"
   ]
  },
  {
   "cell_type": "code",
   "execution_count": 55,
   "id": "e6417d16",
   "metadata": {},
   "outputs": [],
   "source": [
    "import numpy as np\n",
    "from sklearn.cluster import KMeans\n",
    "from sklearn.decomposition import PCA\n",
    "import matplotlib.pyplot as plt\n",
    "from sklearn.feature_extraction.text import TfidfVectorizer\n",
    "import nltk\n",
    "from nltk.stem import WordNetLemmatizer\n",
    "from nltk.tokenize import RegexpTokenizer\n",
    "from nltk.corpus import stopwords\n",
    "from nltk.corpus import wordnet\n",
    "from sklearn.metrics.pairwise import euclidean_distances\n",
    "from sklearn.metrics import silhouette_score"
   ]
  },
  {
   "cell_type": "code",
   "execution_count": 56,
   "id": "2572a153",
   "metadata": {},
   "outputs": [],
   "source": [
    "def remove_stopwords(stopWoFinancrds, descriptions):\n",
    "    cleaned_descriptions = []\n",
    "    for description in descriptions:\n",
    "        temp_list = []\n",
    "        for word in description.split():\n",
    "            if word not in stopWords:\n",
    "                temp_list.append(word.lower())\n",
    "        cleaned_descriptions.append(' '.join(temp_list))\n",
    "    return np.array(cleaned_descriptions)\n",
    "\n",
    "def remove_punctuation(descriptions):\n",
    "    no_punct_descriptions = []\n",
    "    for description in descriptions:\n",
    "        description_no_punct = ' '.join(RegexpTokenizer(r'\\w+').tokenize(description))\n",
    "        no_punct_descriptions.append(description_no_punct)\n",
    "    return np.array(no_punct_descriptions)\n",
    "\n",
    "def get_wordnet_pos(word):\n",
    "    # nltk.download()\n",
    "\n",
    "    tag = nltk.pos_tag([word])[0][1][0].upper()\n",
    "    tag_dict = {'J': wordnet.ADJ,\n",
    "               'N': wordnet.NOUN,\n",
    "               'V': wordnet.VERB,\n",
    "               'R': wordnet.ADV}\n",
    "    return tag_dict.get(tag, wordnet.NOUN)\n",
    "\n",
    "def lemmatize_descriptions(descriptions):\n",
    "    cleaned_descriptions = []\n",
    "    for description in descriptions:\n",
    "        temp_list = []\n",
    "        for word in description.split():\n",
    "            cleaned_word = WordNetLemmatizer().lemmatize(word, get_wordnet_pos(word))\n",
    "            temp_list.append(cleaned_word)\n",
    "        cleaned_descriptions.append(' '.join(temp_list))\n",
    "    return np.array(cleaned_descriptions)\n",
    "\n",
    "def clean_descriptions(stopWords, descriptions):\n",
    "    no_punct = remove_punctuation(descriptions)\n",
    "    no_punct_sw = remove_stopwords(stopWords, no_punct)\n",
    "    cleaned = lemmatize_descriptions(no_punct_sw)\n",
    "    return cleaned\n",
    "\n",
    "def get_representative_jobs(df, kmeans):\n",
    "    cluster_centers = kmeans.cluster_centers_\n",
    "    for cent in cluster_centers:\n",
    "        print('\\nCluster Represnetations')\n",
    "        dist = euclidean_distances(cent.reshape(1,-1), tfidf)\n",
    "        order = np.argsort(dist)\n",
    "        for o in order[0][:5]:\n",
    "            title = df['job_title'].iloc[o]\n",
    "            print(title)"
   ]
  },
  {
   "cell_type": "code",
   "execution_count": 57,
   "id": "7846369a",
   "metadata": {},
   "outputs": [
    {
     "name": "stdout",
     "output_type": "stream",
     "text": [
      "curr path is:\n",
      "/home/aqeelali7/Documents/Galvanize/Capstone-3-ATS/The-Right-Resume/src\n"
     ]
    }
   ],
   "source": [
    "\n",
    "\n",
    "if __name__ == '__main__':\n",
    "    import os\n",
    "    print(\"curr path is:\")\n",
    "    print(os.getcwd())\n",
    "    \n",
    "    \n",
    "    # Setting targets and training data\n",
    "    descriptions = df['job_desc'].values\n",
    "    targets = df['job_title']\n",
    "    \n",
    "    \n",
    "    # Creating stop words\n",
    "    stopWords = set(stopwords.words('english'))\n",
    "    add_stopwords = {\n",
    "        'join', 'work', 'team', 'future', 'digital', 'technology', 'access', 'leader', 'industry', 'history', 'innovation',\n",
    "        'year', 'customer', 'focused', 'leading', 'business', 'ability', 'country', 'employee', 'www', 'seeking',\n",
    "        'location', 'role', 'responsible', 'designing', 'code', 'ideal', 'candidate', 'also', 'duty', 'without', 'excellent',\n",
    "        'set', 'area', 'well', 'use', 'strong', 'self', 'help', 'diverse', 'every', 'day', 'equal', 'employment', 'opportunity',\n",
    "        'affirmative', 'action', 'employer', 'diversity', 'qualified', 'applicant', 'receive', 'consideration', 'regard',\n",
    "        'race', 'color', 'religion', 'sex', 'national', 'origin', 'status', 'age', 'sexual', 'orientation', 'gender',\n",
    "        'identity', 'disability', 'marital', 'family', 'medical', 'protected', 'veteran', 'reasonable', 'accomodation',\n",
    "        'protect', 'status', 'equal', 'discriminate', 'inclusive', 'diverse','benefits','vacation','000','nike',\"trustpilot\"\n",
    "    }\n",
    "    \n",
    "    stopWords = stopWords.union(add_stopwords)\n",
    "\n",
    "    # Initializing punctuation remover and lemmatizer\n",
    "    tokenize_remove_punct = RegexpTokenizer(r'\\w+')\n",
    "    lemma = WordNetLemmatizer()\n",
    "\n",
    "    # Cleaning descriptions for both the whole dataset and CO only\n",
    "    cleaned_descriptions = clean_descriptions(stopWords, descriptions)\n",
    "    \n",
    "\n",
    "    # Vectorizing words creating both tf and tf-idf matrices\n",
    "    tfidf_vectorizer = TfidfVectorizer(stop_words=stopWords, min_df=.05, max_df=0.75, max_features=5000,ngram_range=(1, 2))\n",
    "    \n",
    "    tfidf = tfidf_vectorizer.fit_transform(cleaned_descriptions).toarray()\n",
    "    \n",
    "    \n",
    "    # Term frequency is how often it appears IN the document\n",
    "    \n",
    "    # Inverse frequency is how often it appears across all documents\n",
    "\n"
   ]
  },
  {
   "cell_type": "code",
   "execution_count": 58,
   "id": "1f2715d6",
   "metadata": {},
   "outputs": [
    {
     "name": "stderr",
     "output_type": "stream",
     "text": [
      "/home/aqeelali7/anaconda3/lib/python3.8/site-packages/sklearn/cluster/_kmeans.py:792: FutureWarning: 'n_jobs' was deprecated in version 0.23 and will be removed in 1.0 (renaming of 0.25).\n",
      "  warnings.warn(\"'n_jobs' was deprecated in version 0.23 and will be\"\n"
     ]
    },
    {
     "name": "stdout",
     "output_type": "stream",
     "text": [
      "\n",
      "Cluster Represnetations\n",
      "Physician\n",
      "Recruiter\n",
      "Underwriter\n",
      "Financial Analyst\n",
      "Financial Analyst\n",
      "\n",
      "Cluster Represnetations\n",
      "Financial Analyst\n",
      "Underwriter\n",
      "Physician\n",
      "Recruiter\n",
      "Physician\n",
      "\n",
      "Cluster Represnetations\n",
      "Underwriter\n",
      "Financial Analyst\n",
      "Financial Analyst\n",
      "Financial Analyst\n",
      "Financial Analyst\n",
      "\n",
      "Cluster Represnetations\n",
      "Recruiter\n",
      "Physician\n",
      "Data Scientist\n",
      "Chemical Engineer\n",
      "Underwriter\n",
      "\n",
      "Cluster Represnetations\n",
      "Physician\n",
      "Financial Analyst\n",
      "Financial Analyst\n",
      "Financial Analyst\n",
      "Financial Analyst\n",
      "\n",
      "Cluster Represnetations\n",
      "Chemical Engineer\n",
      "Recruiter\n",
      "Recruiter\n",
      "Chemical Engineer\n",
      "Recruiter\n"
     ]
    }
   ],
   "source": [
    "\n",
    "    # Initializing and fitting k-means model\n",
    "    kmeans = KMeans(n_clusters=6, n_jobs=-1)\n",
    "    kmeans.fit(tfidf)\n",
    "\n",
    "    # Returning most representative words for each cluster\n",
    "    get_representative_jobs(df, kmeans)\n",
    "\n",
    "    # Calculating model score for kmeans\n",
    "    silhouette_score(tfidf, kmeans.labels_)\n",
    "    kmeans.score(tfidf)\n",
    "    \n",
    "    #Visualizing k-means clusters with PCA graph\n",
    "    kmeans_model = kmeans\n",
    "    labels=kmeans_model.labels_.tolist()\n",
    "\n",
    "    pca = PCA(n_components=2).fit(tfidf)\n",
    "    datapoint = pca.transform(tfidf)\n"
   ]
  },
  {
   "cell_type": "code",
   "execution_count": 59,
   "id": "c49819c3",
   "metadata": {},
   "outputs": [
    {
     "data": {
      "image/png": "[encoded data removed]",
      "text/plain": [
       "<Figure size 864x576 with 1 Axes>"
      ]
     },
     "metadata": {
      "needs_background": "light"
     },
     "output_type": "display_data"
    }
   ],
   "source": [
    "plt.figure(figsize=(12, 8))\n",
    "\n",
    "label1 = [\"#FFFF00\", \"#008000\", \"#0000FF\", \"#FF0000\",\"#33fff6\",\"#7F00FF\"]\n",
    "           \n",
    "color = [label1[i] for i in labels]\n",
    "plt.scatter(datapoint[:, 0], datapoint[:, 1], c=color)\n",
    "centroids = kmeans_model.cluster_centers_\n",
    "centroidpoint = pca.transform(centroids)\n",
    "plt.scatter(centroidpoint[:,0], centroidpoint[:,1], marker='^', s=150, c=\"#000000\", label='Cluster Centers')\n",
    "plt.xlabel('First PCA Dimension')\n",
    "plt.ylabel('Second PCA Dimension')\n",
    "plt.title('K-Means Clusters')\n",
    "plt.legend(fontsize='x-small')\n",
    "#     plt.text(0.44,0.6, 'Blue: Mobile devs', fontsize=9)\n",
    "#     plt.text(0.44, 0.5, 'Yellow: Data science', fontsize=9)\n",
    "#     plt.text(0.44, 0.4, 'Green: Big data dev', fontsize=9)\n",
    "#     plt.text(0.44, 0.4, 'Red: Big data dev', fontsize=9)\n",
    "\n",
    "plt.tight_layout()\n",
    "#     plt.savefig('../imgs/pca_kmeans_3_clusters.png');"
   ]
  },
  {
   "cell_type": "code",
   "execution_count": null,
   "id": "10ff6fd3",
   "metadata": {},
   "outputs": [],
   "source": []
  }
 ],
 "metadata": {
  "kernelspec": {
   "display_name": "Python 3",
   "language": "python",
   "name": "python3"
  },
  "language_info": {
   "codemirror_mode": {
    "name": "ipython",
    "version": 3
   },
   "file_extension": ".py",
   "mimetype": "text/x-python",
   "name": "python",
   "nbconvert_exporter": "python",
   "pygments_lexer": "ipython3",
   "version": "3.8.10"
  }
 },
 "nbformat": 4,
 "nbformat_minor": 5
}
