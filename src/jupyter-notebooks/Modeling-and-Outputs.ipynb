{
 "cells": [
  {
   "cell_type": "code",
   "execution_count": 50,
   "id": "1765c9a5",
   "metadata": {},
   "outputs": [],
   "source": [
    "import numpy as np\n",
    "import pandas as pd\n",
    "import matplotlib.pyplot as plt\n",
    "from sklearn.feature_extraction.text import TfidfVectorizer\n",
    "import nltk\n",
    "from nltk.stem import WordNetLemmatizer\n",
    "from nltk.tokenize import RegexpTokenizer\n",
    "from nltk.corpus import stopwords\n",
    "from nltk.corpus import wordnet\n",
    "from sklearn.metrics.pairwise import euclidean_distances"
   ]
  },
  {
   "cell_type": "code",
   "execution_count": 26,
   "id": "665c339b",
   "metadata": {},
   "outputs": [
    {
     "data": {
      "text/plain": [
       "Recruiter            2042\n",
       "Data Scientist       1597\n",
       "Financial Analyst    1523\n",
       "Physician            1462\n",
       "Underwriter          1403\n",
       "Chemical Engineer    1028\n",
       "Name: job_title, dtype: int64"
      ]
     },
     "execution_count": 26,
     "metadata": {},
     "output_type": "execute_result"
    }
   ],
   "source": [
    "df = pd.read_csv('../../data/cleaned_job_descriptions')\n",
    "df.to_pickle('cleaned_job_descriptions.pickle')\n",
    "#Disparity / Class Balance Check\n",
    "df['job_title'].value_counts()"
   ]
  },
  {
   "cell_type": "code",
   "execution_count": 27,
   "id": "84db2e90",
   "metadata": {},
   "outputs": [],
   "source": [
    "df[\"job_id\"] = df[\"job_title\"].factorize()[0]\n",
    "job_id_df = df[['job_id', 'job_title']].drop_duplicates().sort_values('job_id')\n",
    "id_to_job = dict(job_id_df[['job_id', 'job_title']].values)\n",
    "# Setting targets and training data\n",
    "features = df['job_desc'].values\n",
    "targets = df['job_id']"
   ]
  },
  {
   "cell_type": "code",
   "execution_count": 28,
   "id": "1179cad2",
   "metadata": {},
   "outputs": [
    {
     "data": {
      "text/html": [
       "<div>\n",
       "<style scoped>\n",
       "    .dataframe tbody tr th:only-of-type {\n",
       "        vertical-align: middle;\n",
       "    }\n",
       "\n",
       "    .dataframe tbody tr th {\n",
       "        vertical-align: top;\n",
       "    }\n",
       "\n",
       "    .dataframe thead th {\n",
       "        text-align: right;\n",
       "    }\n",
       "</style>\n",
       "<table border=\"1\" class=\"dataframe\">\n",
       "  <thead>\n",
       "    <tr style=\"text-align: right;\">\n",
       "      <th></th>\n",
       "      <th>job_id</th>\n",
       "      <th>job_title</th>\n",
       "    </tr>\n",
       "  </thead>\n",
       "  <tbody>\n",
       "    <tr>\n",
       "      <th>0</th>\n",
       "      <td>0</td>\n",
       "      <td>Data Scientist</td>\n",
       "    </tr>\n",
       "    <tr>\n",
       "      <th>410</th>\n",
       "      <td>1</td>\n",
       "      <td>Financial Analyst</td>\n",
       "    </tr>\n",
       "    <tr>\n",
       "      <th>773</th>\n",
       "      <td>2</td>\n",
       "      <td>Underwriter</td>\n",
       "    </tr>\n",
       "    <tr>\n",
       "      <th>2176</th>\n",
       "      <td>3</td>\n",
       "      <td>Chemical Engineer</td>\n",
       "    </tr>\n",
       "    <tr>\n",
       "      <th>3204</th>\n",
       "      <td>4</td>\n",
       "      <td>Physician</td>\n",
       "    </tr>\n",
       "    <tr>\n",
       "      <th>4666</th>\n",
       "      <td>5</td>\n",
       "      <td>Recruiter</td>\n",
       "    </tr>\n",
       "  </tbody>\n",
       "</table>\n",
       "</div>"
      ],
      "text/plain": [
       "      job_id          job_title\n",
       "0          0     Data Scientist\n",
       "410        1  Financial Analyst\n",
       "773        2        Underwriter\n",
       "2176       3  Chemical Engineer\n",
       "3204       4          Physician\n",
       "4666       5          Recruiter"
      ]
     },
     "execution_count": 28,
     "metadata": {},
     "output_type": "execute_result"
    }
   ],
   "source": [
    "job_id_df"
   ]
  },
  {
   "cell_type": "code",
   "execution_count": 29,
   "id": "838717cf",
   "metadata": {},
   "outputs": [],
   "source": [
    "def remove_stopwords(stopWords, descriptions):\n",
    "    cleaned_descriptions = []\n",
    "    for description in descriptions:\n",
    "        temp_list = []\n",
    "        for word in description.split():\n",
    "            if word not in stopWords:\n",
    "                temp_list.append(word.lower())\n",
    "        cleaned_descriptions.append(' '.join(temp_list))\n",
    "    return np.array(cleaned_descriptions)\n",
    "\n",
    "def remove_punctuation(descriptions):\n",
    "    no_punct_descriptions = []\n",
    "    for description in descriptions:\n",
    "        description_no_punct = ' '.join(RegexpTokenizer(r'\\w+').tokenize(description))\n",
    "        no_punct_descriptions.append(description_no_punct)\n",
    "    return np.array(no_punct_descriptions)\n",
    "\n",
    "def get_wordnet_pos(word):\n",
    "    # nltk.download()\n",
    "\n",
    "    tag = nltk.pos_tag([word])[0][1][0].upper()\n",
    "    tag_dict = {'J': wordnet.ADJ,\n",
    "               'N': wordnet.NOUN,\n",
    "               'V': wordnet.VERB,\n",
    "               'R': wordnet.ADV}\n",
    "    return tag_dict.get(tag, wordnet.NOUN)\n",
    "\n",
    "def lemmatize_descriptions(descriptions):\n",
    "    cleaned_descriptions = []\n",
    "    for description in descriptions:\n",
    "        temp_list = []\n",
    "        for word in description.split():\n",
    "            cleaned_word = WordNetLemmatizer().lemmatize(word, get_wordnet_pos(word))\n",
    "            temp_list.append(cleaned_word)\n",
    "        cleaned_descriptions.append(' '.join(temp_list))\n",
    "    return np.array(cleaned_descriptions)\n",
    "\n",
    "def clean_descriptions(stopWords, descriptions):\n",
    "    no_punct = remove_punctuation(descriptions)\n",
    "    no_punct_sw = remove_stopwords(stopWords, no_punct)\n",
    "    cleaned = lemmatize_descriptions(no_punct_sw)\n",
    "    print(type(cleaned))\n",
    "    return cleaned\n",
    "\n",
    "def get_representative_jobs(df, kmeans):\n",
    "    cluster_centers = kmeans.cluster_centers_\n",
    "    for cent in cluster_centers:\n",
    "        print('\\nCluster Represnetations')\n",
    "        dist = euclidean_distances(cent.reshape(1,-1), tfidf)\n",
    "        order = np.argsort(dist)\n",
    "        for o in order[0][:5]:\n",
    "            title = df['job_title'].iloc[o]\n",
    "            print(title)"
   ]
  },
  {
   "cell_type": "code",
   "execution_count": 30,
   "id": "c55d937a",
   "metadata": {},
   "outputs": [
    {
     "name": "stdout",
     "output_type": "stream",
     "text": [
      "curr path is:\n",
      "/home/aqeelali7/Documents/Galvanize/Capstone-3-ATS/The-Right-Resume/src/jupyter-notebooks\n",
      "<class 'numpy.ndarray'>\n"
     ]
    }
   ],
   "source": [
    "if __name__ == '__main__':\n",
    "    import os\n",
    "    print(\"curr path is:\")\n",
    "    print(os.getcwd())\n",
    "    \n",
    "    \n",
    "    # Setting targets and training data\n",
    "    descriptions = df['job_desc'].values\n",
    "    targets = df['job_id']\n",
    "    \n",
    "    \n",
    "    # Creating stop words\n",
    "    stopWords = set(stopwords.words('english'))\n",
    "    add_stopwords = {\n",
    "        'join', 'work', 'team', 'future', 'digital', 'technology', 'access', 'leader', 'industry', 'history', 'innovation',\n",
    "        'year', 'customer', 'focused', 'leading', 'business', 'ability', 'country', 'employee', 'www', 'seeking',\n",
    "        'location', 'role', 'responsible', 'designing', 'code', 'ideal', 'candidate', 'also', 'duty', 'without', 'excellent',\n",
    "        'set', 'area', 'well', 'use', 'strong', 'self', 'help', 'diverse', 'every', 'day', 'equal', 'employment', 'opportunity',\n",
    "        'affirmative', 'action', 'employer', 'diversity', 'qualified', 'applicant', 'receive', 'consideration', 'regard',\n",
    "        'race', 'color', 'religion', 'sex', 'national', 'origin', 'status', 'age', 'sexual', 'orientation', 'gender',\n",
    "        'identity', 'disability', 'marital', 'family', 'medical', 'protected', 'veteran', 'reasonable', 'accomodation',\n",
    "        'protect', 'status', 'equal', 'discriminate', 'hire', 'hiring','inclusive', 'diverse','benefits','vacation','000','10','nike',\"trustpilot\"\n",
    "    }\n",
    "    \n",
    "    stopWords = stopWords.union(add_stopwords)\n",
    "\n",
    "    # Initializing punctuation remover and lemmatizer\n",
    "    tokenize_remove_punct = RegexpTokenizer(r'\\w+')\n",
    "    lemma = WordNetLemmatizer()\n",
    "\n",
    "    # Cleaning descriptions for both the whole dataset and CO only\n",
    "    cleaned_descriptions = clean_descriptions(stopWords, descriptions)\n",
    "    "
   ]
  },
  {
   "cell_type": "code",
   "execution_count": 31,
   "id": "d1808596",
   "metadata": {},
   "outputs": [],
   "source": [
    "from sklearn.pipeline import Pipeline\n",
    "def _split_data(df):\n",
    "\n",
    "    return train_test_split(cleaned_descriptions, df['job_title'].values)\n",
    "\n",
    "def fit(model, X,y):\n",
    "    pipe = Pipeline([('vect', CountVectorizer(stop_words=stopWords, min_df=0.1, max_df=0.75, max_features=500,ngram_range=(1, 2))),\n",
    "    ('tfidf', TfidfTransformer()),\n",
    "    ('clf', model),\n",
    "    ])\n",
    "    pipe.fit(X,y)\n",
    "    \n",
    "    return pipe\n",
    "\n",
    "def predict(pipe,X_test):\n",
    "    return pipe.predict(X_test)\n",
    "\n",
    "def predict_one(pipe, desc):\n",
    "    return pipe.predict(pd.Series([desc])).tolist()[0]\n",
    "\n",
    "def predict_one_proba(pipe, desc):\n",
    "    return pipe.predict_proba(pd.Series([desc]))"
   ]
  },
  {
   "cell_type": "code",
   "execution_count": 32,
   "id": "93574a0e",
   "metadata": {},
   "outputs": [],
   "source": [
    "from sklearn.ensemble import RandomForestClassifier\n",
    "from sklearn.svm import LinearSVC\n",
    "from sklearn.naive_bayes import MultinomialNB\n",
    "from sklearn.linear_model import LogisticRegression\n",
    "from sklearn.model_selection import train_test_split\n",
    "from sklearn.feature_extraction.text import CountVectorizer\n",
    "from sklearn.feature_extraction.text import TfidfTransformer\n",
    "from sklearn.pipeline import Pipeline\n",
    "import numpy as np\n",
    "from sklearn.metrics import accuracy_score,classification_report"
   ]
  },
  {
   "cell_type": "code",
   "execution_count": 33,
   "id": "685e43d2",
   "metadata": {},
   "outputs": [],
   "source": [
    "models = [\n",
    "    RandomForestClassifier(n_estimators=200, max_depth=3, random_state=0),\n",
    "    LinearSVC(),\n",
    "    MultinomialNB(),\n",
    "    LogisticRegression(random_state=0),\n",
    "]\n"
   ]
  },
  {
   "cell_type": "code",
   "execution_count": 34,
   "id": "7050dc1c",
   "metadata": {},
   "outputs": [
    {
     "name": "stdout",
     "output_type": "stream",
     "text": [
      "Pipeline(steps=[('vect',\n",
      "                 CountVectorizer(max_df=0.75, max_features=500, min_df=0.1,\n",
      "                                 ngram_range=(1, 2),\n",
      "                                 stop_words={'000', '10', 'a', 'ability',\n",
      "                                             'about', 'above', 'access',\n",
      "                                             'accomodation', 'action',\n",
      "                                             'affirmative', 'after', 'again',\n",
      "                                             'against', 'age', 'ain', 'all',\n",
      "                                             'also', 'am', 'an', 'and', 'any',\n",
      "                                             'applicant', 'are', 'area', 'aren',\n",
      "                                             \"aren't\", 'as', 'at', 'be',\n",
      "                                             'because', ...})),\n",
      "                ('tfidf', TfidfTransformer()),\n",
      "                ('clf',\n",
      "                 RandomForestClassifier(max_depth=3, n_estimators=200,\n",
      "                                        random_state=0))])\n",
      "0.9253533568904594\n",
      "                   precision    recall  f1-score   support\n",
      "\n",
      "Chemical Engineer       0.91      0.99      0.95       215\n",
      "   Data Scientist       0.88      0.95      0.91       379\n",
      "Financial Analyst       0.88      0.95      0.91       355\n",
      "        Physician       0.93      0.95      0.94       346\n",
      "        Recruiter       0.99      0.83      0.90       647\n",
      "      Underwriter       0.94      0.98      0.96       322\n",
      "\n",
      "         accuracy                           0.93      2264\n",
      "        macro avg       0.92      0.94      0.93      2264\n",
      "     weighted avg       0.93      0.93      0.92      2264\n",
      "\n",
      "Pipeline(steps=[('vect',\n",
      "                 CountVectorizer(max_df=0.75, max_features=500, min_df=0.1,\n",
      "                                 ngram_range=(1, 2),\n",
      "                                 stop_words={'000', '10', 'a', 'ability',\n",
      "                                             'about', 'above', 'access',\n",
      "                                             'accomodation', 'action',\n",
      "                                             'affirmative', 'after', 'again',\n",
      "                                             'against', 'age', 'ain', 'all',\n",
      "                                             'also', 'am', 'an', 'and', 'any',\n",
      "                                             'applicant', 'are', 'area', 'aren',\n",
      "                                             \"aren't\", 'as', 'at', 'be',\n",
      "                                             'because', ...})),\n",
      "                ('tfidf', TfidfTransformer()), ('clf', LinearSVC())])\n",
      "0.9712897526501767\n",
      "                   precision    recall  f1-score   support\n",
      "\n",
      "Chemical Engineer       0.97      0.98      0.98       231\n",
      "   Data Scientist       0.97      0.95      0.96       412\n",
      "Financial Analyst       0.93      0.96      0.94       375\n",
      "        Physician       0.99      0.96      0.98       367\n",
      "        Recruiter       0.98      0.99      0.98       538\n",
      "      Underwriter       0.99      0.98      0.99       341\n",
      "\n",
      "         accuracy                           0.97      2264\n",
      "        macro avg       0.97      0.97      0.97      2264\n",
      "     weighted avg       0.97      0.97      0.97      2264\n",
      "\n",
      "Pipeline(steps=[('vect',\n",
      "                 CountVectorizer(max_df=0.75, max_features=500, min_df=0.1,\n",
      "                                 ngram_range=(1, 2),\n",
      "                                 stop_words={'000', '10', 'a', 'ability',\n",
      "                                             'about', 'above', 'access',\n",
      "                                             'accomodation', 'action',\n",
      "                                             'affirmative', 'after', 'again',\n",
      "                                             'against', 'age', 'ain', 'all',\n",
      "                                             'also', 'am', 'an', 'and', 'any',\n",
      "                                             'applicant', 'are', 'area', 'aren',\n",
      "                                             \"aren't\", 'as', 'at', 'be',\n",
      "                                             'because', ...})),\n",
      "                ('tfidf', TfidfTransformer()), ('clf', MultinomialNB())])\n",
      "0.9355123674911661\n",
      "                   precision    recall  f1-score   support\n",
      "\n",
      "Chemical Engineer       0.94      0.97      0.96       228\n",
      "   Data Scientist       0.92      0.92      0.92       407\n",
      "Financial Analyst       0.86      0.94      0.90       353\n",
      "        Physician       0.96      0.90      0.93       379\n",
      "        Recruiter       0.97      0.94      0.95       559\n",
      "      Underwriter       0.96      0.96      0.96       338\n",
      "\n",
      "         accuracy                           0.94      2264\n",
      "        macro avg       0.93      0.94      0.94      2264\n",
      "     weighted avg       0.94      0.94      0.94      2264\n",
      "\n",
      "Pipeline(steps=[('vect',\n",
      "                 CountVectorizer(max_df=0.75, max_features=500, min_df=0.1,\n",
      "                                 ngram_range=(1, 2),\n",
      "                                 stop_words={'000', '10', 'a', 'ability',\n",
      "                                             'about', 'above', 'access',\n",
      "                                             'accomodation', 'action',\n",
      "                                             'affirmative', 'after', 'again',\n",
      "                                             'against', 'age', 'ain', 'all',\n",
      "                                             'also', 'am', 'an', 'and', 'any',\n",
      "                                             'applicant', 'are', 'area', 'aren',\n",
      "                                             \"aren't\", 'as', 'at', 'be',\n",
      "                                             'because', ...})),\n",
      "                ('tfidf', TfidfTransformer()),\n",
      "                ('clf', LogisticRegression(random_state=0))])\n",
      "0.9628975265017667\n",
      "                   precision    recall  f1-score   support\n",
      "\n",
      "Chemical Engineer       0.96      0.98      0.97       230\n",
      "   Data Scientist       0.96      0.93      0.94       423\n",
      "Financial Analyst       0.91      0.97      0.94       361\n",
      "        Physician       0.99      0.96      0.97       366\n",
      "        Recruiter       0.98      0.97      0.98       547\n",
      "      Underwriter       0.98      0.98      0.98       337\n",
      "\n",
      "         accuracy                           0.96      2264\n",
      "        macro avg       0.96      0.96      0.96      2264\n",
      "     weighted avg       0.96      0.96      0.96      2264\n",
      "\n"
     ]
    }
   ],
   "source": [
    "X_train, X_test, y_train, y_test = _split_data(df)\n",
    "\n",
    "for model in models:\n",
    "    model = fit(model,X_train,y_train)\n",
    "    predictions = predict(model,X_test)\n",
    "    print(model)\n",
    "    print(accuracy_score(predictions,y_test))\n",
    "    print(classification_report(predictions,y_test))"
   ]
  },
  {
   "cell_type": "code",
   "execution_count": 35,
   "id": "dcb8f193",
   "metadata": {
    "scrolled": true
   },
   "outputs": [
    {
     "data": {
      "text/plain": [
       "[('engineering', 5.91798891493553),\n",
       " ('chemical', 4.8952258453416535),\n",
       " ('process', 3.447896681365333),\n",
       " ('engineer', 2.941066163338261),\n",
       " ('technical', 2.7514214814029647),\n",
       " ('project', 2.505124981241043),\n",
       " ('design', 2.4066918866065974),\n",
       " ('material', 2.26623123831976),\n",
       " ('equipment', 2.1475503908353746),\n",
       " ('test', 1.9013756303517442),\n",
       " ('site', 1.8118239472036348),\n",
       " ('financial', 1.8113616867711226),\n",
       " ('development', 1.7492148488534616),\n",
       " ('data', 1.7259462206696106),\n",
       " ('control', 1.6124659583419731),\n",
       " ('quality', 1.4018376453828763),\n",
       " ('safety', 1.348014290508083),\n",
       " ('production', 1.3446644741457543),\n",
       " ('product', 1.318957112571248),\n",
       " ('operation', 1.3131776576094893),\n",
       " ('recruiting', 1.1307411969884376),\n",
       " ('integrity', 1.1095111136441826),\n",
       " ('discipline', 1.0514892259523607),\n",
       " ('underwriting', 1.011596104367904),\n",
       " ('clinical', 1.0090092001278297),\n",
       " ('system', 0.9576926381893218),\n",
       " ('science', 0.9541112041822829),\n",
       " ('scale', 0.9348260140718111),\n",
       " ('analytics', 0.93405619947715),\n",
       " ('improvement', 0.8943303563706437),\n",
       " ('finance', 0.8811996458088527),\n",
       " ('care', 0.875877070971734),\n",
       " ('company', 0.8561710130883279),\n",
       " ('facility', 0.8428376276474157),\n",
       " ('characteristic', 0.8387033907346642),\n",
       " ('successful', 0.8312616085746233),\n",
       " ('travel', 0.8240037147902095),\n",
       " ('support', 0.7656066373477097),\n",
       " ('drive', 0.7541056601320923),\n",
       " ('life', 0.7478004293643723),\n",
       " ('patient', 0.7439156480076502),\n",
       " ('analyst', 0.7299108490588525),\n",
       " ('accounting', 0.7168389458576881),\n",
       " ('develop', 0.703161424512201),\n",
       " ('deep', 0.6950255147249325),\n",
       " ('manager', 0.6844087654738925),\n",
       " ('source', 0.6786418636058676),\n",
       " ('result', 0.6761165044147265),\n",
       " ('information', 0.6739368770048721),\n",
       " ('university', 0.6720224942697216),\n",
       " ('machine', 0.6704875813515767),\n",
       " ('impact', 0.6448720007519884),\n",
       " ('review', 0.6358903272321749),\n",
       " ('execute', 0.6258159511941475),\n",
       " ('field', 0.6253467074244311),\n",
       " ('computer', 0.6244586001013662),\n",
       " ('reporting', 0.5966054412055426),\n",
       " ('activity', 0.577412227890701),\n",
       " ('community', 0.5735811415706117),\n",
       " ('service', 0.5735062867828233),\n",
       " ('talent', 0.5726674797755067),\n",
       " ('group', 0.554839254661607),\n",
       " ('physician', 0.5539282920290991),\n",
       " ('compliance', 0.5528441654056686),\n",
       " ('intelligence', 0.5526626552336709),\n",
       " ('expression', 0.5427089561325458),\n",
       " ('director', 0.5415181004241616),\n",
       " ('end', 0.5367879110619037),\n",
       " ('time', 0.5324345227598534),\n",
       " ('enable', 0.529501565731512),\n",
       " ('account', 0.5287042216446219),\n",
       " ('underwriter', 0.5250128172785339),\n",
       " ('insight', 0.524413385256952),\n",
       " ('make', 0.5224019114542974),\n",
       " ('credit', 0.5194299243096007),\n",
       " ('remote', 0.5166711380698452),\n",
       " ('degree', 0.516544005730346),\n",
       " ('requirement', 0.5162743664467212),\n",
       " ('language', 0.5151384598561768),\n",
       " ('general', 0.5143318731908463),\n",
       " ('background', 0.51076863950193),\n",
       " ('processing', 0.5105850419566151),\n",
       " ('home', 0.5071048784606149),\n",
       " ('manage', 0.5047471078412685),\n",
       " ('take', 0.5022401017223505),\n",
       " ('call', 0.49382824468539965),\n",
       " ('improve', 0.49381018493244455),\n",
       " ('platform', 0.49297654626458687),\n",
       " ('public', 0.49038276439022327),\n",
       " ('college', 0.48940813110376924),\n",
       " ('software', 0.488550979817295),\n",
       " ('person', 0.48771376453350107),\n",
       " ('learn', 0.4842553780174368),\n",
       " ('multiple', 0.4837669907173949),\n",
       " ('technique', 0.4836503485751238),\n",
       " ('building', 0.47827937033825985),\n",
       " ('recruiter', 0.4772732919503579),\n",
       " ('training', 0.4762870864657427),\n",
       " ('high', 0.4729587369300571),\n",
       " ('per', 0.4722080261160435)]"
      ]
     },
     "execution_count": 35,
     "metadata": {},
     "output_type": "execute_result"
    }
   ],
   "source": [
    "coefs = model.named_steps.clf.coef_\n",
    "feats = model.named_steps.vect.get_feature_names()\n",
    "\n",
    "# take coefficients and feature names, sorted? \n",
    "\n",
    "dct = {\"feats\":feats,\"coef\":coefs[0,:].tolist()}\n",
    "\n",
    "titles = [\"Chemical Engineer\",\"Data Scientist\",\"Financial Analyst\",\"Physician\",\"Recruiter\",\"Underwriter\"]\n",
    "\n",
    "d = dict()\n",
    "for i,title in enumerate(titles):\n",
    "    coefs[i,:]\n",
    "    dct = {\"feats\":feats,\"coef\":coefs[i,:].tolist()}\n",
    "    top_words_df = pd.DataFrame(dct)\n",
    "    top_words_df[\"coef\"] = top_words_df[\"coef\"].abs()\n",
    "    top_words_df = top_words_df.sort_values(\"coef\",ascending = False)\n",
    "    a = top_words_df.feats.values.tolist()[:100]\n",
    "    b = top_words_df.coef.values.tolist()[:100]\n",
    "    d[title] = list(zip(a,b))\n",
    "    \n",
    "d[\"Chemical Engineer\"]"
   ]
  },
  {
   "cell_type": "markdown",
   "id": "4013dbbd",
   "metadata": {},
   "source": [
    "using dict of words... co\n",
    "Use dict key value for word comparisons to resume\n",
    "but only output the top keywords in each resume"
   ]
  },
  {
   "cell_type": "markdown",
   "id": "bc10d842",
   "metadata": {},
   "source": [
    " turn the top keywords of FA into a set. This set is what the model builds as a profile of an FA. \n",
    "    if 'analy' is in 'word':\n",
    "        word = analysis\n",
    "        \n",
    "- if word.startswith('analy'):\n",
    "    word = 'analysis\n",
    "    change the keyword itself to something else"
   ]
  },
  {
   "cell_type": "code",
   "execution_count": 40,
   "id": "cefd454b",
   "metadata": {},
   "outputs": [],
   "source": [
    "import numpy as np\n",
    "import pandas as pd\n",
    "from os import path\n",
    "from PIL import Image\n",
    "from wordcloud import WordCloud, STOPWORDS, ImageColorGenerator\n",
    "import warnings\n",
    "warnings.filterwarnings(\"ignore\")"
   ]
  },
  {
   "cell_type": "code",
   "execution_count": 47,
   "id": "2b07c1eb",
   "metadata": {},
   "outputs": [],
   "source": [
    "key_words = []\n",
    "for i in range(len(d[\"Data Scientist\"])):\n",
    "    key_words.append(d[\"Data Scientist\"][i][0])\n"
   ]
  },
  {
   "cell_type": "code",
   "execution_count": 48,
   "id": "a0b07585",
   "metadata": {},
   "outputs": [
    {
     "data": {
      "image/png": "[encoded data removed]",
      "text/plain": [
       "<Figure size 432x288 with 1 Axes>"
      ]
     },
     "metadata": {
      "needs_background": "light"
     },
     "output_type": "display_data"
    }
   ],
   "source": [
    "stopwords = set(STOPWORDS)\n",
    "stopwords.update([\"drink\", \"now\", \"wine\", \"flavor\", \"flavors\"])\n",
    "text = \" \".join(text for text in key_words)\n",
    "wordcloud = WordCloud(stopwords=stopwords, background_color=\"white\").generate(text)\n",
    "plt.imshow(wordcloud, interpolation='bilinear')\n",
    "plt.axis(\"off\")\n",
    "plt.show()"
   ]
  },
  {
   "cell_type": "code",
   "execution_count": 36,
   "id": "e1d52c22",
   "metadata": {},
   "outputs": [
    {
     "name": "stdout",
     "output_type": "stream",
     "text": [
      "0.9642226148409894\n",
      "                   precision    recall  f1-score   support\n",
      "\n",
      "Chemical Engineer       0.97      0.99      0.98       257\n",
      "   Data Scientist       0.96      0.92      0.94       423\n",
      "Financial Analyst       0.93      0.96      0.94       402\n",
      "        Physician       0.97      0.97      0.97       334\n",
      "        Recruiter       0.98      0.98      0.98       486\n",
      "      Underwriter       0.97      0.98      0.98       362\n",
      "\n",
      "         accuracy                           0.96      2264\n",
      "        macro avg       0.96      0.97      0.97      2264\n",
      "     weighted avg       0.96      0.96      0.96      2264\n",
      "\n"
     ]
    }
   ],
   "source": [
    "X_train, X_test, y_train, y_test = _split_data(df)\n",
    "model = fit(LogisticRegression(),X_train,y_train)\n",
    "predictions = predict(model,X_test)\n",
    "print(accuracy_score(predictions,y_test))\n",
    "print(classification_report(predictions,y_test))"
   ]
  },
  {
   "cell_type": "code",
   "execution_count": 37,
   "id": "83b38243",
   "metadata": {},
   "outputs": [],
   "source": [
    "import pickle\n",
    "filename = 'LogisticRegression.sav'\n",
    "pickle.dump(model, open(filename, 'wb'))"
   ]
  },
  {
   "cell_type": "code",
   "execution_count": 14,
   "id": "57dc3ad4",
   "metadata": {},
   "outputs": [],
   "source": [
    "resume = \"AQEEL ALI Aqeelali0312@gmail.com | (408) 718-0712 | www.linkedin.com/in/aqeelali786 EDUCATION: California Polytechnic University, San Luis Obispo, CA B.S. Business Administration – Financial Management Concentration Minor in Psychology ● Honors: Principal’s List (3.5+ GPA for three consecutive academic terms) - Fall 2019 ● Relevant Coursework: Financial Engineering in Risk Management, Computer Applications in Finance, Advanced Corporate Finance Chartered Financial Analyst Level Two Candidate Exam Date: Nov 2021 ● Pursuing CFA designation by acquiring a wide breadth of portfolio management skills. ● Level One Exam passed on June 2019. WORK EXPERIENCE: Middle Market Portfolio Analyst – Comerica Bank, San Jose, CA Jul 2019 to Present ● Analyze employer’s Middle Market business for the California region through industry, financial, macroeconomic data and other supporting credit information concerning an applicant's credit requests. ● Identify key business and financial risks that may impact the repayment prospects by the borrower. ● Expertise in Salesforce Data Management and CRM software systems utilized while underwriting to 8-figure commercial banking facilities ranging from $5M to $100M loans and facilities. aggregate exposure of bank assets. ● Prepare, review and assess the creditworthiness of commercial loan originations and renewals by evaluating tax returns, spreads of financial statements, historical trends, rent rolls, leases, projections, management performance, industry reports, cash flow models, capital structure and collateral analysis and other relevant data to analyze portfolio companies’ repayment capacity. ● Ensure the integrity of performance data for clientele and prospects and maintain ongoing relationships with thecustodial partners banks, vendors, and internal groups. ● Offer insights into customer financial needs, including opportunities identified using Line of Business-approved relationship expansion tools. Contribute personal insights related to a loan structure's effectiveness to mitigate risks, appropriate to prevailing competitive market environment and Bank risk tolerances. ● Prepared & presented nation-wide internal quarterly Company Q1 & Q2 2020 earnings reports and portfolio updates (within a team of four). ● Undertook special project initiative while fluidly adapting self-starter work ethic to a remote work environment during the initial rollout of Federal Treasury Payroll Protection Program and reviewed numerous applicants’ eligibility & fund usage during COVID-19 global pandemic. Venture Capital Analyst Intern - LDR Ventures, San Luis Obispo, CA Jan 2019 to Apr 2019 ● Analyzed investment opportunities up to $1.5M, prepared fundraising pitches to external stakeholders and prospective investors, and identified potential risks for early stage portfolio companies ● Assisted in building pricing models to help companies launch multiple new product lines and conduct stress tests under varying scenario analyses. ● Oversaw a personally proposed initiative for a portfolio company’s marketing campaign across universities in California. LEADERSHIP & OTHER RELEVANT EXPERIENCE Banking Valuations, Investment Banking Society San Luis Obispo, CA Jan 2019 to Feb 2019 ● Took an extracurricular course which covered the three main methods of company valuations ● Competed in a Goldman Sachs case competition against over 20 teams to create a pitch deck and presentation for a real case study. Recommended a company’s IPO by analyzing their financial position, creating a pro forma financial model, computing value with several valuation methodologies and examining IPO market conditions Member - MacIntalkers of Toastmasters International Apple Cupertino, CA Jul 2018 to Feb 2020 ● Delivered five public speeches under the “Dynamic Leadership” Pathways project. ● Developed effective communication skills on a weekly basis. \" \n",
    "lyft_job_desc = \"Financial Analyst, Strategy Finance at Lyft San Francisco, CA At Lyft, our mission is to improve people’s lives with the world’s best transportation. To do this, we start with our own community by creating an open, inclusive, and diverse organization.  Lyft is hiring a Financial Analyst for its Strategy Finance Team. The candidate in this position will provide financial and analytical support to drive strategic decisions for the company and help prepare financial management reporting. As a Financial Analyst, you will work directly with stakeholders across Finance in forecasting, planning and reporting key metrics to senior leadership.  Responsibilities: Help in analyzing & modeling forecast trends for total company financials Assist in the preparation and analysis of consolidated P&L for actuals and forecasts, help the FP&A team on deliverables, ongoing variance analysis, and ad hoc modeling Help lead the FP&A team through weekly and monthly forecasting Assist in the quarterly and annual strategic planning process Collaborate with Investor Relations by analyzing relevant financial information in preparation for the earnings call and investor presentations Team up with Corporate Development to create Board of Directors financials Partner with FP&A, Accounting, Treasury, Tax, and HR to forecast centralized expenses Drive monthly and quarterly close activities for FP&A and support consolidated management reporting Partner with Accounting to manage close timelines, process and reporting Manage creation of internal executive reporting documents including board, close and other management presentations and workbooks Support initiatives to create process efficiencies & improvements within FP&A Experience: BA/BS with 3+ years of experience in financial planning and analytics (FP&A) in a rigorous environment Corporate Finance, forecasting, or consolidations experience is a plus Detail-oriented and organized self-starter with a drive to dig into complex problems Advanced Excel skills. Experience building complex formulas and manipulating large data sets Ability to work in a fast-paced, team-based environment with minimal supervision Research, quantitative and analytical skills Comfortable navigating through financial statements Ability to organize and track overlapping tasks and assignments, with frequent priority changes Strong interpersonal and communication skills, with the ability to communicate and influence effectively across various departments Benefits: Great medical, dental, and vision insurance options Mental health benefits In addition to 12 observed holidays, salaried team members have unlimited paid time off, hourly team members have 15 days paid time off 401(k) plan to help save for your future 18 weeks of paid parental leave. Biological, adoptive, and foster parents are all eligible Pre-tax commuter benefits Lyft Pink - Lyft team members get an exclusive opportunity to test new benefits of our Ridership Program \" \n",
    "cmgr_job_desc = \"About the Role: Raydiant is looking for a lover of technology, a customer-success driven channel manager to help build the channel and achieve set goals.  Customer Success Managers (Channel) coordinate and work closely with various channel partners and affiliates to build and grow the pipeline and sell our solutions to businesses. As a channel customer success manager, you will manage Raydiant’s business relationships within the US; working with customers from many different industries. You will help us achieve our mission of managing the channel partners we have, qualify and recruit more qualified partners to help drive business and grow the channel side of the business. This role is based in the office at our San Francisco, CA headquarters in the SOMA neighborhood. What You Will Be Doing:  Prospecting, qualifying and on-boarding channel partners that can help the company drive business growth month over month Be able to forecast monthly sales revenue and achieve sales goals and KPIs set by management hannel customer success managers will help manage all partners with a focus on creating yearly and quarterly channel plans Be able to travel and meet channel partners, to conduct presentations and live demos of the product Channel customer success managers will focus on training Raydiant partners on effective methods for selling, using the partner portal and using Raydiant’s product Channel customer success managers will build an excellent relationship with channel partners and have a focus on retaining sophisticated partners while coaching inexperienced Raydiant partners on the best sales practices. Channel customer success managers will create monthly sales reports and communicate channel partners monthly commission to them in coordination with the finance department To own management of the channel PRM To conduct webinars to attract new partners and conduct training sessions on new products and services   What We Are Looking For:   Passion for sales in B2B The motivation to go the extra mile with a positive can-do attitude Bachelor’s degree or equivalent experience Excellent communication and relationship-building relationship skills; you like to negotiate and to achieve targets  Strong software and new technology awareness At least 2-years experience in channel sales within a SaaS product line Proficient with Salesforce\"  \n",
    "ds_1_desc = \"We are looking for a Data Scientist who will support our product, sales, leadership and marketing teams with insights gained from analyzing company data. The ideal candidate is adept at using large data sets to find opportunities for product and process optimization and using models to test the effectiveness of different courses of action. They must have strong experience using a variety of data mining/data analysis methods, using a variety of data tools, building and implementing models, using/creating algorithms and creating/running simulations. They must have a proven ability to drive business results with their data-based insights. They must be comfortable working with a wide range of stakeholders and functional teams. The right candidate will have a passion for discovering solutions hidden in large data sets and working with stakeholders to improve business outcomes.Responsibilities for Data ScientistWork with stakeholders throughout the organization to identify opportunities for leveraging company data to drive business solutions.Mine and analyze data from company databases to drive optimization and improvement of product development, marketing techniques and business strategies.Assess the effectiveness and accuracy of new data sources and data gathering techniques.Develop custom data models and algorithms to apply to data sets.Use predictive modeling to increase and optimize customer experiences, revenue generation, ad targeting and other business outcomes.Develop company A/B testing framework and test model quality.Coordinate with different functional teams to implement models and monitor outcomes.Develop processes and tools to monitor and analyze model performance and data accuracy.Qualifications for Data ScientistStrong problem solving skills with an emphasis on product development.Experience using statistical computer languages (R, Python, SLQ, etc.) to manipulate data and draw insights from large data sets.Experience working with and creating data architectures.Knowledge of a variety of machine learning techniques (clustering, decision tree learning, artificial neural networks, etc.) and their real-world advantages/drawbacks.Knowledge of advanced statistical techniques and concepts (regression, properties of distributions, statistical tests and proper usage, etc.) and experience with applications.Excellent written and verbal communication skills for coordinating across teams.A drive to learn and master new technologies and techniques.We’re looking for someone with 5-7 years of experience manipulating data sets and building statistical models, has a Master’s or PHD in Statistics, Mathematics, Computer Science or another quantitative field, and is familiar with the following software/tools:Coding knowledge and experience with several languages: C, C++, Java,JavaScript, etc.Knowledge and experience in statistical and data mining techniques: GLM/Regression, Random Forest, Boosting, Trees, text mining, social network analysis, etc.Experience querying databases and using statistical computer languages: R, Python, SLQ, etc.Experience using web services: Redshift, S3, Spark, DigitalOcean, etc.Experience creating and using advanced machine learning algorithms and statistics: regression, simulation, scenario analysis, modeling, clustering, decision trees, neural networks, etc.Experience analyzing data from 3rd party providers: Google Analytics, Site Catalyst, Coremetrics, Adwords, Crimson Hexagon, Facebook Insights, etc.\""
   ]
  },
  {
   "cell_type": "code",
   "execution_count": 15,
   "id": "29903e68",
   "metadata": {},
   "outputs": [
    {
     "name": "stdout",
     "output_type": "stream",
     "text": [
      "Financial Analyst\n",
      "[[1.10499581e-03 7.05109034e-03 9.48694129e-01 9.87673257e-04\n",
      "  9.34939767e-04 4.12271715e-02]]\n"
     ]
    },
    {
     "data": {
      "text/plain": [
       "'Financial Analyst'"
      ]
     },
     "execution_count": 15,
     "metadata": {},
     "output_type": "execute_result"
    }
   ],
   "source": [
    "print(predict_one(model, resume))\n",
    "print(predict_one_proba(model, resume))\n",
    "label = predict_one(model, resume)\n",
    "label"
   ]
  },
  {
   "cell_type": "markdown",
   "id": "05c8abe3",
   "metadata": {},
   "source": [
    "##  Display Top keywords for predicted job classification\n",
    "\n",
    "- use split method on input string (resume in this case), \n",
    "- clean text of resume - like punctuation and stuff. \n",
    "- populate a split and add an item to a SET if the item is not in the SET.\n",
    "- clean the items within the set with stemming\n",
    "- on words that i manually truncate like finance, engineer, tell te user to 'add variations of the word \"{word_here}\"\n"
   ]
  },
  {
   "cell_type": "markdown",
   "id": "707dd0a0",
   "metadata": {},
   "source": [
    "\n",
    "take predicted class (job title in this case)\n",
    "- compare words in resume against top 30~50 words\n",
    "- suggest top 5-10 words needed.\n",
    "- create a set of words based on resume, compared against pickled model of top keywords. \n",
    "- if i am missing ___ in my input, tell it to put ___ there. \n",
    "\n",
    "Get a list of all words in resume\n",
    "    iterate through top words in the job (keywords_fa) set, \n",
    "        if topwords_FA not in resume:\n",
    "            print top 5\n"
   ]
  },
  {
   "cell_type": "code",
   "execution_count": 49,
   "id": "1accfedd",
   "metadata": {},
   "outputs": [
    {
     "ename": "AttributeError",
     "evalue": "'set' object has no attribute 'words'",
     "output_type": "error",
     "traceback": [
      "\u001b[0;31m---------------------------------------------------------------------------\u001b[0m",
      "\u001b[0;31mAttributeError\u001b[0m                            Traceback (most recent call last)",
      "\u001b[0;32m<ipython-input-49-9dd004fca39a>\u001b[0m in \u001b[0;36m<module>\u001b[0;34m\u001b[0m\n\u001b[1;32m     10\u001b[0m     \u001b[0;32mreturn\u001b[0m \u001b[0mclean_descriptions\u001b[0m\u001b[0;34m(\u001b[0m\u001b[0mstopWords\u001b[0m\u001b[0;34m,\u001b[0m \u001b[0mresume\u001b[0m\u001b[0;34m)\u001b[0m\u001b[0;34m\u001b[0m\u001b[0;34m\u001b[0m\u001b[0m\n\u001b[1;32m     11\u001b[0m \u001b[0;34m\u001b[0m\u001b[0m\n\u001b[0;32m---> 12\u001b[0;31m \u001b[0mresume\u001b[0m \u001b[0;34m=\u001b[0m \u001b[0mclean_input\u001b[0m\u001b[0;34m(\u001b[0m\u001b[0mresume\u001b[0m\u001b[0;34m)\u001b[0m\u001b[0;34m\u001b[0m\u001b[0;34m\u001b[0m\u001b[0m\n\u001b[0m",
      "\u001b[0;32m<ipython-input-49-9dd004fca39a>\u001b[0m in \u001b[0;36mclean_input\u001b[0;34m(resume)\u001b[0m\n\u001b[1;32m      3\u001b[0m \u001b[0;32mdef\u001b[0m \u001b[0mclean_input\u001b[0m\u001b[0;34m(\u001b[0m\u001b[0mresume\u001b[0m\u001b[0;34m)\u001b[0m\u001b[0;34m:\u001b[0m\u001b[0;34m\u001b[0m\u001b[0;34m\u001b[0m\u001b[0m\n\u001b[1;32m      4\u001b[0m     \u001b[0mresume\u001b[0m \u001b[0;34m=\u001b[0m \u001b[0;34m(\u001b[0m\u001b[0mresume\u001b[0m\u001b[0;34m.\u001b[0m\u001b[0msplit\u001b[0m\u001b[0;34m(\u001b[0m\u001b[0;34m\" \"\u001b[0m\u001b[0;34m)\u001b[0m\u001b[0;34m)\u001b[0m\u001b[0;34m\u001b[0m\u001b[0;34m\u001b[0m\u001b[0m\n\u001b[0;32m----> 5\u001b[0;31m     \u001b[0mstopWords\u001b[0m \u001b[0;34m=\u001b[0m \u001b[0mset\u001b[0m\u001b[0;34m(\u001b[0m\u001b[0mstopwords\u001b[0m\u001b[0;34m.\u001b[0m\u001b[0mwords\u001b[0m\u001b[0;34m(\u001b[0m\u001b[0;34m'english'\u001b[0m\u001b[0;34m)\u001b[0m\u001b[0;34m)\u001b[0m\u001b[0;34m\u001b[0m\u001b[0;34m\u001b[0m\u001b[0m\n\u001b[0m\u001b[1;32m      6\u001b[0m     \u001b[0mtokenize_remove_punct\u001b[0m \u001b[0;34m=\u001b[0m \u001b[0mRegexpTokenizer\u001b[0m\u001b[0;34m(\u001b[0m\u001b[0;34mr'\\w+'\u001b[0m\u001b[0;34m)\u001b[0m\u001b[0;34m\u001b[0m\u001b[0;34m\u001b[0m\u001b[0m\n\u001b[1;32m      7\u001b[0m     \u001b[0mlemma\u001b[0m \u001b[0;34m=\u001b[0m \u001b[0mWordNetLemmatizer\u001b[0m\u001b[0;34m(\u001b[0m\u001b[0;34m)\u001b[0m\u001b[0;34m\u001b[0m\u001b[0;34m\u001b[0m\u001b[0m\n",
      "\u001b[0;31mAttributeError\u001b[0m: 'set' object has no attribute 'words'"
     ]
    }
   ],
   "source": [
    "resume = \"AQEEL ALI Aqeelali0312@gmail.com | (408) 718-0712 | www.linkedin.com/in/aqeelali786 EDUCATION: California Polytechnic University, San Luis Obispo, CA B.S. Business Administration – Financial Management Concentration Minor in Psychology ● Honors: Principal’s List (3.5+ GPA for three consecutive academic terms) - Fall 2019 ● Relevant Coursework: Financial Engineering in Risk Management, Computer Applications in Finance, Advanced Corporate Finance Chartered Financial Analyst Level Two Candidate Exam Date: Nov 2021 ● Pursuing CFA designation by acquiring a wide breadth of portfolio management skills. ● Level One Exam passed on June 2019. WORK EXPERIENCE: Middle Market Portfolio Analyst – Comerica Bank, San Jose, CA Jul 2019 to Present ● Analyze employer’s Middle Market business for the California region through industry, financial, macroeconomic data and other supporting credit information concerning an applicant's credit requests. ● Identify key business and financial risks that may impact the repayment prospects by the borrower. ● Expertise in Salesforce Data Management and CRM software systems utilized while underwriting to 8-figure commercial banking facilities ranging from $5M to $100M loans and facilities. aggregate exposure of bank assets. ● Prepare, review and assess the creditworthiness of commercial loan originations and renewals by evaluating tax returns, spreads of financial statements, historical trends, rent rolls, leases, projections, management performance, industry reports, cash flow models, capital structure and collateral analysis and other relevant data to analyze portfolio companies’ repayment capacity. ● Ensure the integrity of performance data for clientele and prospects and maintain ongoing relationships with thecustodial partners banks, vendors, and internal groups. ● Offer insights into customer financial needs, including opportunities identified using Line of Business-approved relationship expansion tools. Contribute personal insights related to a loan structure's effectiveness to mitigate risks, appropriate to prevailing competitive market environment and Bank risk tolerances. ● Prepared & presented nation-wide internal quarterly Company Q1 & Q2 2020 earnings reports and portfolio updates (within a team of four). ● Undertook special project initiative while fluidly adapting self-starter work ethic to a remote work environment during the initial rollout of Federal Treasury Payroll Protection Program and reviewed numerous applicants’ eligibility & fund usage during COVID-19 global pandemic. Venture Capital Analyst Intern - LDR Ventures, San Luis Obispo, CA Jan 2019 to Apr 2019 ● Analyzed investment opportunities up to $1.5M, prepared fundraising pitches to external stakeholders and prospective investors, and identified potential risks for early stage portfolio companies ● Assisted in building pricing models to help companies launch multiple new product lines and conduct stress tests under varying scenario analyses. ● Oversaw a personally proposed initiative for a portfolio company’s marketing campaign across universities in California. LEADERSHIP & OTHER RELEVANT EXPERIENCE Banking Valuations, Investment Banking Society San Luis Obispo, CA Jan 2019 to Feb 2019 ● Took an extracurricular course which covered the three main methods of company valuations ● Competed in a Goldman Sachs case competition against over 20 teams to create a pitch deck and presentation for a real case study. Recommended a company’s IPO by analyzing their financial position, creating a pro forma financial model, computing value with several valuation methodologies and examining IPO market conditions Member - MacIntalkers of Toastmasters International Apple Cupertino, CA Jul 2018 to Feb 2020 ● Delivered five public speeches under the “Dynamic Leadership” Pathways project. ● Developed effective communication skills on a weekly basis. \" \n",
    "\n",
    "def clean_input(resume):\n",
    "    resume = (resume.split(\" \"))\n",
    "    stopWords = set(stopwords.words('english'))\n",
    "    tokenize_remove_punct = RegexpTokenizer(r'\\w+')\n",
    "    lemma = WordNetLemmatizer()\n",
    "\n",
    "    # Cleaning descriptions for both the whole dataset and CO only\n",
    "    return clean_descriptions(stopWords, resume)\n",
    "\n",
    "resume = clean_input(resume)"
   ]
  },
  {
   "cell_type": "code",
   "execution_count": 54,
   "id": "78f96ce3",
   "metadata": {},
   "outputs": [],
   "source": [
    "ce_resume = \"Tim Kasteler, Chemical Engineer tim.q.kasteler@gmail.com linkedin.com/in/timqkasteler641-234-1466 Professional Summary Perceptive chemical engineer with 2+ years of experience. Skilled in process design and project management. Seeking to deliver out-of-the-box solutions at Agaffre, inc. At Lesiliti, lowered equipment malfunctions by 20% through improved work procedures and maintenance. Raised throughput 25% by designing two new production processes. Work Experience Chemical EngineerLesiliti, Inc.Feb 2017–May 2019    Slashed equipment malfunctions by 20% with improved work procedures and maintenance.    Trained 20 technicians and chemists in production best practices, cutting defects by 15%.    Designed and implemented new changeover procedures that saved 18 labor hours per week.    Increased throughput 25% through design of two new production processes. ChemistTrukgill, Inc.Feb 2016–Jan 2017    Developed new waste-stream treatment process that reduced waste output by 18%.    Created a new technique to retrieve by-products that saved $20,000 a year. Education 2011–2015 University of Northern IowaBachelor of Science in Chemical Engineering    Pursued a passion for process design coursework.    Conducted project in waste stream management that was written up in IChemE blog. Skills     Technical Skills: Project management, process design, testing, management    Soft Skills: Interpersonal skills, collaboration, communication, efficiency Activities   Leader of weekly fishing club.  financial  Article, “Waste Stream Management” published in Chemical Processing Blog.\"\n",
    "occupation = predict_one(model, ce_resume)\n",
    "# ce_resume = clean_input(ce_resume)"
   ]
  },
  {
   "cell_type": "code",
   "execution_count": 55,
   "id": "38e679ad",
   "metadata": {},
   "outputs": [],
   "source": [
    "stopWords = set(stopwords.words('english'))\n",
    "add_stopwords = {\n",
    "    'join', 'work', 'team', 'future', 'digital', 'technology', 'access', 'leader', 'industry', 'history', 'innovation',\n",
    "    'year', 'customer', 'focused', 'leading', 'business', 'ability', 'country', 'employee', 'www', 'seeking',\n",
    "    'location', 'role', 'responsible', 'designing', 'code', 'ideal', 'candidate', 'also', 'duty', 'without', 'excellent',\n",
    "    'set', 'area', 'well', 'use', 'strong', 'self', 'help', 'diverse', 'every', 'day', 'equal', 'employment', 'opportunity',\n",
    "    'affirmative', 'action', 'employer', 'diversity', 'qualified', 'applicant', 'receive', 'consideration', 'regard',\n",
    "    'race', 'color', 'religion', 'sex', 'national', 'origin', 'status', 'age', 'sexual', 'orientation', 'gender',\n",
    "    'identity', 'disability', 'marital', 'family', 'medical', 'protected', 'veteran', 'reasonable', 'accomodation',\n",
    "    'protect', 'status', 'equal', 'discriminate', 'hire', 'hiring','inclusive', 'diverse','benefits','vacation','000','10','nike',\"trustpilot\"\n",
    "}\n",
    "\n",
    "stopWords = stopWords.union(add_stopwords)"
   ]
  },
  {
   "cell_type": "code",
   "execution_count": 62,
   "id": "b9d66eb2",
   "metadata": {},
   "outputs": [
    {
     "name": "stdout",
     "output_type": "stream",
     "text": [
      "<class 'numpy.ndarray'>\n",
      "<class 'numpy.ndarray'>\n",
      "['material', 'site', 'development', 'data', 'control', 'quality', 'safety', 'operation', 'recruiting', 'integrity']\n"
     ]
    }
   ],
   "source": [
    "# get difference between words \n",
    "def suggested_keywords(resume,occupation):\n",
    "# Generate list of key words for that class\n",
    "    suggested_words,key_words = [],[]\n",
    "    for i in range(len(d[occupation])):\n",
    "        key_words.append(d[occupation][i][0])\n",
    "\n",
    "# add to suggested words list if resume doesn't contain matching words\n",
    "    for i,key_word in enumerate(key_words):\n",
    "        if i > 10 and suggested_words == []:\n",
    "            contains_top_10 = True\n",
    "            return []\n",
    "        if key_word not in resume:\n",
    "            suggested_words.append(key_word)\n",
    "\n",
    "# Look through list of needed words\n",
    "# If any word stems begin with list of words to change, change it to a understandable output.\n",
    "    start_of_words_to_change = [\"financ\",\"analy\",\"engineer\", \"model\",]\n",
    "    for i,word in enumerate(suggested_words):\n",
    "        for check in start_of_words_to_change:\n",
    "            if word.startswith(check):\n",
    "                if check == \"financ\":\n",
    "                    suggested_words[i] = \"Variations of the word: finance\"\n",
    "\n",
    "                elif check == \"analy\":\n",
    "                    suggested_words[i] = \"Variations of the word: analysis\"\n",
    "\n",
    "                else:\n",
    "                    suggested_words[i] = f\"Variations of the word: {check}\"\n",
    "\n",
    "    return suggested_words[:10]\n",
    "\n",
    "if suggested_keywords(clean_input(ce_resume),occupation) == []:\n",
    "    print(\"good job, you've got the top 10 words in your resume!\")\n",
    "    \n",
    "\n",
    "else: print(suggested_keywords(clean_input(ce_resume),occupation))"
   ]
  },
  {
   "cell_type": "code",
   "execution_count": 66,
   "id": "76f23ae8",
   "metadata": {},
   "outputs": [],
   "source": [
    "ds_resume = \"Anne LounsberryData Scientist, Microsoft Certified523-299-0012anne.c.lounsberry@gmail.comlinkedin.com/in/annelounsbery12github.com/annecarollounsberry Summary Microsoft Certified Data Scientist with 10+ years of experience in Python, R, Java, and Scala. Applied data mining to analyze ABC Inc. procurement processes demonstrating potential savings of $420,000 a year. Seeking to leverage my data visualization and big data modeling skills to help increase XYZ’s investment returns in the upcoming year. ExperienceSenior Data ScientistACB Inc.Los Angeles, CA2013–2019Developed end-to-end machine learning prototypes and scaled them to run in production environments. Increased efficiency by 23%.Contributed meaningful improvements to existing machine learning models through carefully directed research.Derived actionable insights from massive data sets with minimal support.Provided input into the collection of new data sources and the refinement of existing ones to improve analysis and model development.Key achievement: Applied data mining to analyze procurement processes resulting in savings of $420,000 a year. Machine Learning SpecialistAnyCompanySan Diego, CA2008–2013Collaborated with all team members to optimize Customer Relationship Management database for a high-volume real estate firm.Increased repeat business among real estate investors by 25%.Decreased wasted phone and email time by 57%.Build a machine-learning-based system of matching clients with tailored investment opportunities. Increased customer retention by 30%. Junior Data AnalystCapgeminiSan Diego, CA2005–2008Consulted and worked with development teams to determine, execute and deliver relevant solutions.Analyzed old information architectures and contributed to the design and development of the new one.Provided information, feedback and guidance to clients to support technology-related decision making. Education MSc in StatisticsUCLA, Los Angeles, CA2005Key Skills Technical Skills: Machine Learning, Data Visualization, Big Data, Data MiningProgramming Languages: Python, R, Java, Scala, PERLSoft Skills: Problem-Solving, Active Learning, Risk Analysis Certifications 2014, Google Certified Professional Data Engineer2008, Microsoft Professional Program Certificate in Data Science\"\n",
    "occupation = predict_one(model, ds_resume)"
   ]
  },
  {
   "cell_type": "code",
   "execution_count": 70,
   "id": "0052e2a9",
   "metadata": {},
   "outputs": [
    {
     "name": "stdout",
     "output_type": "stream",
     "text": [
      "<class 'numpy.ndarray'>\n"
     ]
    },
    {
     "data": {
      "image/png": "[encoded data removed]",
      "text/plain": [
       "<Figure size 432x288 with 1 Axes>"
      ]
     },
     "metadata": {
      "needs_background": "light"
     },
     "output_type": "display_data"
    }
   ],
   "source": [
    "sug_words = suggested_keywords(clean_input(ds_resume),occupation)\n",
    "text = \" \".join(text for text in sug_words)\n",
    "wordcloud = WordCloud(stopwords = [\"chemical\",\"insurance\", \"word\",\"the\",\"of\"],background_color=\"white\").generate(text)\n",
    "plt.imshow(wordcloud, interpolation='bilinear')\n",
    "plt.axis(\"off\")\n",
    "plt.show()\n"
   ]
  },
  {
   "cell_type": "markdown",
   "id": "51d08670",
   "metadata": {},
   "source": [
    "\n",
    "Given training on job descriptions, the goal is that the model can classify into these clusters (with percentage fit/matching) with NEW inputs. \n",
    "\n",
    "PCA/Cosine Similarity with eigenvectors. Model tells us % similarity.\n",
    "\n",
    " - go back and look at how features fit into the clusters\n",
    " \n",
    "Find HTML template\n"
   ]
  },
  {
   "cell_type": "markdown",
   "id": "cf39cfd7",
   "metadata": {},
   "source": [
    "# Recommend Jobs to Apply for Based On Resume"
   ]
  },
  {
   "cell_type": "markdown",
   "id": "29c37a82",
   "metadata": {},
   "source": [
    "\n",
    "how to predict top jobs\n",
    "- \n",
    "- based on current resume matchup, \n",
    "- spit out top 5 job URLs"
   ]
  },
  {
   "cell_type": "markdown",
   "id": "2b70ccf5",
   "metadata": {},
   "source": [
    "## Cosine Similarity Matching"
   ]
  },
  {
   "cell_type": "code",
   "execution_count": 100,
   "id": "84631189",
   "metadata": {},
   "outputs": [],
   "source": [
    "from sklearn.feature_extraction.text import CountVectorizer\n",
    "cv = CountVectorizer()\n",
    "# count_matrix = cv.fit_transform(cleaned_descriptions)"
   ]
  },
  {
   "cell_type": "code",
   "execution_count": 83,
   "id": "051b97f8",
   "metadata": {},
   "outputs": [],
   "source": [
    "ce_resume = \"Tim Kasteler, Chemical Engineertim.q.kasteler@gmail.comlinkedin.com/in/timqkasteler641-234-1466 Professional Summary Perceptive chemical engineer with 2+ years of experience. Skilled in process design and project management. Seeking to deliver out-of-the-box solutions at Agaffre, inc. At Lesiliti, lowered equipment malfunctions by 20% through improved work procedures and maintenance. Raised throughput 25% by designing two new production processes. Work Experience Chemical EngineerLesiliti, Inc.Feb 2017–May 2019    Slashed equipment malfunctions by 20% with improved work procedures and maintenance.    Trained 20 technicians and chemists in production best practices, cutting defects by 15%.    Designed and implemented new changeover procedures that saved 18 labor hours per week.    Increased throughput 25% through design of two new production processes. ChemistTrukgill, Inc.Feb 2016–Jan 2017    Developed new waste-stream treatment process that reduced waste output by 18%.    Created a new technique to retrieve by-products that saved $20,000 a year. Education 2011–2015 University of Northern IowaBachelor of Science in Chemical Engineering    Pursued a passion for process design coursework.    Conducted project in waste stream management that was written up in IChemE blog. Skills     Technical Skills: Project management, process design, testing, management    Soft Skills: Interpersonal skills, collaboration, communication, efficiency Activities     Leader of weekly fishing club.    Article, “Waste Stream Management” published in Chemical Processing Blog.\"\n",
    "\n",
    "occupation = predict_one(model, ce_resume)\n",
    "# ce_resume = clean_input(ce_resume)"
   ]
  },
  {
   "cell_type": "code",
   "execution_count": 107,
   "id": "3e67109b",
   "metadata": {},
   "outputs": [],
   "source": [
    "resume = \"AQEEL ALI Aqeelali0312@gmail.com | (408) 718-0712 | www.linkedin.com/in/aqeelali786 EDUCATION: California Polytechnic University, San Luis Obispo, CA B.S. Business Administration – Financial Management Concentration Minor in Psychology ● Honors: Principal’s List (3.5+ GPA for three consecutive academic terms) - Fall 2019 ● Relevant Coursework: Financial Engineering in Risk Management, Computer Applications in Finance, Advanced Corporate Finance Chartered Financial Analyst Level Two Candidate Exam Date: Nov 2021 ● Pursuing CFA designation by acquiring a wide breadth of portfolio management skills. ● Level One Exam passed on June 2019. WORK EXPERIENCE: Middle Market Portfolio Analyst – Comerica Bank, San Jose, CA Jul 2019 to Present ● Analyze employer’s Middle Market business for the California region through industry, financial, macroeconomic data and other supporting credit information concerning an applicant's credit requests. ● Identify key business and financial risks that may impact the repayment prospects by the borrower. ● Expertise in Salesforce Data Management and CRM software systems utilized while underwriting to 8-figure commercial banking facilities ranging from $5M to $100M loans and facilities. aggregate exposure of bank assets. ● Prepare, review and assess the creditworthiness of commercial loan originations and renewals by evaluating tax returns, spreads of financial statements, historical trends, rent rolls, leases, projections, management performance, industry reports, cash flow models, capital structure and collateral analysis and other relevant data to analyze portfolio companies’ repayment capacity. ● Ensure the integrity of performance data for clientele and prospects and maintain ongoing relationships with thecustodial partners banks, vendors, and internal groups. ● Offer insights into customer financial needs, including opportunities identified using Line of Business-approved relationship expansion tools. Contribute personal insights related to a loan structure's effectiveness to mitigate risks, appropriate to prevailing competitive market environment and Bank risk tolerances. ● Prepared & presented nation-wide internal quarterly Company Q1 & Q2 2020 earnings reports and portfolio updates (within a team of four). ● Undertook special project initiative while fluidly adapting self-starter work ethic to a remote work environment during the initial rollout of Federal Treasury Payroll Protection Program and reviewed numerous applicants’ eligibility & fund usage during COVID-19 global pandemic. Venture Capital Analyst Intern - LDR Ventures, San Luis Obispo, CA Jan 2019 to Apr 2019 ● Analyzed investment opportunities up to $1.5M, prepared fundraising pitches to external stakeholders and prospective investors, and identified potential risks for early stage portfolio companies ● Assisted in building pricing models to help companies launch multiple new product lines and conduct stress tests under varying scenario analyses. ● Oversaw a personally proposed initiative for a portfolio company’s marketing campaign across universities in California. LEADERSHIP & OTHER RELEVANT EXPERIENCE Banking Valuations, Investment Banking Society San Luis Obispo, CA Jan 2019 to Feb 2019 ● Took an extracurricular course which covered the three main methods of company valuations ● Competed in a Goldman Sachs case competition against over 20 teams to create a pitch deck and presentation for a real case study. Recommended a company’s IPO by analyzing their financial position, creating a pro forma financial model, computing value with several valuation methodologies and examining IPO market conditions Member - MacIntalkers of Toastmasters International Apple Cupertino, CA Jul 2018 to Feb 2020 ● Delivered five public speeches under the “Dynamic Leadership” Pathways project. ● Developed effective communication skills on a weekly basis. \" \n",
    "cp_resume = \"Colin ParkerData ScientistMenlo Park, CA; open to remotecolin.parker@gmail.com           GitHub /cmp5au         LinkedIn /colinmp        (757) 331-0304TECHNICAL SKILLSPython: Pandas, NumPy, SciPy Stats, MatPlotLib, Scikit-LearnBig Data: Spark, AWS S3, AWS EC2, DockerData Science: SQL, MongoDB, Statistics, Machine Learning, Regression Models, Classification Techniques, Web Scraping, Data Analytics, Linux, Bash, Git, GitHubDATA SCIENCE PROJECTSCommon Material Imbalances in Chess  [Github link] | EDA and Hypothesis Testing on Chess Match DataAnalyzed over 5 million amateur-level blitz games from Lichess.org using Bash scripting to check for 77 different board positions and determine the outcome of the gameUsed Python libraries Pandas and MatPlotLib to distill command-line output and visualize findingsPresented insights and data visualizations to an audience of data scientistsResults: Discovered 3 statistically significant effects on outcome of the game in an equal-material situation\"\n",
    "lyft_job_descdesc = \"Financial Analyst, Strategy Finance at Lyft San Francisco, CA At Lyft, our mission is to improve people’s lives with the world’s best transportation. To do this, we start with our own community by creating an open, inclusive, and diverse organization.  Lyft is hiring a Financial Analyst for its Strategy Finance Team. The candidate in this position will provide financial and analytical support to drive strategic decisions for the company and help prepare financial management reporting. As a Financial Analyst, you will work directly with stakeholders across Finance in forecasting, planning and reporting key metrics to senior leadership.  Responsibilities: Help in analyzing & modeling forecast trends for total company financials Assist in the preparation and analysis of consolidated P&L for actuals and forecasts, help the FP&A team on deliverables, ongoing variance analysis, and ad hoc modeling Help lead the FP&A team through weekly and monthly forecasting Assist in the quarterly and annual strategic planning process Collaborate with Investor Relations by analyzing relevant financial information in preparation for the earnings call and investor presentations Team up with Corporate Development to create Board of Directors financials Partner with FP&A, Accounting, Treasury, Tax, and HR to forecast centralized expenses Drive monthly and quarterly close activities for FP&A and support consolidated management reporting Partner with Accounting to manage close timelines, process and reporting Manage creation of internal executive reporting documents including board, close and other management presentations and workbooks Support initiatives to create process efficiencies & improvements within FP&A Experience: BA/BS with 3+ years of experience in financial planning and analytics (FP&A) in a rigorous environment Corporate Finance, forecasting, or consolidations experience is a plus Detail-oriented and organized self-starter with a drive to dig into complex problems Advanced Excel skills. Experience building complex formulas and manipulating large data sets Ability to work in a fast-paced, team-based environment with minimal supervision Research, quantitative and analytical skills Comfortable navigating through financial statements Ability to organize and track overlapping tasks and assignments, with frequent priority changes Strong interpersonal and communication skills, with the ability to communicate and influence effectively across various departments Benefits: Great medical, dental, and vision insurance options Mental health benefits In addition to 12 observed holidays, salaried team members have unlimited paid time off, hourly team members have 15 days paid time off 401(k) plan to help save for your future 18 weeks of paid parental leave. Biological, adoptive, and foster parents are all eligible Pre-tax commuter benefits Lyft Pink - Lyft team members get an exclusive opportunity to test new benefits of our Ridership Program \" \n",
    "occupation = predict_one(model, cp_resume)\n",
    "cp_resume = cp_resume.replace('\\r', ' ').replace('\\n', ' ')\n",
    "desc_df = df[df['job_title']==occupation]\n",
    "desc_df= desc_df.drop(columns = [\"Unnamed: 0\", \"Unnamed: 0.1\"])\n",
    "desc_df = desc_df.drop_duplicates(subset=['url'],keep='first')\n"
   ]
  },
  {
   "cell_type": "code",
   "execution_count": 108,
   "id": "60abed8d",
   "metadata": {},
   "outputs": [],
   "source": [
    "# index into df where it matches occupation\n",
    "from sklearn.metrics.pairwise import cosine_similarity\n",
    "\n",
    "descs = list(desc_df[\"job_desc\"])\n",
    "d = {}\n",
    "for i in range(len(desc_df)):\n",
    "    url = desc_df.iloc[i,1]\n",
    "    desc = desc_df.iloc[i,2]\n",
    "    desc_matrix = cv.fit_transform([cp_resume,desc])\n",
    "    if url in d.keys():\n",
    "        print(i)\n",
    "        print('duplicate value found!')\n",
    "    if url not in d.keys():\n",
    "        d[url] = cosine_similarity(desc_matrix)[0][1]  "
   ]
  },
  {
   "cell_type": "code",
   "execution_count": 109,
   "id": "394c4c3a",
   "metadata": {},
   "outputs": [
    {
     "data": {
      "text/plain": [
       "[('https://www.indeed.com/rc/clk?jk=ef758c2a2cc9bd0e&fccid=cceb23865a19cf1f&vjs=3',\n",
       "  0.5983171506825267),\n",
       " ('https://www.indeed.com/rc/clk?jk=e7fd76df69df2bba&fccid=e309b8a71206cc5c&vjs=3',\n",
       "  0.588248889386967),\n",
       " ('https://www.indeed.com/rc/clk?jk=cfece4422431a05e&fccid=71577148eaac7151&vjs=3',\n",
       "  0.5863527298559493),\n",
       " ('https://www.indeed.com/rc/clk?jk=09f8cd8459b8f448&fccid=f0595ebb13247329&vjs=3',\n",
       "  0.5843174662988364),\n",
       " ('https://www.indeed.com/pagead/clk?mo=r&ad=-6NYlbfkN0BVoV32QmoUFgOupNolFmN9Fybhu4UG63m2DRXRK3OC9u2gTASRHwTteS7igaL9EldSSuCjYP1Ptq4LwI9P4lT1zRf9b0wZv1khMeqjdA4lBRRZxNAXAzSQes2FHqaa1VSon-smN7IuJaMVTdqJfmIx1lkO8pT7PNygT_3OpT49zB9qjiwgS7PY8udUS4VPSsMMpgo2N7gW6AbfAZLr0dtPAfw9zvL7oLZm90ELF8xyDKoxeEsrGJkBu-2y5LDOjiMYTc7Q-ufA3weEYEOWF8ZHyjKwFPivHpkRBIrK_ocCrctg3gB8JvvwlVqC25dOZKo_p-wZfof6KqUQrY4mIM9b6DchHGv-B8KSr9ynYM3F3BFEsxgxw0x1n5RMJAgv3ZQEkAqNMHyKICDU1sJVtmmZ3im3hYYTU91ftdaRLcqGIqgBD1yv4pTMtcCem98In0dm8YvnMTnD2UDwFGcbst8LuPEsxW95HQWxlhL6MMfM6BrP-78XMrgf_tn_AtDjOIfdcWt5xGCdusTTpPR3qizvFxgMoU6j2f0=&p=2&fvj=1&vjs=3',\n",
       "  0.5816054811902843)]"
      ]
     },
     "execution_count": 109,
     "metadata": {},
     "output_type": "execute_result"
    }
   ],
   "source": [
    "sorted_d = [(k,v) for k, v in sorted(list(d.items()), key = lambda x : x[1])][::-1]\n",
    "sorted_d[:5]"
   ]
  },
  {
   "cell_type": "code",
   "execution_count": 110,
   "id": "547b54ca",
   "metadata": {},
   "outputs": [
    {
     "ename": "NameError",
     "evalue": "name 'resume_count_matrix' is not defined",
     "output_type": "error",
     "traceback": [
      "\u001b[0;31m---------------------------------------------------------------------------\u001b[0m",
      "\u001b[0;31mNameError\u001b[0m                                 Traceback (most recent call last)",
      "\u001b[0;32m<ipython-input-110-4f64612d8bbf>\u001b[0m in \u001b[0;36m<module>\u001b[0;34m\u001b[0m\n\u001b[0;32m----> 1\u001b[0;31m \u001b[0mmatchPercentage\u001b[0m \u001b[0;34m=\u001b[0m  \u001b[0mround\u001b[0m\u001b[0;34m(\u001b[0m\u001b[0mcosine_similarity\u001b[0m\u001b[0;34m(\u001b[0m\u001b[0mresume_count_matrix\u001b[0m\u001b[0;34m)\u001b[0m\u001b[0;34m[\u001b[0m\u001b[0;36m0\u001b[0m\u001b[0;34m]\u001b[0m\u001b[0;34m[\u001b[0m\u001b[0;36m1\u001b[0m\u001b[0;34m]\u001b[0m\u001b[0;34m*\u001b[0m\u001b[0;36m100\u001b[0m\u001b[0;34m,\u001b[0m\u001b[0;36m2\u001b[0m\u001b[0;34m)\u001b[0m\u001b[0;34m\u001b[0m\u001b[0;34m\u001b[0m\u001b[0m\n\u001b[0m",
      "\u001b[0;31mNameError\u001b[0m: name 'resume_count_matrix' is not defined"
     ]
    }
   ],
   "source": [
    "matchPercentage =  round(cosine_similarity(resume_count_matrix)[0][1]*100,2)"
   ]
  },
  {
   "cell_type": "code",
   "execution_count": null,
   "id": "3f791001",
   "metadata": {},
   "outputs": [],
   "source": [
    "matchPercentage"
   ]
  },
  {
   "cell_type": "code",
   "execution_count": null,
   "id": "5534b32d",
   "metadata": {},
   "outputs": [],
   "source": [
    "from sklearn.model_selection import cross_val_score\n",
    "\n",
    "models = [\n",
    "    LogisticRegression(),\n",
    "    LinearSVC()\n",
    "]\n",
    "CV = 5\n",
    "cv_df = pd.DataFrame(index=range(CV * len(models)))\n",
    "entries = []\n",
    "\n",
    "\n",
    "X_train, X_test, y_train, y_test = _split_data(df)\n",
    "# for _model in models:\n",
    "#     model = fit(_model,X_train,y_train)\n",
    "#     accuracies = cross_val_score(model, X_test, y_test, scoring='accuracy', cv=CV)\n",
    "#     for fold_idx, accuracy in enumerate(accuracies):\n",
    "#         entries.append((_model, fold_idx, accuracy))\n",
    "\n",
    "labels = df['job_title']\n",
    "tfidf = TfidfVectorizer(sublinear_tf=True, min_df=5, norm='l2', encoding='latin-1', ngram_range=(1, 2), stop_words='english')\n",
    "features = tfidf.fit_transform(df['job_desc']).toarray()\n",
    "\n",
    "for _model in models:\n",
    "    model_name = _model.__class__.__name__\n",
    "#     _model = _model.fit(X_train,y_train)\n",
    "    accuracies = cross_val_score(_model, features, labels, scoring='accuracy', cv=CV)\n",
    "    print(accuracies)\n",
    "    for fold_idx, accuracy in enumerate(accuracies):\n",
    "        entries.append((model_name, fold_idx, accuracy))\n",
    "        cv_df = pd.DataFrame(entries, columns=['model_name', 'fold_idx', 'accuracy'])"
   ]
  },
  {
   "cell_type": "code",
   "execution_count": null,
   "id": "0fe054af",
   "metadata": {},
   "outputs": [],
   "source": [
    "cv_df = pd.DataFrame(entries, columns=['model_name', 'fold_idx', 'accuracy'])\n",
    "print(cv_df)"
   ]
  },
  {
   "cell_type": "code",
   "execution_count": null,
   "id": "606a84b2",
   "metadata": {},
   "outputs": [],
   "source": [
    "\n",
    "plt.figure(figsize=(20,20))\n",
    "\n",
    "plt.boxplot(x=cv_df,labels = labels)\n",
    "\n",
    "# labels = [\"Chemical Engineer\" ,  \"Data Scientist\", \"Financial Analyst\" ,  \"Physician\",   \"Recruiter\" ,  \"Underwriter\"]\n",
    "labels = \"Logistics Regression\",\"Linear SVC\" , "
   ]
  },
  {
   "cell_type": "code",
   "execution_count": null,
   "id": "80ec5e92",
   "metadata": {},
   "outputs": [],
   "source": [
    "\n",
    "import seaborn as sns\n",
    "\n",
    "labels = cv_df['model_name']\n",
    "sns.boxplot(x='model_name', y='accuracy', data=cv_df)\n",
    "sns.stripplot(x='model_name', y='accuracy', data=cv_df, \n",
    "              size=8, jitter=True, edgecolor=\"gray\", linewidth=2)\n",
    "plt.figure(20,20)\n",
    "plt.show()"
   ]
  },
  {
   "cell_type": "code",
   "execution_count": null,
   "id": "84ac8517",
   "metadata": {},
   "outputs": [],
   "source": []
  }
 ],
 "metadata": {
  "kernelspec": {
   "display_name": "Python 3",
   "language": "python",
   "name": "python3"
  },
  "language_info": {
   "codemirror_mode": {
    "name": "ipython",
    "version": 3
   },
   "file_extension": ".py",
   "mimetype": "text/x-python",
   "name": "python",
   "nbconvert_exporter": "python",
   "pygments_lexer": "ipython3",
   "version": "3.8.10"
  }
 },
 "nbformat": 4,
 "nbformat_minor": 5
}
