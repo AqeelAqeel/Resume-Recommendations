{
 "cells": [
  {
   "cell_type": "code",
   "execution_count": 1,
   "id": "1765c9a5",
   "metadata": {},
   "outputs": [],
   "source": [
    "import numpy as np\n",
    "import pandas as pd\n",
    "import matplotlib.pyplot as plt\n",
    "from sklearn.feature_extraction.text import TfidfVectorizer\n",
    "import nltk\n",
    "from nltk.stem import WordNetLemmatizer\n",
    "from nltk.tokenize import RegexpTokenizer\n",
    "from nltk.corpus import stopwords\n",
    "from nltk.corpus import wordnet\n",
    "from sklearn.metrics.pairwise import euclidean_distances"
   ]
  },
  {
   "cell_type": "code",
   "execution_count": 3,
   "id": "665c339b",
   "metadata": {},
   "outputs": [
    {
     "data": {
      "text/plain": [
       "Recruiter            2042\n",
       "Data Scientist       1597\n",
       "Financial Analyst    1523\n",
       "Physician            1462\n",
       "Underwriter          1403\n",
       "Chemical Engineer    1028\n",
       "Name: job_title, dtype: int64"
      ]
     },
     "execution_count": 3,
     "metadata": {},
     "output_type": "execute_result"
    }
   ],
   "source": [
    "df = pd.read_csv('../../data/cleaned_job_descriptions')\n",
    "df.to_pickle('cleaned_job_descriptions.pickle')\n",
    "#Disparity / Class Balance Check\n",
    "df['job_title'].value_counts()"
   ]
  },
  {
   "cell_type": "code",
   "execution_count": 4,
   "id": "84db2e90",
   "metadata": {},
   "outputs": [],
   "source": [
    "df[\"job_id\"] = df[\"job_title\"].factorize()[0]\n",
    "job_id_df = df[['job_id', 'job_title']].drop_duplicates().sort_values('job_id')\n",
    "id_to_job = dict(job_id_df[['job_id', 'job_title']].values)\n",
    "# Setting targets and training data\n",
    "features = df['job_desc'].values\n",
    "targets = df['job_id']"
   ]
  },
  {
   "cell_type": "code",
   "execution_count": 5,
   "id": "1179cad2",
   "metadata": {},
   "outputs": [
    {
     "data": {
      "text/html": [
       "<div>\n",
       "<style scoped>\n",
       "    .dataframe tbody tr th:only-of-type {\n",
       "        vertical-align: middle;\n",
       "    }\n",
       "\n",
       "    .dataframe tbody tr th {\n",
       "        vertical-align: top;\n",
       "    }\n",
       "\n",
       "    .dataframe thead th {\n",
       "        text-align: right;\n",
       "    }\n",
       "</style>\n",
       "<table border=\"1\" class=\"dataframe\">\n",
       "  <thead>\n",
       "    <tr style=\"text-align: right;\">\n",
       "      <th></th>\n",
       "      <th>job_id</th>\n",
       "      <th>job_title</th>\n",
       "    </tr>\n",
       "  </thead>\n",
       "  <tbody>\n",
       "    <tr>\n",
       "      <th>0</th>\n",
       "      <td>0</td>\n",
       "      <td>Data Scientist</td>\n",
       "    </tr>\n",
       "    <tr>\n",
       "      <th>410</th>\n",
       "      <td>1</td>\n",
       "      <td>Financial Analyst</td>\n",
       "    </tr>\n",
       "    <tr>\n",
       "      <th>773</th>\n",
       "      <td>2</td>\n",
       "      <td>Underwriter</td>\n",
       "    </tr>\n",
       "    <tr>\n",
       "      <th>2176</th>\n",
       "      <td>3</td>\n",
       "      <td>Chemical Engineer</td>\n",
       "    </tr>\n",
       "    <tr>\n",
       "      <th>3204</th>\n",
       "      <td>4</td>\n",
       "      <td>Physician</td>\n",
       "    </tr>\n",
       "    <tr>\n",
       "      <th>4666</th>\n",
       "      <td>5</td>\n",
       "      <td>Recruiter</td>\n",
       "    </tr>\n",
       "  </tbody>\n",
       "</table>\n",
       "</div>"
      ],
      "text/plain": [
       "      job_id          job_title\n",
       "0          0     Data Scientist\n",
       "410        1  Financial Analyst\n",
       "773        2        Underwriter\n",
       "2176       3  Chemical Engineer\n",
       "3204       4          Physician\n",
       "4666       5          Recruiter"
      ]
     },
     "execution_count": 5,
     "metadata": {},
     "output_type": "execute_result"
    }
   ],
   "source": [
    "job_id_df"
   ]
  },
  {
   "cell_type": "code",
   "execution_count": 6,
   "id": "838717cf",
   "metadata": {},
   "outputs": [],
   "source": [
    "def remove_stopwords(stopWords, descriptions):\n",
    "    cleaned_descriptions = []\n",
    "    for description in descriptions:\n",
    "        temp_list = []\n",
    "        for word in description.split():\n",
    "            if word not in stopWords:\n",
    "                temp_list.append(word.lower())\n",
    "        cleaned_descriptions.append(' '.join(temp_list))\n",
    "    return np.array(cleaned_descriptions)\n",
    "\n",
    "def remove_punctuation(descriptions):\n",
    "    no_punct_descriptions = []\n",
    "    for description in descriptions:\n",
    "        description_no_punct = ' '.join(RegexpTokenizer(r'\\w+').tokenize(description))\n",
    "        no_punct_descriptions.append(description_no_punct)\n",
    "    return np.array(no_punct_descriptions)\n",
    "\n",
    "def get_wordnet_pos(word):\n",
    "    # nltk.download()\n",
    "\n",
    "    tag = nltk.pos_tag([word])[0][1][0].upper()\n",
    "    tag_dict = {'J': wordnet.ADJ,\n",
    "               'N': wordnet.NOUN,\n",
    "               'V': wordnet.VERB,\n",
    "               'R': wordnet.ADV}\n",
    "    return tag_dict.get(tag, wordnet.NOUN)\n",
    "\n",
    "def lemmatize_descriptions(descriptions):\n",
    "    cleaned_descriptions = []\n",
    "    for description in descriptions:\n",
    "        temp_list = []\n",
    "        for word in description.split():\n",
    "            cleaned_word = WordNetLemmatizer().lemmatize(word, get_wordnet_pos(word))\n",
    "            temp_list.append(cleaned_word)\n",
    "        cleaned_descriptions.append(' '.join(temp_list))\n",
    "    return np.array(cleaned_descriptions)\n",
    "\n",
    "def clean_descriptions(stopWords, descriptions):\n",
    "    no_punct = remove_punctuation(descriptions)\n",
    "    no_punct_sw = remove_stopwords(stopWords, no_punct)\n",
    "    cleaned = lemmatize_descriptions(no_punct_sw)\n",
    "    print(type(cleaned))\n",
    "    return cleaned\n",
    "\n",
    "def get_representative_jobs(df, kmeans):\n",
    "    cluster_centers = kmeans.cluster_centers_\n",
    "    for cent in cluster_centers:\n",
    "        print('\\nCluster Represnetations')\n",
    "        dist = euclidean_distances(cent.reshape(1,-1), tfidf)\n",
    "        order = np.argsort(dist)\n",
    "        for o in order[0][:5]:\n",
    "            title = df['job_title'].iloc[o]\n",
    "            print(title)"
   ]
  },
  {
   "cell_type": "code",
   "execution_count": 7,
   "id": "c55d937a",
   "metadata": {},
   "outputs": [
    {
     "name": "stdout",
     "output_type": "stream",
     "text": [
      "curr path is:\n",
      "/home/aqeelali7/Documents/Galvanize/Capstone-3-ATS/The-Right-Resume/src/jupyter-notebooks\n",
      "<class 'numpy.ndarray'>\n"
     ]
    }
   ],
   "source": [
    "if __name__ == '__main__':\n",
    "    import os\n",
    "    print(\"curr path is:\")\n",
    "    print(os.getcwd())\n",
    "    \n",
    "    \n",
    "    # Setting targets and training data\n",
    "    descriptions = df['job_desc'].values\n",
    "    targets = df['job_id']\n",
    "    \n",
    "    \n",
    "    # Creating stop words\n",
    "    stopWords = set(stopwords.words('english'))\n",
    "    add_stopwords = {\n",
    "        'join', 'work', 'team', 'future', 'digital', 'technology', 'access', 'leader', 'industry', 'history', 'innovation',\n",
    "        'year', 'customer', 'focused', 'leading', 'business', 'ability', 'country', 'employee', 'www', 'seeking',\n",
    "        'location', 'role', 'responsible', 'designing', 'code', 'ideal', 'candidate', 'also', 'duty', 'without', 'excellent',\n",
    "        'set', 'area', 'well', 'use', 'strong', 'self', 'help', 'diverse', 'every', 'day', 'equal', 'employment', 'opportunity',\n",
    "        'affirmative', 'action', 'employer', 'diversity', 'qualified', 'applicant', 'receive', 'consideration', 'regard',\n",
    "        'race', 'color', 'religion', 'sex', 'national', 'origin', 'status', 'age', 'sexual', 'orientation', 'gender',\n",
    "        'identity', 'disability', 'marital', 'family', 'medical', 'protected', 'veteran', 'reasonable', 'accomodation',\n",
    "        'protect', 'status', 'equal', 'discriminate', 'hire', 'hiring','inclusive', 'diverse','benefits','vacation','000','10','nike',\"trustpilot\"\n",
    "    }\n",
    "    \n",
    "    stopWords = stopWords.union(add_stopwords)\n",
    "\n",
    "    # Initializing punctuation remover and lemmatizer\n",
    "    tokenize_remove_punct = RegexpTokenizer(r'\\w+')\n",
    "    lemma = WordNetLemmatizer()\n",
    "\n",
    "    # Cleaning descriptions for both the whole dataset and CO only\n",
    "    cleaned_descriptions = clean_descriptions(stopWords, descriptions)\n",
    "    "
   ]
  },
  {
   "cell_type": "code",
   "execution_count": 8,
   "id": "d1808596",
   "metadata": {},
   "outputs": [],
   "source": [
    "from sklearn.pipeline import Pipeline\n",
    "def _split_data(df):\n",
    "\n",
    "    return train_test_split(cleaned_descriptions, df['job_title'].values)\n",
    "\n",
    "def fit(model, X,y):\n",
    "    pipe = Pipeline([('vect', CountVectorizer(stop_words=stopWords, min_df=0.1, max_df=0.75, max_features=500,ngram_range=(1, 2))),\n",
    "    ('tfidf', TfidfTransformer()),\n",
    "    ('clf', model),\n",
    "    ])\n",
    "    pipe.fit(X,y)\n",
    "    \n",
    "    return pipe\n",
    "\n",
    "def predict(pipe,X_test):\n",
    "    return pipe.predict(X_test)\n",
    "\n",
    "def predict_one(pipe, desc):\n",
    "    return pipe.predict(pd.Series([desc])).tolist()[0]\n",
    "\n",
    "def predict_one_proba(pipe, desc):\n",
    "    return pipe.predict_proba(pd.Series([desc]))"
   ]
  },
  {
   "cell_type": "code",
   "execution_count": 9,
   "id": "93574a0e",
   "metadata": {},
   "outputs": [],
   "source": [
    "from sklearn.ensemble import RandomForestClassifier\n",
    "from sklearn.svm import LinearSVC\n",
    "from sklearn.naive_bayes import MultinomialNB\n",
    "from sklearn.linear_model import LogisticRegression\n",
    "from sklearn.model_selection import train_test_split\n",
    "from sklearn.feature_extraction.text import CountVectorizer\n",
    "from sklearn.feature_extraction.text import TfidfTransformer\n",
    "from sklearn.pipeline import Pipeline\n",
    "import numpy as np\n",
    "from sklearn.metrics import accuracy_score,classification_report"
   ]
  },
  {
   "cell_type": "code",
   "execution_count": 9,
   "id": "685e43d2",
   "metadata": {},
   "outputs": [],
   "source": [
    "models = [\n",
    "    RandomForestClassifier(n_estimators=200, max_depth=3, random_state=0),\n",
    "    LinearSVC(),\n",
    "    MultinomialNB(),\n",
    "    LogisticRegression(random_state=0),\n",
    "]\n"
   ]
  },
  {
   "cell_type": "code",
   "execution_count": 10,
   "id": "7050dc1c",
   "metadata": {},
   "outputs": [
    {
     "ename": "NameError",
     "evalue": "name 'models' is not defined",
     "output_type": "error",
     "traceback": [
      "\u001b[0;31m---------------------------------------------------------------------------\u001b[0m",
      "\u001b[0;31mNameError\u001b[0m                                 Traceback (most recent call last)",
      "\u001b[0;32m<ipython-input-10-f70a5b80cbb1>\u001b[0m in \u001b[0;36m<module>\u001b[0;34m\u001b[0m\n\u001b[1;32m      1\u001b[0m \u001b[0mX_train\u001b[0m\u001b[0;34m,\u001b[0m \u001b[0mX_test\u001b[0m\u001b[0;34m,\u001b[0m \u001b[0my_train\u001b[0m\u001b[0;34m,\u001b[0m \u001b[0my_test\u001b[0m \u001b[0;34m=\u001b[0m \u001b[0m_split_data\u001b[0m\u001b[0;34m(\u001b[0m\u001b[0mdf\u001b[0m\u001b[0;34m)\u001b[0m\u001b[0;34m\u001b[0m\u001b[0;34m\u001b[0m\u001b[0m\n\u001b[1;32m      2\u001b[0m \u001b[0;34m\u001b[0m\u001b[0m\n\u001b[0;32m----> 3\u001b[0;31m \u001b[0;32mfor\u001b[0m \u001b[0mmodel\u001b[0m \u001b[0;32min\u001b[0m \u001b[0mmodels\u001b[0m\u001b[0;34m:\u001b[0m\u001b[0;34m\u001b[0m\u001b[0;34m\u001b[0m\u001b[0m\n\u001b[0m\u001b[1;32m      4\u001b[0m     \u001b[0mmodel\u001b[0m \u001b[0;34m=\u001b[0m \u001b[0mfit\u001b[0m\u001b[0;34m(\u001b[0m\u001b[0mmodel\u001b[0m\u001b[0;34m,\u001b[0m\u001b[0mX_train\u001b[0m\u001b[0;34m,\u001b[0m\u001b[0my_train\u001b[0m\u001b[0;34m)\u001b[0m\u001b[0;34m\u001b[0m\u001b[0;34m\u001b[0m\u001b[0m\n\u001b[1;32m      5\u001b[0m     \u001b[0mpredictions\u001b[0m \u001b[0;34m=\u001b[0m \u001b[0mpredict\u001b[0m\u001b[0;34m(\u001b[0m\u001b[0mmodel\u001b[0m\u001b[0;34m,\u001b[0m\u001b[0mX_test\u001b[0m\u001b[0;34m)\u001b[0m\u001b[0;34m\u001b[0m\u001b[0;34m\u001b[0m\u001b[0m\n",
      "\u001b[0;31mNameError\u001b[0m: name 'models' is not defined"
     ]
    }
   ],
   "source": [
    "X_train, X_test, y_train, y_test = _split_data(df)\n",
    "\n",
    "for model in models:\n",
    "    model = fit(model,X_train,y_train)\n",
    "    predictions = predict(model,X_test)\n",
    "    print(model)\n",
    "    print(accuracy_score(predictions,y_test))\n",
    "    print(classification_report(predictions,y_test))"
   ]
  },
  {
   "cell_type": "code",
   "execution_count": 11,
   "id": "dcb8f193",
   "metadata": {
    "scrolled": true
   },
   "outputs": [
    {
     "data": {
      "text/plain": [
       "[('engineering', 5.859710996802112),\n",
       " ('chemical', 4.454805364601922),\n",
       " ('process', 3.5625421179221797),\n",
       " ('technical', 2.8198231355449157),\n",
       " ('design', 2.6783557471803108),\n",
       " ('engineer', 2.6413465230707405),\n",
       " ('project', 2.5815011707041697),\n",
       " ('material', 2.252458736468928),\n",
       " ('equipment', 2.220596136511228),\n",
       " ('data', 1.8531881085126838),\n",
       " ('test', 1.8032938305490014),\n",
       " ('financial', 1.7727091315346175),\n",
       " ('development', 1.71992245563504),\n",
       " ('site', 1.6634949203668536),\n",
       " ('control', 1.5105747021775502),\n",
       " ('production', 1.4265528956766584),\n",
       " ('quality', 1.4111575137432917),\n",
       " ('safety', 1.331659590266507),\n",
       " ('product', 1.2504321804276255),\n",
       " ('recruiting', 1.099849263981079),\n",
       " ('analytics', 1.099790636668165),\n",
       " ('scale', 1.0221242520692941),\n",
       " ('underwriting', 1.006781875105572),\n",
       " ('finance', 1.0005804819611976),\n",
       " ('discipline', 0.9944678283369353),\n",
       " ('system', 0.95781297999874),\n",
       " ('operation', 0.9438528889544124),\n",
       " ('integrity', 0.9427270513190867),\n",
       " ('care', 0.9181496612372123),\n",
       " ('clinical', 0.8896873213530044),\n",
       " ('facility', 0.8665314011668519),\n",
       " ('drive', 0.8594702792632039),\n",
       " ('successful', 0.8504488914541496),\n",
       " ('science', 0.8457869311583068),\n",
       " ('characteristic', 0.8249274301072459),\n",
       " ('analyst', 0.7753272473761542),\n",
       " ('result', 0.7582277700884761),\n",
       " ('develop', 0.7420383435143811),\n",
       " ('patient', 0.7288603614291861),\n",
       " ('life', 0.7237676550467954),\n",
       " ('travel', 0.7208357748423746),\n",
       " ('accounting', 0.711282633725983),\n",
       " ('improvement', 0.6898747913015412),\n",
       " ('information', 0.6862151682949814),\n",
       " ('computer', 0.6814566333961531),\n",
       " ('university', 0.6712488500771493),\n",
       " ('group', 0.6694323908374777),\n",
       " ('source', 0.6686567843511076),\n",
       " ('hand', 0.661214082951333),\n",
       " ('environment', 0.6562494065538119),\n",
       " ('deep', 0.65553167242989),\n",
       " ('community', 0.6552215270923396),\n",
       " ('requirement', 0.6509953803513758),\n",
       " ('call', 0.6372405669124324),\n",
       " ('company', 0.6338710966822354),\n",
       " ('multiple', 0.6268882131389693),\n",
       " ('software', 0.6250465299701771),\n",
       " ('training', 0.6207854293409151),\n",
       " ('physician', 0.6137068439561533),\n",
       " ('review', 0.5989167499536903),\n",
       " ('talent', 0.5981117864799692),\n",
       " ('time', 0.5975125747453449),\n",
       " ('value', 0.5932941217842943),\n",
       " ('impact', 0.5929811611053762),\n",
       " ('support', 0.5901993803583977),\n",
       " ('manager', 0.5897741960663648),\n",
       " ('event', 0.5867912031777924),\n",
       " ('field', 0.5783187841673754),\n",
       " ('machine learn', 0.5736624344714376),\n",
       " ('remote', 0.5704406937202328),\n",
       " ('activity', 0.5565502535662619),\n",
       " ('expression', 0.5548126979468998),\n",
       " ('college', 0.5538127659200314),\n",
       " ('enable', 0.5457894869280632),\n",
       " ('underwriter', 0.5401907750198679),\n",
       " ('statistic', 0.5392988913202975),\n",
       " ('improve', 0.5356169471066435),\n",
       " ('home', 0.5279709557857447),\n",
       " ('per', 0.527362260757823),\n",
       " ('technique', 0.5267710292668203),\n",
       " ('account', 0.5255289807844757),\n",
       " ('related', 0.5230624183958006),\n",
       " ('background', 0.5224026582021649),\n",
       " ('service', 0.5199187570748843),\n",
       " ('full', 0.5073738589007204),\n",
       " ('one', 0.49997393094529063),\n",
       " ('credit', 0.4939221220161643),\n",
       " ('match', 0.493485050161605),\n",
       " ('general', 0.49149028986399734),\n",
       " ('strategy', 0.4914664340691797),\n",
       " ('end', 0.49036731708614834),\n",
       " ('public', 0.48953204832064035),\n",
       " ('intelligence', 0.48902029641432043),\n",
       " ('building', 0.48747921829798896),\n",
       " ('director', 0.48615630158646617),\n",
       " ('execute', 0.4841003713545569),\n",
       " ('marketing', 0.4838703173780688),\n",
       " ('benefit', 0.4812871153640701),\n",
       " ('compliance', 0.4792477424586977),\n",
       " ('effective', 0.4784310232169)]"
      ]
     },
     "execution_count": 11,
     "metadata": {},
     "output_type": "execute_result"
    }
   ],
   "source": [
    "coefs = model.named_steps.clf.coef_\n",
    "feats = model.named_steps.vect.get_feature_names()\n",
    "\n",
    "# take coefficients and feature names, sorted? \n",
    "\n",
    "dct = {\"feats\":feats,\"coef\":coefs[0,:].tolist()}\n",
    "\n",
    "titles = [\"Chemical Engineer\",\"Data Scientist\",\"Financial Analyst\",\"Physician\",\"Recruiter\",\"Underwriter\"]\n",
    "\n",
    "d = dict()\n",
    "for i,title in enumerate(titles):\n",
    "    coefs[i,:]\n",
    "    dct = {\"feats\":feats,\"coef\":coefs[i,:].tolist()}\n",
    "    top_words_df = pd.DataFrame(dct)\n",
    "    top_words_df[\"coef\"] = top_words_df[\"coef\"].abs()\n",
    "    top_words_df = top_words_df.sort_values(\"coef\",ascending = False)\n",
    "    a = top_words_df.feats.values.tolist()[:100]\n",
    "    b = top_words_df.coef.values.tolist()[:100]\n",
    "    d[title] = list(zip(a,b))\n",
    "    \n",
    "d[\"Chemical Engineer\"]"
   ]
  },
  {
   "cell_type": "markdown",
   "id": "4013dbbd",
   "metadata": {},
   "source": [
    "using dict of words... co\n",
    "Use dict key value for word comparisons to resume\n",
    "but only output the top keywords in each resume"
   ]
  },
  {
   "cell_type": "markdown",
   "id": "bc10d842",
   "metadata": {},
   "source": [
    " turn the top keywords of FA into a set. This set is what the model builds as a profile of an FA. \n",
    "    if 'analy' is in 'word':\n",
    "        word = analysis\n",
    "        \n",
    "- if word.startswith('analy'):\n",
    "    word = 'analysis\n",
    "    change the keyword itself to something else"
   ]
  },
  {
   "cell_type": "code",
   "execution_count": 12,
   "id": "e1d52c22",
   "metadata": {},
   "outputs": [
    {
     "name": "stdout",
     "output_type": "stream",
     "text": [
      "0.9553886925795053\n",
      "                   precision    recall  f1-score   support\n",
      "\n",
      "Chemical Engineer       0.98      0.98      0.98       273\n",
      "   Data Scientist       0.95      0.89      0.92       437\n",
      "Financial Analyst       0.91      0.96      0.94       365\n",
      "        Physician       0.97      0.97      0.97       369\n",
      "        Recruiter       0.96      0.97      0.96       488\n",
      "      Underwriter       0.97      0.97      0.97       332\n",
      "\n",
      "         accuracy                           0.96      2264\n",
      "        macro avg       0.96      0.96      0.96      2264\n",
      "     weighted avg       0.96      0.96      0.96      2264\n",
      "\n"
     ]
    }
   ],
   "source": [
    "X_train, X_test, y_train, y_test = _split_data(df)\n",
    "model = fit(LogisticRegression(),X_train,y_train)\n",
    "predictions = predict(model,X_test)\n",
    "print(accuracy_score(predictions,y_test))\n",
    "print(classification_report(predictions,y_test))"
   ]
  },
  {
   "cell_type": "code",
   "execution_count": 13,
   "id": "83b38243",
   "metadata": {},
   "outputs": [],
   "source": [
    "import pickle\n",
    "filename = 'LogisticRegression.sav'\n",
    "pickle.dump(model, open(filename, 'wb'))"
   ]
  },
  {
   "cell_type": "code",
   "execution_count": 14,
   "id": "57dc3ad4",
   "metadata": {},
   "outputs": [],
   "source": [
    "resume = \"AQEEL ALI Aqeelali0312@gmail.com | (408) 718-0712 | www.linkedin.com/in/aqeelali786 EDUCATION: California Polytechnic University, San Luis Obispo, CA B.S. Business Administration – Financial Management Concentration Minor in Psychology ● Honors: Principal’s List (3.5+ GPA for three consecutive academic terms) - Fall 2019 ● Relevant Coursework: Financial Engineering in Risk Management, Computer Applications in Finance, Advanced Corporate Finance Chartered Financial Analyst Level Two Candidate Exam Date: Nov 2021 ● Pursuing CFA designation by acquiring a wide breadth of portfolio management skills. ● Level One Exam passed on June 2019. WORK EXPERIENCE: Middle Market Portfolio Analyst – Comerica Bank, San Jose, CA Jul 2019 to Present ● Analyze employer’s Middle Market business for the California region through industry, financial, macroeconomic data and other supporting credit information concerning an applicant's credit requests. ● Identify key business and financial risks that may impact the repayment prospects by the borrower. ● Expertise in Salesforce Data Management and CRM software systems utilized while underwriting to 8-figure commercial banking facilities ranging from $5M to $100M loans and facilities. aggregate exposure of bank assets. ● Prepare, review and assess the creditworthiness of commercial loan originations and renewals by evaluating tax returns, spreads of financial statements, historical trends, rent rolls, leases, projections, management performance, industry reports, cash flow models, capital structure and collateral analysis and other relevant data to analyze portfolio companies’ repayment capacity. ● Ensure the integrity of performance data for clientele and prospects and maintain ongoing relationships with thecustodial partners banks, vendors, and internal groups. ● Offer insights into customer financial needs, including opportunities identified using Line of Business-approved relationship expansion tools. Contribute personal insights related to a loan structure's effectiveness to mitigate risks, appropriate to prevailing competitive market environment and Bank risk tolerances. ● Prepared & presented nation-wide internal quarterly Company Q1 & Q2 2020 earnings reports and portfolio updates (within a team of four). ● Undertook special project initiative while fluidly adapting self-starter work ethic to a remote work environment during the initial rollout of Federal Treasury Payroll Protection Program and reviewed numerous applicants’ eligibility & fund usage during COVID-19 global pandemic. Venture Capital Analyst Intern - LDR Ventures, San Luis Obispo, CA Jan 2019 to Apr 2019 ● Analyzed investment opportunities up to $1.5M, prepared fundraising pitches to external stakeholders and prospective investors, and identified potential risks for early stage portfolio companies ● Assisted in building pricing models to help companies launch multiple new product lines and conduct stress tests under varying scenario analyses. ● Oversaw a personally proposed initiative for a portfolio company’s marketing campaign across universities in California. LEADERSHIP & OTHER RELEVANT EXPERIENCE Banking Valuations, Investment Banking Society San Luis Obispo, CA Jan 2019 to Feb 2019 ● Took an extracurricular course which covered the three main methods of company valuations ● Competed in a Goldman Sachs case competition against over 20 teams to create a pitch deck and presentation for a real case study. Recommended a company’s IPO by analyzing their financial position, creating a pro forma financial model, computing value with several valuation methodologies and examining IPO market conditions Member - MacIntalkers of Toastmasters International Apple Cupertino, CA Jul 2018 to Feb 2020 ● Delivered five public speeches under the “Dynamic Leadership” Pathways project. ● Developed effective communication skills on a weekly basis. \" \n",
    "lyft_job_desc = \"Financial Analyst, Strategy Finance at Lyft San Francisco, CA At Lyft, our mission is to improve people’s lives with the world’s best transportation. To do this, we start with our own community by creating an open, inclusive, and diverse organization.  Lyft is hiring a Financial Analyst for its Strategy Finance Team. The candidate in this position will provide financial and analytical support to drive strategic decisions for the company and help prepare financial management reporting. As a Financial Analyst, you will work directly with stakeholders across Finance in forecasting, planning and reporting key metrics to senior leadership.  Responsibilities: Help in analyzing & modeling forecast trends for total company financials Assist in the preparation and analysis of consolidated P&L for actuals and forecasts, help the FP&A team on deliverables, ongoing variance analysis, and ad hoc modeling Help lead the FP&A team through weekly and monthly forecasting Assist in the quarterly and annual strategic planning process Collaborate with Investor Relations by analyzing relevant financial information in preparation for the earnings call and investor presentations Team up with Corporate Development to create Board of Directors financials Partner with FP&A, Accounting, Treasury, Tax, and HR to forecast centralized expenses Drive monthly and quarterly close activities for FP&A and support consolidated management reporting Partner with Accounting to manage close timelines, process and reporting Manage creation of internal executive reporting documents including board, close and other management presentations and workbooks Support initiatives to create process efficiencies & improvements within FP&A Experience: BA/BS with 3+ years of experience in financial planning and analytics (FP&A) in a rigorous environment Corporate Finance, forecasting, or consolidations experience is a plus Detail-oriented and organized self-starter with a drive to dig into complex problems Advanced Excel skills. Experience building complex formulas and manipulating large data sets Ability to work in a fast-paced, team-based environment with minimal supervision Research, quantitative and analytical skills Comfortable navigating through financial statements Ability to organize and track overlapping tasks and assignments, with frequent priority changes Strong interpersonal and communication skills, with the ability to communicate and influence effectively across various departments Benefits: Great medical, dental, and vision insurance options Mental health benefits In addition to 12 observed holidays, salaried team members have unlimited paid time off, hourly team members have 15 days paid time off 401(k) plan to help save for your future 18 weeks of paid parental leave. Biological, adoptive, and foster parents are all eligible Pre-tax commuter benefits Lyft Pink - Lyft team members get an exclusive opportunity to test new benefits of our Ridership Program \" \n",
    "cmgr_job_desc = \"About the Role: Raydiant is looking for a lover of technology, a customer-success driven channel manager to help build the channel and achieve set goals.  Customer Success Managers (Channel) coordinate and work closely with various channel partners and affiliates to build and grow the pipeline and sell our solutions to businesses. As a channel customer success manager, you will manage Raydiant’s business relationships within the US; working with customers from many different industries. You will help us achieve our mission of managing the channel partners we have, qualify and recruit more qualified partners to help drive business and grow the channel side of the business. This role is based in the office at our San Francisco, CA headquarters in the SOMA neighborhood. What You Will Be Doing:  Prospecting, qualifying and on-boarding channel partners that can help the company drive business growth month over month Be able to forecast monthly sales revenue and achieve sales goals and KPIs set by management hannel customer success managers will help manage all partners with a focus on creating yearly and quarterly channel plans Be able to travel and meet channel partners, to conduct presentations and live demos of the product Channel customer success managers will focus on training Raydiant partners on effective methods for selling, using the partner portal and using Raydiant’s product Channel customer success managers will build an excellent relationship with channel partners and have a focus on retaining sophisticated partners while coaching inexperienced Raydiant partners on the best sales practices. Channel customer success managers will create monthly sales reports and communicate channel partners monthly commission to them in coordination with the finance department To own management of the channel PRM To conduct webinars to attract new partners and conduct training sessions on new products and services   What We Are Looking For:   Passion for sales in B2B The motivation to go the extra mile with a positive can-do attitude Bachelor’s degree or equivalent experience Excellent communication and relationship-building relationship skills; you like to negotiate and to achieve targets  Strong software and new technology awareness At least 2-years experience in channel sales within a SaaS product line Proficient with Salesforce\"  \n",
    "ds_1_desc = \"We are looking for a Data Scientist who will support our product, sales, leadership and marketing teams with insights gained from analyzing company data. The ideal candidate is adept at using large data sets to find opportunities for product and process optimization and using models to test the effectiveness of different courses of action. They must have strong experience using a variety of data mining/data analysis methods, using a variety of data tools, building and implementing models, using/creating algorithms and creating/running simulations. They must have a proven ability to drive business results with their data-based insights. They must be comfortable working with a wide range of stakeholders and functional teams. The right candidate will have a passion for discovering solutions hidden in large data sets and working with stakeholders to improve business outcomes.Responsibilities for Data ScientistWork with stakeholders throughout the organization to identify opportunities for leveraging company data to drive business solutions.Mine and analyze data from company databases to drive optimization and improvement of product development, marketing techniques and business strategies.Assess the effectiveness and accuracy of new data sources and data gathering techniques.Develop custom data models and algorithms to apply to data sets.Use predictive modeling to increase and optimize customer experiences, revenue generation, ad targeting and other business outcomes.Develop company A/B testing framework and test model quality.Coordinate with different functional teams to implement models and monitor outcomes.Develop processes and tools to monitor and analyze model performance and data accuracy.Qualifications for Data ScientistStrong problem solving skills with an emphasis on product development.Experience using statistical computer languages (R, Python, SLQ, etc.) to manipulate data and draw insights from large data sets.Experience working with and creating data architectures.Knowledge of a variety of machine learning techniques (clustering, decision tree learning, artificial neural networks, etc.) and their real-world advantages/drawbacks.Knowledge of advanced statistical techniques and concepts (regression, properties of distributions, statistical tests and proper usage, etc.) and experience with applications.Excellent written and verbal communication skills for coordinating across teams.A drive to learn and master new technologies and techniques.We’re looking for someone with 5-7 years of experience manipulating data sets and building statistical models, has a Master’s or PHD in Statistics, Mathematics, Computer Science or another quantitative field, and is familiar with the following software/tools:Coding knowledge and experience with several languages: C, C++, Java,JavaScript, etc.Knowledge and experience in statistical and data mining techniques: GLM/Regression, Random Forest, Boosting, Trees, text mining, social network analysis, etc.Experience querying databases and using statistical computer languages: R, Python, SLQ, etc.Experience using web services: Redshift, S3, Spark, DigitalOcean, etc.Experience creating and using advanced machine learning algorithms and statistics: regression, simulation, scenario analysis, modeling, clustering, decision trees, neural networks, etc.Experience analyzing data from 3rd party providers: Google Analytics, Site Catalyst, Coremetrics, Adwords, Crimson Hexagon, Facebook Insights, etc.\""
   ]
  },
  {
   "cell_type": "code",
   "execution_count": 15,
   "id": "29903e68",
   "metadata": {},
   "outputs": [
    {
     "name": "stdout",
     "output_type": "stream",
     "text": [
      "Financial Analyst\n",
      "[[1.10499581e-03 7.05109034e-03 9.48694129e-01 9.87673257e-04\n",
      "  9.34939767e-04 4.12271715e-02]]\n"
     ]
    },
    {
     "data": {
      "text/plain": [
       "'Financial Analyst'"
      ]
     },
     "execution_count": 15,
     "metadata": {},
     "output_type": "execute_result"
    }
   ],
   "source": [
    "print(predict_one(model, resume))\n",
    "print(predict_one_proba(model, resume))\n",
    "label = predict_one(model, resume)\n",
    "label"
   ]
  },
  {
   "cell_type": "markdown",
   "id": "05c8abe3",
   "metadata": {},
   "source": [
    "##  Display Top keywords for predicted job classification\n",
    "\n",
    "- use split method on input string (resume in this case), \n",
    "- clean text of resume - like punctuation and stuff. \n",
    "- populate a split and add an item to a SET if the item is not in the SET.\n",
    "- clean the items within the set with stemming\n",
    "- on words that i manually truncate like finance, engineer, tell te user to 'add variations of the word \"{word_here}\"\n"
   ]
  },
  {
   "cell_type": "markdown",
   "id": "707dd0a0",
   "metadata": {},
   "source": [
    "\n",
    "take predicted class (job title in this case)\n",
    "- compare words in resume against top 30~50 words\n",
    "- suggest top 5-10 words needed.\n",
    "- create a set of words based on resume, compared against pickled model of top keywords. \n",
    "- if i am missing ___ in my input, tell it to put ___ there. \n",
    "\n",
    "Get a list of all words in resume\n",
    "    iterate through top words in the job (keywords_fa) set, \n",
    "        if topwords_FA not in resume:\n",
    "            print top 5\n"
   ]
  },
  {
   "cell_type": "code",
   "execution_count": 26,
   "id": "1accfedd",
   "metadata": {},
   "outputs": [
    {
     "name": "stdout",
     "output_type": "stream",
     "text": [
      "<class 'numpy.ndarray'>\n"
     ]
    }
   ],
   "source": [
    "resume = \"AQEEL ALI Aqeelali0312@gmail.com | (408) 718-0712 | www.linkedin.com/in/aqeelali786 EDUCATION: California Polytechnic University, San Luis Obispo, CA B.S. Business Administration – Financial Management Concentration Minor in Psychology ● Honors: Principal’s List (3.5+ GPA for three consecutive academic terms) - Fall 2019 ● Relevant Coursework: Financial Engineering in Risk Management, Computer Applications in Finance, Advanced Corporate Finance Chartered Financial Analyst Level Two Candidate Exam Date: Nov 2021 ● Pursuing CFA designation by acquiring a wide breadth of portfolio management skills. ● Level One Exam passed on June 2019. WORK EXPERIENCE: Middle Market Portfolio Analyst – Comerica Bank, San Jose, CA Jul 2019 to Present ● Analyze employer’s Middle Market business for the California region through industry, financial, macroeconomic data and other supporting credit information concerning an applicant's credit requests. ● Identify key business and financial risks that may impact the repayment prospects by the borrower. ● Expertise in Salesforce Data Management and CRM software systems utilized while underwriting to 8-figure commercial banking facilities ranging from $5M to $100M loans and facilities. aggregate exposure of bank assets. ● Prepare, review and assess the creditworthiness of commercial loan originations and renewals by evaluating tax returns, spreads of financial statements, historical trends, rent rolls, leases, projections, management performance, industry reports, cash flow models, capital structure and collateral analysis and other relevant data to analyze portfolio companies’ repayment capacity. ● Ensure the integrity of performance data for clientele and prospects and maintain ongoing relationships with thecustodial partners banks, vendors, and internal groups. ● Offer insights into customer financial needs, including opportunities identified using Line of Business-approved relationship expansion tools. Contribute personal insights related to a loan structure's effectiveness to mitigate risks, appropriate to prevailing competitive market environment and Bank risk tolerances. ● Prepared & presented nation-wide internal quarterly Company Q1 & Q2 2020 earnings reports and portfolio updates (within a team of four). ● Undertook special project initiative while fluidly adapting self-starter work ethic to a remote work environment during the initial rollout of Federal Treasury Payroll Protection Program and reviewed numerous applicants’ eligibility & fund usage during COVID-19 global pandemic. Venture Capital Analyst Intern - LDR Ventures, San Luis Obispo, CA Jan 2019 to Apr 2019 ● Analyzed investment opportunities up to $1.5M, prepared fundraising pitches to external stakeholders and prospective investors, and identified potential risks for early stage portfolio companies ● Assisted in building pricing models to help companies launch multiple new product lines and conduct stress tests under varying scenario analyses. ● Oversaw a personally proposed initiative for a portfolio company’s marketing campaign across universities in California. LEADERSHIP & OTHER RELEVANT EXPERIENCE Banking Valuations, Investment Banking Society San Luis Obispo, CA Jan 2019 to Feb 2019 ● Took an extracurricular course which covered the three main methods of company valuations ● Competed in a Goldman Sachs case competition against over 20 teams to create a pitch deck and presentation for a real case study. Recommended a company’s IPO by analyzing their financial position, creating a pro forma financial model, computing value with several valuation methodologies and examining IPO market conditions Member - MacIntalkers of Toastmasters International Apple Cupertino, CA Jul 2018 to Feb 2020 ● Delivered five public speeches under the “Dynamic Leadership” Pathways project. ● Developed effective communication skills on a weekly basis. \" \n",
    "\n",
    "def clean_input(resume):\n",
    "    resume = (resume.split(\" \"))\n",
    "    stopWords = set(stopwords.words('english'))\n",
    "    tokenize_remove_punct = RegexpTokenizer(r'\\w+')\n",
    "    lemma = WordNetLemmatizer()\n",
    "\n",
    "    # Cleaning descriptions for both the whole dataset and CO only\n",
    "    return clean_descriptions(stopWords, resume)\n",
    "\n",
    "resume = clean_input(resume)"
   ]
  },
  {
   "cell_type": "code",
   "execution_count": 17,
   "id": "78f96ce3",
   "metadata": {},
   "outputs": [],
   "source": [
    "ce_resume = \"Tim Kasteler, Chemical Engineer tim.q.kasteler@gmail.com linkedin.com/in/timqkasteler641-234-1466 Professional Summary Perceptive chemical engineer with 2+ years of experience. Skilled in process design and project management. Seeking to deliver out-of-the-box solutions at Agaffre, inc. At Lesiliti, lowered equipment malfunctions by 20% through improved work procedures and maintenance. Raised throughput 25% by designing two new production processes. Work Experience Chemical EngineerLesiliti, Inc.Feb 2017–May 2019    Slashed equipment malfunctions by 20% with improved work procedures and maintenance.    Trained 20 technicians and chemists in production best practices, cutting defects by 15%.    Designed and implemented new changeover procedures that saved 18 labor hours per week.    Increased throughput 25% through design of two new production processes. ChemistTrukgill, Inc.Feb 2016–Jan 2017    Developed new waste-stream treatment process that reduced waste output by 18%.    Created a new technique to retrieve by-products that saved $20,000 a year. Education 2011–2015 University of Northern IowaBachelor of Science in Chemical Engineering    Pursued a passion for process design coursework.    Conducted project in waste stream management that was written up in IChemE blog. Skills     Technical Skills: Project management, process design, testing, management    Soft Skills: Interpersonal skills, collaboration, communication, efficiency Activities   Leader of weekly fishing club.  financial  Article, “Waste Stream Management” published in Chemical Processing Blog.\"\n",
    "occupation = predict_one(model, ce_resume)\n",
    "# ce_resume = clean_input(ce_resume)"
   ]
  },
  {
   "cell_type": "code",
   "execution_count": 27,
   "id": "b9d66eb2",
   "metadata": {},
   "outputs": [
    {
     "name": "stdout",
     "output_type": "stream",
     "text": [
      "<class 'str'>\n",
      "<class 'numpy.ndarray'>\n",
      "<class 'numpy.ndarray'>\n",
      "<class 'numpy.ndarray'>\n"
     ]
    },
    {
     "ename": "KeyError",
     "evalue": "'Financial Analyst'",
     "output_type": "error",
     "traceback": [
      "\u001b[0;31m---------------------------------------------------------------------------\u001b[0m",
      "\u001b[0;31mKeyError\u001b[0m                                  Traceback (most recent call last)",
      "\u001b[0;32m<ipython-input-27-df2869f2dd39>\u001b[0m in \u001b[0;36m<module>\u001b[0;34m\u001b[0m\n\u001b[1;32m     34\u001b[0m \u001b[0mprint\u001b[0m\u001b[0;34m(\u001b[0m\u001b[0mtype\u001b[0m\u001b[0;34m(\u001b[0m\u001b[0mclean_input\u001b[0m\u001b[0;34m(\u001b[0m\u001b[0mce_resume\u001b[0m\u001b[0;34m)\u001b[0m\u001b[0;34m)\u001b[0m\u001b[0;34m)\u001b[0m\u001b[0;34m\u001b[0m\u001b[0;34m\u001b[0m\u001b[0m\n\u001b[1;32m     35\u001b[0m \u001b[0;34m\u001b[0m\u001b[0m\n\u001b[0;32m---> 36\u001b[0;31m \u001b[0;32mif\u001b[0m \u001b[0msuggested_keywords\u001b[0m\u001b[0;34m(\u001b[0m\u001b[0mclean_input\u001b[0m\u001b[0;34m(\u001b[0m\u001b[0mce_resume\u001b[0m\u001b[0;34m)\u001b[0m\u001b[0;34m,\u001b[0m\u001b[0moccupation\u001b[0m\u001b[0;34m)\u001b[0m \u001b[0;34m==\u001b[0m \u001b[0;34m[\u001b[0m\u001b[0;34m]\u001b[0m\u001b[0;34m:\u001b[0m\u001b[0;34m\u001b[0m\u001b[0;34m\u001b[0m\u001b[0m\n\u001b[0m\u001b[1;32m     37\u001b[0m     \u001b[0mprint\u001b[0m\u001b[0;34m(\u001b[0m\u001b[0;34m\"good job, you've got the top 10 words in your resume!\"\u001b[0m\u001b[0;34m)\u001b[0m\u001b[0;34m\u001b[0m\u001b[0;34m\u001b[0m\u001b[0m\n\u001b[1;32m     38\u001b[0m \u001b[0;34m\u001b[0m\u001b[0m\n",
      "\u001b[0;32m<ipython-input-27-df2869f2dd39>\u001b[0m in \u001b[0;36msuggested_keywords\u001b[0;34m(resume, occupation)\u001b[0m\n\u001b[1;32m      3\u001b[0m \u001b[0;31m# Generate list of key words for that class\u001b[0m\u001b[0;34m\u001b[0m\u001b[0;34m\u001b[0m\u001b[0;34m\u001b[0m\u001b[0m\n\u001b[1;32m      4\u001b[0m     \u001b[0msuggested_words\u001b[0m\u001b[0;34m,\u001b[0m\u001b[0mkey_words\u001b[0m \u001b[0;34m=\u001b[0m \u001b[0;34m[\u001b[0m\u001b[0;34m]\u001b[0m\u001b[0;34m,\u001b[0m\u001b[0;34m[\u001b[0m\u001b[0;34m]\u001b[0m\u001b[0;34m\u001b[0m\u001b[0;34m\u001b[0m\u001b[0m\n\u001b[0;32m----> 5\u001b[0;31m     \u001b[0;32mfor\u001b[0m \u001b[0mi\u001b[0m \u001b[0;32min\u001b[0m \u001b[0mrange\u001b[0m\u001b[0;34m(\u001b[0m\u001b[0mlen\u001b[0m\u001b[0;34m(\u001b[0m\u001b[0md\u001b[0m\u001b[0;34m[\u001b[0m\u001b[0moccupation\u001b[0m\u001b[0;34m]\u001b[0m\u001b[0;34m)\u001b[0m\u001b[0;34m)\u001b[0m\u001b[0;34m:\u001b[0m\u001b[0;34m\u001b[0m\u001b[0;34m\u001b[0m\u001b[0m\n\u001b[0m\u001b[1;32m      6\u001b[0m         \u001b[0mkey_words\u001b[0m\u001b[0;34m.\u001b[0m\u001b[0mappend\u001b[0m\u001b[0;34m(\u001b[0m\u001b[0md\u001b[0m\u001b[0;34m[\u001b[0m\u001b[0moccupation\u001b[0m\u001b[0;34m]\u001b[0m\u001b[0;34m[\u001b[0m\u001b[0mi\u001b[0m\u001b[0;34m]\u001b[0m\u001b[0;34m[\u001b[0m\u001b[0;36m0\u001b[0m\u001b[0;34m]\u001b[0m\u001b[0;34m)\u001b[0m\u001b[0;34m\u001b[0m\u001b[0;34m\u001b[0m\u001b[0m\n\u001b[1;32m      7\u001b[0m \u001b[0;34m\u001b[0m\u001b[0m\n",
      "\u001b[0;31mKeyError\u001b[0m: 'Financial Analyst'"
     ]
    }
   ],
   "source": [
    "# get difference between words \n",
    "def suggested_keywords(resume,occupation):\n",
    "# Generate list of key words for that class\n",
    "    suggested_words,key_words = [],[]\n",
    "    for i in range(len(d[occupation])):\n",
    "        key_words.append(d[occupation][i][0])\n",
    "\n",
    "# add to suggested words list if resume doesn't contain matching words\n",
    "    for i,key_word in enumerate(key_words):\n",
    "        if i > 10 and suggested_words == []:\n",
    "            contains_top_10 = True\n",
    "            return []\n",
    "        if key_word not in resume:\n",
    "            suggested_words.append(key_word)\n",
    "\n",
    "# Look through list of needed words\n",
    "# If any word stems begin with list of words to change, change it to a understandable output.\n",
    "    start_of_words_to_change = [\"financ\",\"analy\",\"engineer\", \"model\",]\n",
    "    for i,word in enumerate(suggested_words):\n",
    "        for check in start_of_words_to_change:\n",
    "            if word.startswith(check):\n",
    "                if check == \"financ\":\n",
    "                    suggested_words[i] = \"Variations of the word: finance\"\n",
    "\n",
    "                elif check == \"analy\":\n",
    "                    suggested_words[i] = \"Variations of the word: analysis\"\n",
    "\n",
    "                else:\n",
    "                    suggested_words[i] = f\"Variations of the word: {check}\"\n",
    "\n",
    "    return suggested_words[:5]\n",
    "\n",
    "print(type(ce_resume))\n",
    "print(type(clean_input(ce_resume)))\n",
    "\n",
    "if suggested_keywords(clean_input(ce_resume),occupation) == []:\n",
    "    print(\"good job, you've got the top 10 words in your resume!\")\n",
    "    \n",
    "else: print(suggested_keywords(clean_input(ce_resume),occupation))"
   ]
  },
  {
   "cell_type": "markdown",
   "id": "51d08670",
   "metadata": {},
   "source": [
    "\n",
    "Given training on job descriptions, the goal is that the model can classify into these clusters (with percentage fit/matching) with NEW inputs. \n",
    "\n",
    "PCA/Cosine Similarity with eigenvectors. Model tells us % similarity.\n",
    "\n",
    " - go back and look at how features fit into the clusters\n",
    " \n",
    "Find HTML template\n"
   ]
  },
  {
   "cell_type": "markdown",
   "id": "cf39cfd7",
   "metadata": {},
   "source": [
    "# Recommend Jobs to Apply for Based On Resume"
   ]
  },
  {
   "cell_type": "markdown",
   "id": "29c37a82",
   "metadata": {},
   "source": [
    "\n",
    "how to predict top jobs\n",
    "- \n",
    "- based on current resume matchup, \n",
    "- spit out top 5 job URLs"
   ]
  },
  {
   "cell_type": "markdown",
   "id": "2b70ccf5",
   "metadata": {},
   "source": [
    "## Cosine Similarity Matching"
   ]
  },
  {
   "cell_type": "code",
   "execution_count": 19,
   "id": "84631189",
   "metadata": {},
   "outputs": [],
   "source": [
    "from sklearn.feature_extraction.text import CountVectorizer\n",
    "cv = CountVectorizer()\n",
    "# count_matrix = cv.fit_transform(cleaned_descriptions)"
   ]
  },
  {
   "cell_type": "code",
   "execution_count": 20,
   "id": "051b97f8",
   "metadata": {},
   "outputs": [],
   "source": [
    "ce_resume = \"Tim Kasteler, Chemical Engineertim.q.kasteler@gmail.comlinkedin.com/in/timqkasteler641-234-1466 Professional Summary Perceptive chemical engineer with 2+ years of experience. Skilled in process design and project management. Seeking to deliver out-of-the-box solutions at Agaffre, inc. At Lesiliti, lowered equipment malfunctions by 20% through improved work procedures and maintenance. Raised throughput 25% by designing two new production processes. Work Experience Chemical EngineerLesiliti, Inc.Feb 2017–May 2019    Slashed equipment malfunctions by 20% with improved work procedures and maintenance.    Trained 20 technicians and chemists in production best practices, cutting defects by 15%.    Designed and implemented new changeover procedures that saved 18 labor hours per week.    Increased throughput 25% through design of two new production processes. ChemistTrukgill, Inc.Feb 2016–Jan 2017    Developed new waste-stream treatment process that reduced waste output by 18%.    Created a new technique to retrieve by-products that saved $20,000 a year. Education 2011–2015 University of Northern IowaBachelor of Science in Chemical Engineering    Pursued a passion for process design coursework.    Conducted project in waste stream management that was written up in IChemE blog. Skills     Technical Skills: Project management, process design, testing, management    Soft Skills: Interpersonal skills, collaboration, communication, efficiency Activities     Leader of weekly fishing club.    Article, “Waste Stream Management” published in Chemical Processing Blog.\"\n",
    "\n",
    "occupation = predict_one(model, ce_resume)\n",
    "# ce_resume = clean_input(ce_resume)"
   ]
  },
  {
   "cell_type": "code",
   "execution_count": 21,
   "id": "3e67109b",
   "metadata": {},
   "outputs": [
    {
     "data": {
      "text/html": [
       "<div>\n",
       "<style scoped>\n",
       "    .dataframe tbody tr th:only-of-type {\n",
       "        vertical-align: middle;\n",
       "    }\n",
       "\n",
       "    .dataframe tbody tr th {\n",
       "        vertical-align: top;\n",
       "    }\n",
       "\n",
       "    .dataframe thead th {\n",
       "        text-align: right;\n",
       "    }\n",
       "</style>\n",
       "<table border=\"1\" class=\"dataframe\">\n",
       "  <thead>\n",
       "    <tr style=\"text-align: right;\">\n",
       "      <th></th>\n",
       "      <th>job_title</th>\n",
       "      <th>url</th>\n",
       "      <th>job_desc</th>\n",
       "      <th>job_id</th>\n",
       "    </tr>\n",
       "  </thead>\n",
       "  <tbody>\n",
       "    <tr>\n",
       "      <th>410</th>\n",
       "      <td>Financial Analyst</td>\n",
       "      <td>https://www.indeed.com/pagead/clk?mo=r&amp;ad=-6NY...</td>\n",
       "      <td>Position FP&amp;A (Financial Planning &amp; Analysis) ...</td>\n",
       "      <td>1</td>\n",
       "    </tr>\n",
       "    <tr>\n",
       "      <th>411</th>\n",
       "      <td>Financial Analyst</td>\n",
       "      <td>https://www.indeed.com/pagead/clk?mo=r&amp;ad=-6NY...</td>\n",
       "      <td>JOB SUMMARY:  Finance Analyst will oversee the...</td>\n",
       "      <td>1</td>\n",
       "    </tr>\n",
       "    <tr>\n",
       "      <th>412</th>\n",
       "      <td>Financial Analyst</td>\n",
       "      <td>https://www.indeed.com/rc/clk?jk=c4884d2c3b54b...</td>\n",
       "      <td>Experienced in Clinical Trials budget</td>\n",
       "      <td>1</td>\n",
       "    </tr>\n",
       "    <tr>\n",
       "      <th>413</th>\n",
       "      <td>Financial Analyst</td>\n",
       "      <td>https://www.indeed.com/pagead/clk?mo=r&amp;ad=-6NY...</td>\n",
       "      <td>Job Title: Financial Analyst Location: Houston...</td>\n",
       "      <td>1</td>\n",
       "    </tr>\n",
       "    <tr>\n",
       "      <th>414</th>\n",
       "      <td>Financial Analyst</td>\n",
       "      <td>https://www.indeed.com/pagead/clk?mo=r&amp;ad=-6NY...</td>\n",
       "      <td>Job Order: 171631, 12 month contractMAIN FUNCT...</td>\n",
       "      <td>1</td>\n",
       "    </tr>\n",
       "    <tr>\n",
       "      <th>...</th>\n",
       "      <td>...</td>\n",
       "      <td>...</td>\n",
       "      <td>...</td>\n",
       "      <td>...</td>\n",
       "    </tr>\n",
       "    <tr>\n",
       "      <th>6555</th>\n",
       "      <td>Financial Analyst</td>\n",
       "      <td>https://www.indeed.com/rc/clk?jk=84c63ad537ca3...</td>\n",
       "      <td>What will you contribute?  Reporting to the Co...</td>\n",
       "      <td>1</td>\n",
       "    </tr>\n",
       "    <tr>\n",
       "      <th>6556</th>\n",
       "      <td>Financial Analyst</td>\n",
       "      <td>https://www.indeed.com/rc/clk?jk=9a0948d88a043...</td>\n",
       "      <td>Financial Analyst II  The Texas Department of ...</td>\n",
       "      <td>1</td>\n",
       "    </tr>\n",
       "    <tr>\n",
       "      <th>6557</th>\n",
       "      <td>Financial Analyst</td>\n",
       "      <td>https://www.indeed.com/rc/clk?jk=5d52cb4b0869b...</td>\n",
       "      <td>Financial Analyst, Treasury Location: Austin, ...</td>\n",
       "      <td>1</td>\n",
       "    </tr>\n",
       "    <tr>\n",
       "      <th>6558</th>\n",
       "      <td>Financial Analyst</td>\n",
       "      <td>https://www.indeed.com/rc/clk?jk=7b50db55c775c...</td>\n",
       "      <td>TMD - Budget Analyst I-II (OSA Budget Analyst)...</td>\n",
       "      <td>1</td>\n",
       "    </tr>\n",
       "    <tr>\n",
       "      <th>6559</th>\n",
       "      <td>Financial Analyst</td>\n",
       "      <td>https://www.indeed.com/rc/clk?jk=cdf78113733ec...</td>\n",
       "      <td>WHO WE ARE:   The Teacher Retirement System of...</td>\n",
       "      <td>1</td>\n",
       "    </tr>\n",
       "  </tbody>\n",
       "</table>\n",
       "<p>1523 rows × 4 columns</p>\n",
       "</div>"
      ],
      "text/plain": [
       "              job_title                                                url  \\\n",
       "410   Financial Analyst  https://www.indeed.com/pagead/clk?mo=r&ad=-6NY...   \n",
       "411   Financial Analyst  https://www.indeed.com/pagead/clk?mo=r&ad=-6NY...   \n",
       "412   Financial Analyst  https://www.indeed.com/rc/clk?jk=c4884d2c3b54b...   \n",
       "413   Financial Analyst  https://www.indeed.com/pagead/clk?mo=r&ad=-6NY...   \n",
       "414   Financial Analyst  https://www.indeed.com/pagead/clk?mo=r&ad=-6NY...   \n",
       "...                 ...                                                ...   \n",
       "6555  Financial Analyst  https://www.indeed.com/rc/clk?jk=84c63ad537ca3...   \n",
       "6556  Financial Analyst  https://www.indeed.com/rc/clk?jk=9a0948d88a043...   \n",
       "6557  Financial Analyst  https://www.indeed.com/rc/clk?jk=5d52cb4b0869b...   \n",
       "6558  Financial Analyst  https://www.indeed.com/rc/clk?jk=7b50db55c775c...   \n",
       "6559  Financial Analyst  https://www.indeed.com/rc/clk?jk=cdf78113733ec...   \n",
       "\n",
       "                                               job_desc  job_id  \n",
       "410   Position FP&A (Financial Planning & Analysis) ...       1  \n",
       "411   JOB SUMMARY:  Finance Analyst will oversee the...       1  \n",
       "412               Experienced in Clinical Trials budget       1  \n",
       "413   Job Title: Financial Analyst Location: Houston...       1  \n",
       "414   Job Order: 171631, 12 month contractMAIN FUNCT...       1  \n",
       "...                                                 ...     ...  \n",
       "6555  What will you contribute?  Reporting to the Co...       1  \n",
       "6556  Financial Analyst II  The Texas Department of ...       1  \n",
       "6557  Financial Analyst, Treasury Location: Austin, ...       1  \n",
       "6558  TMD - Budget Analyst I-II (OSA Budget Analyst)...       1  \n",
       "6559  WHO WE ARE:   The Teacher Retirement System of...       1  \n",
       "\n",
       "[1523 rows x 4 columns]"
      ]
     },
     "execution_count": 21,
     "metadata": {},
     "output_type": "execute_result"
    }
   ],
   "source": [
    "resume = \"AQEEL ALI Aqeelali0312@gmail.com | (408) 718-0712 | www.linkedin.com/in/aqeelali786 EDUCATION: California Polytechnic University, San Luis Obispo, CA B.S. Business Administration – Financial Management Concentration Minor in Psychology ● Honors: Principal’s List (3.5+ GPA for three consecutive academic terms) - Fall 2019 ● Relevant Coursework: Financial Engineering in Risk Management, Computer Applications in Finance, Advanced Corporate Finance Chartered Financial Analyst Level Two Candidate Exam Date: Nov 2021 ● Pursuing CFA designation by acquiring a wide breadth of portfolio management skills. ● Level One Exam passed on June 2019. WORK EXPERIENCE: Middle Market Portfolio Analyst – Comerica Bank, San Jose, CA Jul 2019 to Present ● Analyze employer’s Middle Market business for the California region through industry, financial, macroeconomic data and other supporting credit information concerning an applicant's credit requests. ● Identify key business and financial risks that may impact the repayment prospects by the borrower. ● Expertise in Salesforce Data Management and CRM software systems utilized while underwriting to 8-figure commercial banking facilities ranging from $5M to $100M loans and facilities. aggregate exposure of bank assets. ● Prepare, review and assess the creditworthiness of commercial loan originations and renewals by evaluating tax returns, spreads of financial statements, historical trends, rent rolls, leases, projections, management performance, industry reports, cash flow models, capital structure and collateral analysis and other relevant data to analyze portfolio companies’ repayment capacity. ● Ensure the integrity of performance data for clientele and prospects and maintain ongoing relationships with thecustodial partners banks, vendors, and internal groups. ● Offer insights into customer financial needs, including opportunities identified using Line of Business-approved relationship expansion tools. Contribute personal insights related to a loan structure's effectiveness to mitigate risks, appropriate to prevailing competitive market environment and Bank risk tolerances. ● Prepared & presented nation-wide internal quarterly Company Q1 & Q2 2020 earnings reports and portfolio updates (within a team of four). ● Undertook special project initiative while fluidly adapting self-starter work ethic to a remote work environment during the initial rollout of Federal Treasury Payroll Protection Program and reviewed numerous applicants’ eligibility & fund usage during COVID-19 global pandemic. Venture Capital Analyst Intern - LDR Ventures, San Luis Obispo, CA Jan 2019 to Apr 2019 ● Analyzed investment opportunities up to $1.5M, prepared fundraising pitches to external stakeholders and prospective investors, and identified potential risks for early stage portfolio companies ● Assisted in building pricing models to help companies launch multiple new product lines and conduct stress tests under varying scenario analyses. ● Oversaw a personally proposed initiative for a portfolio company’s marketing campaign across universities in California. LEADERSHIP & OTHER RELEVANT EXPERIENCE Banking Valuations, Investment Banking Society San Luis Obispo, CA Jan 2019 to Feb 2019 ● Took an extracurricular course which covered the three main methods of company valuations ● Competed in a Goldman Sachs case competition against over 20 teams to create a pitch deck and presentation for a real case study. Recommended a company’s IPO by analyzing their financial position, creating a pro forma financial model, computing value with several valuation methodologies and examining IPO market conditions Member - MacIntalkers of Toastmasters International Apple Cupertino, CA Jul 2018 to Feb 2020 ● Delivered five public speeches under the “Dynamic Leadership” Pathways project. ● Developed effective communication skills on a weekly basis. \" \n",
    "lyft_job_descdesc = \"Financial Analyst, Strategy Finance at Lyft San Francisco, CA At Lyft, our mission is to improve people’s lives with the world’s best transportation. To do this, we start with our own community by creating an open, inclusive, and diverse organization.  Lyft is hiring a Financial Analyst for its Strategy Finance Team. The candidate in this position will provide financial and analytical support to drive strategic decisions for the company and help prepare financial management reporting. As a Financial Analyst, you will work directly with stakeholders across Finance in forecasting, planning and reporting key metrics to senior leadership.  Responsibilities: Help in analyzing & modeling forecast trends for total company financials Assist in the preparation and analysis of consolidated P&L for actuals and forecasts, help the FP&A team on deliverables, ongoing variance analysis, and ad hoc modeling Help lead the FP&A team through weekly and monthly forecasting Assist in the quarterly and annual strategic planning process Collaborate with Investor Relations by analyzing relevant financial information in preparation for the earnings call and investor presentations Team up with Corporate Development to create Board of Directors financials Partner with FP&A, Accounting, Treasury, Tax, and HR to forecast centralized expenses Drive monthly and quarterly close activities for FP&A and support consolidated management reporting Partner with Accounting to manage close timelines, process and reporting Manage creation of internal executive reporting documents including board, close and other management presentations and workbooks Support initiatives to create process efficiencies & improvements within FP&A Experience: BA/BS with 3+ years of experience in financial planning and analytics (FP&A) in a rigorous environment Corporate Finance, forecasting, or consolidations experience is a plus Detail-oriented and organized self-starter with a drive to dig into complex problems Advanced Excel skills. Experience building complex formulas and manipulating large data sets Ability to work in a fast-paced, team-based environment with minimal supervision Research, quantitative and analytical skills Comfortable navigating through financial statements Ability to organize and track overlapping tasks and assignments, with frequent priority changes Strong interpersonal and communication skills, with the ability to communicate and influence effectively across various departments Benefits: Great medical, dental, and vision insurance options Mental health benefits In addition to 12 observed holidays, salaried team members have unlimited paid time off, hourly team members have 15 days paid time off 401(k) plan to help save for your future 18 weeks of paid parental leave. Biological, adoptive, and foster parents are all eligible Pre-tax commuter benefits Lyft Pink - Lyft team members get an exclusive opportunity to test new benefits of our Ridership Program \" \n",
    "occupation = predict_one(model, resume)\n",
    "\n",
    "desc_df = df[df['job_title']==occupation]\n",
    "desc_df= desc_df.drop(columns = [\"Unnamed: 0\", \"Unnamed: 0.1\"])\n",
    "desc_df"
   ]
  },
  {
   "cell_type": "code",
   "execution_count": 22,
   "id": "60abed8d",
   "metadata": {},
   "outputs": [],
   "source": [
    "# index into df where it matches occupation\n",
    "from sklearn.metrics.pairwise import cosine_similarity\n",
    "\n",
    "desc_df = df[df['job_title']==occupation]\n",
    "\n",
    "desc_df=desc_df.drop(columns = [\"Unnamed: 0\", \"Unnamed: 0.1\"])\n",
    "\n",
    "descs = list(desc_df[\"job_desc\"])\n",
    "\n",
    "d = {}\n",
    "for i in range(len(desc_df)):\n",
    "    url = desc_df.iloc[i,1]\n",
    "    desc = desc_df.iloc[i,2]\n",
    "    desc_matrix = cv.fit_transform([resume,desc])\n",
    "    d[url] = cosine_similarity(desc_matrix)[0][1]    \n"
   ]
  },
  {
   "cell_type": "code",
   "execution_count": 23,
   "id": "394c4c3a",
   "metadata": {},
   "outputs": [
    {
     "data": {
      "text/plain": [
       "[('https://www.indeed.com/rc/clk?jk=431036bac7ce9ce4&fccid=65685d494d2217cd&vjs=3',\n",
       "  0.7186075327330236),\n",
       " ('https://www.indeed.com/rc/clk?jk=ec52df15ab9fece1&fccid=f54837e1fe3c9a9b&vjs=3',\n",
       "  0.714265525031642),\n",
       " ('https://www.indeed.com/rc/clk?jk=e2877e0f44c97bef&fccid=b662340f28f191b1&vjs=3',\n",
       "  0.7097361406153802),\n",
       " ('https://www.indeed.com/rc/clk?jk=c707c9d107647f01&fccid=f684144f16fda6a0&vjs=3',\n",
       "  0.7094554830651129),\n",
       " ('https://www.indeed.com/rc/clk?jk=39f9b9383977e464&fccid=cacc4984d9abfade&vjs=3',\n",
       "  0.7091143159085963)]"
      ]
     },
     "execution_count": 23,
     "metadata": {},
     "output_type": "execute_result"
    }
   ],
   "source": [
    "sorted_d = [(k,v) for k, v in sorted(list(d.items()), key = lambda x : x[1])][::-1]\n",
    "sorted_d[:5]"
   ]
  },
  {
   "cell_type": "code",
   "execution_count": 24,
   "id": "547b54ca",
   "metadata": {},
   "outputs": [
    {
     "ename": "NameError",
     "evalue": "name 'resume_count_matrix' is not defined",
     "output_type": "error",
     "traceback": [
      "\u001b[0;31m---------------------------------------------------------------------------\u001b[0m",
      "\u001b[0;31mNameError\u001b[0m                                 Traceback (most recent call last)",
      "\u001b[0;32m<ipython-input-24-4f64612d8bbf>\u001b[0m in \u001b[0;36m<module>\u001b[0;34m\u001b[0m\n\u001b[0;32m----> 1\u001b[0;31m \u001b[0mmatchPercentage\u001b[0m \u001b[0;34m=\u001b[0m  \u001b[0mround\u001b[0m\u001b[0;34m(\u001b[0m\u001b[0mcosine_similarity\u001b[0m\u001b[0;34m(\u001b[0m\u001b[0mresume_count_matrix\u001b[0m\u001b[0;34m)\u001b[0m\u001b[0;34m[\u001b[0m\u001b[0;36m0\u001b[0m\u001b[0;34m]\u001b[0m\u001b[0;34m[\u001b[0m\u001b[0;36m1\u001b[0m\u001b[0;34m]\u001b[0m\u001b[0;34m*\u001b[0m\u001b[0;36m100\u001b[0m\u001b[0;34m,\u001b[0m\u001b[0;36m2\u001b[0m\u001b[0;34m)\u001b[0m\u001b[0;34m\u001b[0m\u001b[0;34m\u001b[0m\u001b[0m\n\u001b[0m",
      "\u001b[0;31mNameError\u001b[0m: name 'resume_count_matrix' is not defined"
     ]
    }
   ],
   "source": [
    "matchPercentage =  round(cosine_similarity(resume_count_matrix)[0][1]*100,2)"
   ]
  },
  {
   "cell_type": "code",
   "execution_count": null,
   "id": "3f791001",
   "metadata": {},
   "outputs": [],
   "source": [
    "matchPercentage"
   ]
  },
  {
   "cell_type": "code",
   "execution_count": null,
   "id": "5534b32d",
   "metadata": {},
   "outputs": [],
   "source": [
    "from sklearn.model_selection import cross_val_score\n",
    "\n",
    "models = [\n",
    "    LogisticRegression(),\n",
    "    LinearSVC()\n",
    "]\n",
    "CV = 5\n",
    "cv_df = pd.DataFrame(index=range(CV * len(models)))\n",
    "entries = []\n",
    "\n",
    "\n",
    "X_train, X_test, y_train, y_test = _split_data(df)\n",
    "# for _model in models:\n",
    "#     model = fit(_model,X_train,y_train)\n",
    "#     accuracies = cross_val_score(model, X_test, y_test, scoring='accuracy', cv=CV)\n",
    "#     for fold_idx, accuracy in enumerate(accuracies):\n",
    "#         entries.append((_model, fold_idx, accuracy))\n",
    "\n",
    "labels = df['job_title']\n",
    "tfidf = TfidfVectorizer(sublinear_tf=True, min_df=5, norm='l2', encoding='latin-1', ngram_range=(1, 2), stop_words='english')\n",
    "features = tfidf.fit_transform(df['job_desc']).toarray()\n",
    "\n",
    "for _model in models:\n",
    "    model_name = _model.__class__.__name__\n",
    "#     _model = _model.fit(X_train,y_train)\n",
    "    accuracies = cross_val_score(_model, features, labels, scoring='accuracy', cv=CV)\n",
    "    print(accuracies)\n",
    "    for fold_idx, accuracy in enumerate(accuracies):\n",
    "        entries.append((model_name, fold_idx, accuracy))\n",
    "        cv_df = pd.DataFrame(entries, columns=['model_name', 'fold_idx', 'accuracy'])"
   ]
  },
  {
   "cell_type": "code",
   "execution_count": null,
   "id": "0fe054af",
   "metadata": {},
   "outputs": [],
   "source": [
    "cv_df = pd.DataFrame(entries, columns=['model_name', 'fold_idx', 'accuracy'])\n",
    "print(cv_df)"
   ]
  },
  {
   "cell_type": "code",
   "execution_count": null,
   "id": "606a84b2",
   "metadata": {},
   "outputs": [],
   "source": [
    "\n",
    "plt.figure(figsize=(20,20))\n",
    "\n",
    "plt.boxplot(x=cv_df,labels = labels)\n",
    "\n",
    "# labels = [\"Chemical Engineer\" ,  \"Data Scientist\", \"Financial Analyst\" ,  \"Physician\",   \"Recruiter\" ,  \"Underwriter\"]\n",
    "labels = \"Logistics Regression\",\"Linear SVC\" , "
   ]
  },
  {
   "cell_type": "code",
   "execution_count": null,
   "id": "80ec5e92",
   "metadata": {},
   "outputs": [],
   "source": [
    "\n",
    "import seaborn as sns\n",
    "\n",
    "labels = cv_df['model_name']\n",
    "sns.boxplot(x='model_name', y='accuracy', data=cv_df)\n",
    "sns.stripplot(x='model_name', y='accuracy', data=cv_df, \n",
    "              size=8, jitter=True, edgecolor=\"gray\", linewidth=2)\n",
    "plt.figure(20,20)\n",
    "plt.show()"
   ]
  },
  {
   "cell_type": "code",
   "execution_count": null,
   "id": "84ac8517",
   "metadata": {},
   "outputs": [],
   "source": []
  }
 ],
 "metadata": {
  "kernelspec": {
   "display_name": "Python 3",
   "language": "python",
   "name": "python3"
  },
  "language_info": {
   "codemirror_mode": {
    "name": "ipython",
    "version": 3
   },
   "file_extension": ".py",
   "mimetype": "text/x-python",
   "name": "python",
   "nbconvert_exporter": "python",
   "pygments_lexer": "ipython3",
   "version": "3.8.10"
  }
 },
 "nbformat": 4,
 "nbformat_minor": 5
}
